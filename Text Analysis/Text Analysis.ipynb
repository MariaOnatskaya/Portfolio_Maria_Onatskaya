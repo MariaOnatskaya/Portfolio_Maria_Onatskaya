{
 "cells": [
  {
   "cell_type": "markdown",
   "metadata": {},
   "source": [
    "<h1>Table of Contents<span class=\"tocSkip\"></span></h1>\n",
    "<div class=\"toc\"><ul class=\"toc-item\"><li><span><a href=\"#Data-Loading-and-Preparation\" data-toc-modified-id=\"Data-Loading-and-Preparation-1\"><span class=\"toc-item-num\">1&nbsp;&nbsp;</span>Data Loading and Preparation</a></span><ul class=\"toc-item\"><li><span><a href=\"#Importing-Required-Libraries\" data-toc-modified-id=\"Importing-Required-Libraries-1.1\"><span class=\"toc-item-num\">1.1&nbsp;&nbsp;</span>Importing Required Libraries</a></span></li><li><span><a href=\"#Open-the-file-and-explore-the-data.\" data-toc-modified-id=\"Open-the-file-and-explore-the-data.-1.2\"><span class=\"toc-item-num\">1.2&nbsp;&nbsp;</span>Open the file and explore the data.</a></span></li></ul></li><li><span><a href=\"#Text-Preparation\" data-toc-modified-id=\"Text-Preparation-2\"><span class=\"toc-item-num\">2&nbsp;&nbsp;</span>Text Preparation</a></span><ul class=\"toc-item\"><li><span><a href=\"#Text-cleaning\" data-toc-modified-id=\"Text-cleaning-2.1\"><span class=\"toc-item-num\">2.1&nbsp;&nbsp;</span>Text cleaning</a></span></li><li><span><a href=\"#Lemmatize,-tokenize,-and-remove-stop-words\" data-toc-modified-id=\"Lemmatize,-tokenize,-and-remove-stop-words-2.2\"><span class=\"toc-item-num\">2.2&nbsp;&nbsp;</span>Lemmatize, tokenize, and remove stop words</a></span></li><li><span><a href=\"#Let's-check-for-class-imbalance-in-the-target-feature\" data-toc-modified-id=\"Let's-check-for-class-imbalance-in-the-target-feature-2.3\"><span class=\"toc-item-num\">2.3&nbsp;&nbsp;</span>Let's check for class imbalance in the target feature</a></span></li><li><span><a href=\"#Word-count-and-word-length-in-the-text\" data-toc-modified-id=\"Word-count-and-word-length-in-the-text-2.4\"><span class=\"toc-item-num\">2.4&nbsp;&nbsp;</span>Word count and word length in the text</a></span></li><li><span><a href=\"#Split-the-data-into-training-and-test-sets\" data-toc-modified-id=\"Split-the-data-into-training-and-test-sets-2.5\"><span class=\"toc-item-num\">2.5&nbsp;&nbsp;</span>Split the data into training and test sets</a></span></li></ul></li><li><span><a href=\"#Training\" data-toc-modified-id=\"Training-3\"><span class=\"toc-item-num\">3&nbsp;&nbsp;</span>Training</a></span><ul class=\"toc-item\"><li><span><a href=\"#LogisticRegression\" data-toc-modified-id=\"LogisticRegression-3.1\"><span class=\"toc-item-num\">3.1&nbsp;&nbsp;</span>LogisticRegression</a></span></li><li><span><a href=\"#LGBMClassifier\" data-toc-modified-id=\"LGBMClassifier-3.2\"><span class=\"toc-item-num\">3.2&nbsp;&nbsp;</span>LGBMClassifier</a></span></li></ul></li><li><span><a href=\"#DecisionTreeClassifier\" data-toc-modified-id=\"DecisionTreeClassifier-4\"><span class=\"toc-item-num\">4&nbsp;&nbsp;</span>DecisionTreeClassifier</a></span></li><li><span><a href=\"#Evaluation-of-the-Best-Solution-on-the-Test-Set\" data-toc-modified-id=\"Evaluation-of-the-Best-Solution-on-the-Test-Set-5\"><span class=\"toc-item-num\">5&nbsp;&nbsp;</span>Evaluation of the Best Solution on the Test Set</a></span></li><li><span><a href=\"#Conclusions\" data-toc-modified-id=\"Conclusions-6\"><span class=\"toc-item-num\">6&nbsp;&nbsp;</span>Conclusions</a></span></li></ul></div>\n"
   ]
  },
  {
   "cell_type": "markdown",
   "metadata": {},
   "source": [
    "# User Comment Toxicity Analysis"
   ]
  },
  {
   "cell_type": "markdown",
   "metadata": {},
   "source": [
    "The online store is launching a new service that allows users to edit and enhance product descriptions in a wiki-style community format. Users can suggest edits and comment on changes made by others.  \n",
    "\n",
    "To maintain a positive environment, the store requires a tool to **detect toxic comments** and send them for moderation.  \n",
    "\n",
    "**Task**  \n",
    "Train a model to classify comments as **positive** or **negative** using a labeled dataset.  \n",
    "The target metric is **F1-score ≥ 0.75**.  \n",
    "\n",
    "**Selected Models for Evaluation**  \n",
    "In collaboration with the client, the following models have been chosen for testing:  \n",
    "- **LogisticRegression**  \n",
    "- **LGBMClassifier**  \n",
    "- **DecisionTreeClassifier**  \n",
    "\n",
    "**Project Plan**  \n",
    "1. Load and preprocess the data.  \n",
    "2. Train the models.  \n",
    "3. Evaluate the models on the test set and draw conclusions.  \n",
    "\n",
    "**Dataset Description**  \n",
    "The dataset is stored in **toxic_comments.csv** and contains the following columns:  \n",
    "- **text** – Comment text  \n",
    "- **toxic** – Target variable (0 for positive, 1 for toxic)"
   ]
  },
  {
   "cell_type": "markdown",
   "metadata": {},
   "source": [
    "## Data Loading and Preparation"
   ]
  },
  {
   "cell_type": "markdown",
   "metadata": {},
   "source": [
    "### Importing Required Libraries"
   ]
  },
  {
   "cell_type": "code",
   "execution_count": 1,
   "metadata": {
    "scrolled": true
   },
   "outputs": [
    {
     "name": "stdout",
     "output_type": "stream",
     "text": [
      "Requirement already satisfied: gensim in c:\\users\\rx330\\anaconda3\\envs\\practicum\\lib\\site-packages (4.3.3)\n",
      "Requirement already satisfied: numpy<2.0,>=1.18.5 in c:\\users\\rx330\\anaconda3\\envs\\practicum\\lib\\site-packages (from gensim) (1.26.4)\n",
      "Requirement already satisfied: scipy<1.14.0,>=1.7.0 in c:\\users\\rx330\\anaconda3\\envs\\practicum\\lib\\site-packages (from gensim) (1.13.1)\n",
      "Requirement already satisfied: smart-open>=1.8.1 in c:\\users\\rx330\\anaconda3\\envs\\practicum\\lib\\site-packages (from gensim) (7.0.5)\n",
      "Requirement already satisfied: wrapt in c:\\users\\rx330\\anaconda3\\envs\\practicum\\lib\\site-packages (from smart-open>=1.8.1->gensim) (1.16.0)\n"
     ]
    },
    {
     "name": "stderr",
     "output_type": "stream",
     "text": [
      "WARNING: Ignoring invalid distribution -atplotlib (c:\\users\\rx330\\anaconda3\\envs\\practicum\\lib\\site-packages)\n",
      "WARNING: Ignoring invalid distribution -atplotlib (c:\\users\\rx330\\anaconda3\\envs\\practicum\\lib\\site-packages)\n"
     ]
    },
    {
     "name": "stdout",
     "output_type": "stream",
     "text": [
      "Requirement already satisfied: xgboost in c:\\users\\rx330\\anaconda3\\envs\\practicum\\lib\\site-packages (2.1.2)"
     ]
    },
    {
     "name": "stderr",
     "output_type": "stream",
     "text": [
      "WARNING: Ignoring invalid distribution -atplotlib (c:\\users\\rx330\\anaconda3\\envs\\practicum\\lib\\site-packages)\n",
      "WARNING: Ignoring invalid distribution -atplotlib (c:\\users\\rx330\\anaconda3\\envs\\practicum\\lib\\site-packages)\n"
     ]
    },
    {
     "name": "stdout",
     "output_type": "stream",
     "text": [
      "\n",
      "Requirement already satisfied: numpy in c:\\users\\rx330\\anaconda3\\envs\\practicum\\lib\\site-packages (from xgboost) (1.26.4)\n",
      "Requirement already satisfied: scipy in c:\\users\\rx330\\anaconda3\\envs\\practicum\\lib\\site-packages (from xgboost) (1.13.1)\n",
      "Requirement already satisfied: lightgbm in c:\\users\\rx330\\anaconda3\\envs\\practicum\\lib\\site-packages (4.5.0)\n",
      "Requirement already satisfied: numpy>=1.17.0 in c:\\users\\rx330\\anaconda3\\envs\\practicum\\lib\\site-packages (from lightgbm) (1.26.4)\n",
      "Requirement already satisfied: scipy in c:\\users\\rx330\\anaconda3\\envs\\practicum\\lib\\site-packages (from lightgbm) (1.13.1)\n"
     ]
    },
    {
     "name": "stderr",
     "output_type": "stream",
     "text": [
      "WARNING: Ignoring invalid distribution -atplotlib (c:\\users\\rx330\\anaconda3\\envs\\practicum\\lib\\site-packages)\n",
      "WARNING: Ignoring invalid distribution -atplotlib (c:\\users\\rx330\\anaconda3\\envs\\practicum\\lib\\site-packages)\n"
     ]
    },
    {
     "name": "stdout",
     "output_type": "stream",
     "text": [
      "Requirement already satisfied: wordcloud in c:\\users\\rx330\\anaconda3\\envs\\practicum\\lib\\site-packages (1.9.3)\n",
      "Requirement already satisfied: numpy>=1.6.1 in c:\\users\\rx330\\anaconda3\\envs\\practicum\\lib\\site-packages (from wordcloud) (1.26.4)\n",
      "Requirement already satisfied: pillow in c:\\users\\rx330\\anaconda3\\envs\\practicum\\lib\\site-packages (from wordcloud) (10.3.0)\n",
      "Requirement already satisfied: matplotlib in c:\\users\\rx330\\anaconda3\\envs\\practicum\\lib\\site-packages (from wordcloud) (3.3.4)\n",
      "Requirement already satisfied: cycler>=0.10 in c:\\users\\rx330\\anaconda3\\envs\\practicum\\lib\\site-packages (from matplotlib->wordcloud) (0.12.1)\n",
      "Requirement already satisfied: kiwisolver>=1.0.1 in c:\\users\\rx330\\anaconda3\\envs\\practicum\\lib\\site-packages (from matplotlib->wordcloud) (1.4.5)\n",
      "Requirement already satisfied: pyparsing!=2.0.4,!=2.1.2,!=2.1.6,>=2.0.3 in c:\\users\\rx330\\anaconda3\\envs\\practicum\\lib\\site-packages (from matplotlib->wordcloud) (3.1.2)\n",
      "Requirement already satisfied: python-dateutil>=2.1 in c:\\users\\rx330\\anaconda3\\envs\\practicum\\lib\\site-packages (from matplotlib->wordcloud) (2.9.0)\n",
      "Requirement already satisfied: six>=1.5 in c:\\users\\rx330\\anaconda3\\envs\\practicum\\lib\\site-packages (from python-dateutil>=2.1->matplotlib->wordcloud) (1.16.0)\n"
     ]
    },
    {
     "name": "stderr",
     "output_type": "stream",
     "text": [
      "WARNING: Ignoring invalid distribution -atplotlib (c:\\users\\rx330\\anaconda3\\envs\\practicum\\lib\\site-packages)\n",
      "WARNING: Ignoring invalid distribution -atplotlib (c:\\users\\rx330\\anaconda3\\envs\\practicum\\lib\\site-packages)\n"
     ]
    },
    {
     "name": "stdout",
     "output_type": "stream",
     "text": [
      "Requirement already satisfied: tqdm in c:\\users\\rx330\\anaconda3\\envs\\practicum\\lib\\site-packages (4.66.4)\n",
      "Requirement already satisfied: colorama in c:\\users\\rx330\\anaconda3\\envs\\practicum\\lib\\site-packages (from tqdm) (0.4.6)\n"
     ]
    },
    {
     "name": "stderr",
     "output_type": "stream",
     "text": [
      "WARNING: Ignoring invalid distribution -atplotlib (c:\\users\\rx330\\anaconda3\\envs\\practicum\\lib\\site-packages)\n",
      "WARNING: Ignoring invalid distribution -atplotlib (c:\\users\\rx330\\anaconda3\\envs\\practicum\\lib\\site-packages)\n"
     ]
    },
    {
     "name": "stdout",
     "output_type": "stream",
     "text": [
      "Requirement already satisfied: matplotlib==3.3.4 in c:\\users\\rx330\\anaconda3\\envs\\practicum\\lib\\site-packages (3.3.4)"
     ]
    },
    {
     "name": "stderr",
     "output_type": "stream",
     "text": [
      "WARNING: Ignoring invalid distribution -atplotlib (c:\\users\\rx330\\anaconda3\\envs\\practicum\\lib\\site-packages)\n",
      "WARNING: Ignoring invalid distribution -atplotlib (c:\\users\\rx330\\anaconda3\\envs\\practicum\\lib\\site-packages)\n"
     ]
    },
    {
     "name": "stdout",
     "output_type": "stream",
     "text": [
      "\n",
      "Requirement already satisfied: seaborn==0.11.1 in c:\\users\\rx330\\anaconda3\\envs\\practicum\\lib\\site-packages (0.11.1)\n",
      "Requirement already satisfied: cycler>=0.10 in c:\\users\\rx330\\anaconda3\\envs\\practicum\\lib\\site-packages (from matplotlib==3.3.4) (0.12.1)\n",
      "Requirement already satisfied: kiwisolver>=1.0.1 in c:\\users\\rx330\\anaconda3\\envs\\practicum\\lib\\site-packages (from matplotlib==3.3.4) (1.4.5)\n",
      "Requirement already satisfied: numpy>=1.15 in c:\\users\\rx330\\anaconda3\\envs\\practicum\\lib\\site-packages (from matplotlib==3.3.4) (1.26.4)\n",
      "Requirement already satisfied: pillow>=6.2.0 in c:\\users\\rx330\\anaconda3\\envs\\practicum\\lib\\site-packages (from matplotlib==3.3.4) (10.3.0)\n",
      "Requirement already satisfied: pyparsing!=2.0.4,!=2.1.2,!=2.1.6,>=2.0.3 in c:\\users\\rx330\\anaconda3\\envs\\practicum\\lib\\site-packages (from matplotlib==3.3.4) (3.1.2)\n",
      "Requirement already satisfied: python-dateutil>=2.1 in c:\\users\\rx330\\anaconda3\\envs\\practicum\\lib\\site-packages (from matplotlib==3.3.4) (2.9.0)\n",
      "Requirement already satisfied: scipy>=1.0 in c:\\users\\rx330\\anaconda3\\envs\\practicum\\lib\\site-packages (from seaborn==0.11.1) (1.13.1)\n",
      "Requirement already satisfied: pandas>=0.23 in c:\\users\\rx330\\anaconda3\\envs\\practicum\\lib\\site-packages (from seaborn==0.11.1) (2.2.3)\n",
      "Requirement already satisfied: pytz>=2020.1 in c:\\users\\rx330\\anaconda3\\envs\\practicum\\lib\\site-packages (from pandas>=0.23->seaborn==0.11.1) (2024.1)\n",
      "Requirement already satisfied: tzdata>=2022.7 in c:\\users\\rx330\\anaconda3\\envs\\practicum\\lib\\site-packages (from pandas>=0.23->seaborn==0.11.1) (2024.2)\n",
      "Requirement already satisfied: six>=1.5 in c:\\users\\rx330\\anaconda3\\envs\\practicum\\lib\\site-packages (from python-dateutil>=2.1->matplotlib==3.3.4) (1.16.0)\n"
     ]
    }
   ],
   "source": [
    "!pip install gensim\n",
    "!pip install xgboost\n",
    "!pip install lightgbm\n",
    "!pip install wordcloud\n",
    "!pip install tqdm\n",
    "!pip install matplotlib==3.3.4 seaborn==0.11.1"
   ]
  },
  {
   "cell_type": "code",
   "execution_count": 2,
   "metadata": {},
   "outputs": [
    {
     "name": "stderr",
     "output_type": "stream",
     "text": [
      "[nltk_data] Downloading package stopwords to\n",
      "[nltk_data]     C:\\Users\\rx330\\AppData\\Roaming\\nltk_data...\n",
      "[nltk_data]   Package stopwords is already up-to-date!\n",
      "[nltk_data] Downloading package punkt to\n",
      "[nltk_data]     C:\\Users\\rx330\\AppData\\Roaming\\nltk_data...\n",
      "[nltk_data]   Package punkt is already up-to-date!\n",
      "[nltk_data] Downloading package averaged_perceptron_tagger to\n",
      "[nltk_data]     C:\\Users\\rx330\\AppData\\Roaming\\nltk_data...\n",
      "[nltk_data]   Package averaged_perceptron_tagger is already up-to-\n",
      "[nltk_data]       date!\n",
      "[nltk_data] Downloading package wordnet to\n",
      "[nltk_data]     C:\\Users\\rx330\\AppData\\Roaming\\nltk_data...\n",
      "[nltk_data]   Package wordnet is already up-to-date!\n"
     ]
    },
    {
     "name": "stdout",
     "output_type": "stream",
     "text": [
      "Libraries imported\n"
     ]
    }
   ],
   "source": [
    "# 1. Core Libraries\n",
    "import os\n",
    "import pandas as pd\n",
    "import numpy as np\n",
    "import time\n",
    "import seaborn as sns\n",
    "import matplotlib\n",
    "import matplotlib.pyplot as plt\n",
    "from tqdm import tqdm\n",
    "from tqdm.notebook import tqdm\n",
    "import time\n",
    "\n",
    "# 2. NLTK and Text Processing\n",
    "import nltk\n",
    "import re\n",
    "from nltk.corpus import wordnet\n",
    "from nltk.corpus import stopwords\n",
    "from nltk.tokenize import word_tokenize\n",
    "from nltk.stem import WordNetLemmatizer\n",
    "from nltk.sentiment import SentimentIntensityAnalyzer\n",
    "from wordcloud import WordCloud\n",
    "from matplotlib import rc\n",
    "\n",
    "# Loading Necessary NLTK Resources\n",
    "nltk.download('stopwords')\n",
    "nltk.download('punkt')\n",
    "nltk.download('averaged_perceptron_tagger')\n",
    "nltk.download('wordnet')\n",
    "\n",
    "# 3. Machine Learning Models\n",
    "from sklearn.feature_extraction.text import TfidfVectorizer\n",
    "from sklearn.model_selection import train_test_split, GridSearchCV, RandomizedSearchCV\n",
    "from sklearn.pipeline import Pipeline\n",
    "from sklearn.linear_model import LogisticRegression\n",
    "from sklearn.tree import DecisionTreeClassifier\n",
    "from lightgbm import LGBMClassifier\n",
    "from sklearn.metrics import (f1_score, recall_score, precision_score, confusion_matrix)\n",
    "from sklearn.model_selection import cross_val_score\n",
    "\n",
    "# 4. NLTK resources\n",
    "from warnings import simplefilter\n",
    "\n",
    "# 5. Warnings\n",
    "import warnings\n",
    "warnings.simplefilter(action='ignore', category=FutureWarning)\n",
    "\n",
    "# the path to the TrueType\n",
    "font_path = r'XXXXXX.ttf'\n",
    "\n",
    "print('Libraries imported')"
   ]
  },
  {
   "cell_type": "code",
   "execution_count": 3,
   "metadata": {},
   "outputs": [],
   "source": [
    "RANDOM_STATE = 42"
   ]
  },
  {
   "cell_type": "markdown",
   "metadata": {},
   "source": [
    "Let's write a function to measure the training time of the model."
   ]
  },
  {
   "cell_type": "code",
   "execution_count": 4,
   "metadata": {},
   "outputs": [],
   "source": [
    "def measure_training_time(model, X_train, y_train):\n",
    "    start_time_training = time.time()\n",
    "    # Training the model on data\n",
    "    model.fit(X_train, y_train)\n",
    "    end_time_training = time.time()\n",
    "    training_time = end_time_training - start_time_training\n",
    "    return training_time"
   ]
  },
  {
   "cell_type": "markdown",
   "metadata": {},
   "source": [
    "### Open the file and explore the data."
   ]
  },
  {
   "cell_type": "code",
   "execution_count": 5,
   "metadata": {
    "scrolled": true
   },
   "outputs": [],
   "source": [
    "# Main file path\n",
    "main_path = r'XXXXX\\toxic_comments.csv'\n",
    "# Alternative file paths\n",
    "pth1 = '/datasets/toxic_comments.csv'\n",
    "\n",
    "# Check for the main file; if it doesn't exist, search in other directories.\n",
    "if os.path.exists(main_path):\n",
    "    data = pd.read_csv(main_path, index_col=0)\n",
    "elif os.path.exists(pth1):\n",
    "    data = pd.read_csv(pth1, index_col=0)\n",
    "else:\n",
    "    print('Something is wrong')"
   ]
  },
  {
   "cell_type": "code",
   "execution_count": 6,
   "metadata": {},
   "outputs": [
    {
     "data": {
      "text/plain": [
       "(159292, 2)"
      ]
     },
     "metadata": {},
     "output_type": "display_data"
    },
    {
     "name": "stdout",
     "output_type": "stream",
     "text": [
      "<class 'pandas.core.frame.DataFrame'>\n",
      "Index: 159292 entries, 0 to 159450\n",
      "Data columns (total 2 columns):\n",
      " #   Column  Non-Null Count   Dtype \n",
      "---  ------  --------------   ----- \n",
      " 0   text    159292 non-null  object\n",
      " 1   toxic   159292 non-null  int64 \n",
      "dtypes: int64(1), object(1)\n",
      "memory usage: 3.6+ MB\n"
     ]
    },
    {
     "data": {
      "text/html": [
       "<div>\n",
       "<style scoped>\n",
       "    .dataframe tbody tr th:only-of-type {\n",
       "        vertical-align: middle;\n",
       "    }\n",
       "\n",
       "    .dataframe tbody tr th {\n",
       "        vertical-align: top;\n",
       "    }\n",
       "\n",
       "    .dataframe thead th {\n",
       "        text-align: right;\n",
       "    }\n",
       "</style>\n",
       "<table border=\"1\" class=\"dataframe\">\n",
       "  <thead>\n",
       "    <tr style=\"text-align: right;\">\n",
       "      <th></th>\n",
       "      <th>text</th>\n",
       "      <th>toxic</th>\n",
       "    </tr>\n",
       "  </thead>\n",
       "  <tbody>\n",
       "    <tr>\n",
       "      <th>0</th>\n",
       "      <td>Explanation\\nWhy the edits made under my usern...</td>\n",
       "      <td>0</td>\n",
       "    </tr>\n",
       "    <tr>\n",
       "      <th>1</th>\n",
       "      <td>D'aww! He matches this background colour I'm s...</td>\n",
       "      <td>0</td>\n",
       "    </tr>\n",
       "    <tr>\n",
       "      <th>2</th>\n",
       "      <td>Hey man, I'm really not trying to edit war. It...</td>\n",
       "      <td>0</td>\n",
       "    </tr>\n",
       "    <tr>\n",
       "      <th>3</th>\n",
       "      <td>\"\\nMore\\nI can't make any real suggestions on ...</td>\n",
       "      <td>0</td>\n",
       "    </tr>\n",
       "    <tr>\n",
       "      <th>4</th>\n",
       "      <td>You, sir, are my hero. Any chance you remember...</td>\n",
       "      <td>0</td>\n",
       "    </tr>\n",
       "    <tr>\n",
       "      <th>5</th>\n",
       "      <td>\"\\n\\nCongratulations from me as well, use the ...</td>\n",
       "      <td>0</td>\n",
       "    </tr>\n",
       "    <tr>\n",
       "      <th>6</th>\n",
       "      <td>COCKSUCKER BEFORE YOU PISS AROUND ON MY WORK</td>\n",
       "      <td>1</td>\n",
       "    </tr>\n",
       "    <tr>\n",
       "      <th>7</th>\n",
       "      <td>Your vandalism to the Matt Shirvington article...</td>\n",
       "      <td>0</td>\n",
       "    </tr>\n",
       "    <tr>\n",
       "      <th>8</th>\n",
       "      <td>Sorry if the word 'nonsense' was offensive to ...</td>\n",
       "      <td>0</td>\n",
       "    </tr>\n",
       "    <tr>\n",
       "      <th>9</th>\n",
       "      <td>alignment on this subject and which are contra...</td>\n",
       "      <td>0</td>\n",
       "    </tr>\n",
       "  </tbody>\n",
       "</table>\n",
       "</div>"
      ],
      "text/plain": [
       "                                                text  toxic\n",
       "0  Explanation\\nWhy the edits made under my usern...      0\n",
       "1  D'aww! He matches this background colour I'm s...      0\n",
       "2  Hey man, I'm really not trying to edit war. It...      0\n",
       "3  \"\\nMore\\nI can't make any real suggestions on ...      0\n",
       "4  You, sir, are my hero. Any chance you remember...      0\n",
       "5  \"\\n\\nCongratulations from me as well, use the ...      0\n",
       "6       COCKSUCKER BEFORE YOU PISS AROUND ON MY WORK      1\n",
       "7  Your vandalism to the Matt Shirvington article...      0\n",
       "8  Sorry if the word 'nonsense' was offensive to ...      0\n",
       "9  alignment on this subject and which are contra...      0"
      ]
     },
     "metadata": {},
     "output_type": "display_data"
    }
   ],
   "source": [
    "display(data.shape)\n",
    "data.info()\n",
    "display(data.head(10))"
   ]
  },
  {
   "cell_type": "markdown",
   "metadata": {},
   "source": [
    "The file consists of 159,292 rows and 2 columns.  \n",
    "\n",
    "The data type of the \"toxic\" feature can be changed to a more compact one to reduce the table's memory usage."
   ]
  },
  {
   "cell_type": "code",
   "execution_count": 7,
   "metadata": {},
   "outputs": [
    {
     "name": "stdout",
     "output_type": "stream",
     "text": [
      "<class 'pandas.core.frame.DataFrame'>\n",
      "Index: 159292 entries, 0 to 159450\n",
      "Data columns (total 2 columns):\n",
      " #   Column  Non-Null Count   Dtype \n",
      "---  ------  --------------   ----- \n",
      " 0   text    159292 non-null  object\n",
      " 1   toxic   159292 non-null  uint8 \n",
      "dtypes: object(1), uint8(1)\n",
      "memory usage: 2.6+ MB\n"
     ]
    }
   ],
   "source": [
    "data['toxic'] = data['toxic'].astype('uint8')\n",
    "data.info()"
   ]
  },
  {
   "cell_type": "markdown",
   "metadata": {},
   "source": [
    "The memory usage has been reduced by 30%."
   ]
  },
  {
   "cell_type": "markdown",
   "metadata": {},
   "source": [
    "## Text Preparation"
   ]
  },
  {
   "cell_type": "markdown",
   "metadata": {},
   "source": [
    "Let's check for duplicates and missing values."
   ]
  },
  {
   "cell_type": "code",
   "execution_count": 8,
   "metadata": {},
   "outputs": [
    {
     "data": {
      "text/plain": [
       "0"
      ]
     },
     "execution_count": 8,
     "metadata": {},
     "output_type": "execute_result"
    }
   ],
   "source": [
    "data.duplicated().sum()"
   ]
  },
  {
   "cell_type": "code",
   "execution_count": 9,
   "metadata": {},
   "outputs": [
    {
     "data": {
      "text/plain": [
       "text     0\n",
       "toxic    0\n",
       "dtype: int64"
      ]
     },
     "execution_count": 9,
     "metadata": {},
     "output_type": "execute_result"
    }
   ],
   "source": [
    "data.isna().sum()"
   ]
  },
  {
   "cell_type": "markdown",
   "metadata": {},
   "source": [
    "No duplicates or missing values were found."
   ]
  },
  {
   "cell_type": "markdown",
   "metadata": {},
   "source": [
    "### Text cleaning"
   ]
  },
  {
   "cell_type": "markdown",
   "metadata": {},
   "source": [
    "We will convert the text to lowercase, remove unnecessary characters and spaces, and keep only English alphabet letters."
   ]
  },
  {
   "cell_type": "code",
   "execution_count": 10,
   "metadata": {},
   "outputs": [],
   "source": [
    "tqdm.pandas()"
   ]
  },
  {
   "cell_type": "code",
   "execution_count": 11,
   "metadata": {
    "scrolled": true
   },
   "outputs": [
    {
     "data": {
      "application/vnd.jupyter.widget-view+json": {
       "model_id": "c7a93bc5ec1247c781d153205478b449",
       "version_major": 2,
       "version_minor": 0
      },
      "text/plain": [
       "  0%|          | 0/159292 [00:00<?, ?it/s]"
      ]
     },
     "metadata": {},
     "output_type": "display_data"
    },
    {
     "data": {
      "text/html": [
       "<div>\n",
       "<style scoped>\n",
       "    .dataframe tbody tr th:only-of-type {\n",
       "        vertical-align: middle;\n",
       "    }\n",
       "\n",
       "    .dataframe tbody tr th {\n",
       "        vertical-align: top;\n",
       "    }\n",
       "\n",
       "    .dataframe thead th {\n",
       "        text-align: right;\n",
       "    }\n",
       "</style>\n",
       "<table border=\"1\" class=\"dataframe\">\n",
       "  <thead>\n",
       "    <tr style=\"text-align: right;\">\n",
       "      <th></th>\n",
       "      <th>text</th>\n",
       "      <th>toxic</th>\n",
       "    </tr>\n",
       "  </thead>\n",
       "  <tbody>\n",
       "    <tr>\n",
       "      <th>0</th>\n",
       "      <td>explanation why the edits made under my userna...</td>\n",
       "      <td>0</td>\n",
       "    </tr>\n",
       "    <tr>\n",
       "      <th>1</th>\n",
       "      <td>d aww  he matches this background colour i m s...</td>\n",
       "      <td>0</td>\n",
       "    </tr>\n",
       "    <tr>\n",
       "      <th>2</th>\n",
       "      <td>hey man  i m really not trying to edit war  it...</td>\n",
       "      <td>0</td>\n",
       "    </tr>\n",
       "    <tr>\n",
       "      <th>3</th>\n",
       "      <td>more i can t make any real suggestions on impr...</td>\n",
       "      <td>0</td>\n",
       "    </tr>\n",
       "    <tr>\n",
       "      <th>4</th>\n",
       "      <td>you  sir  are my hero  any chance you remember...</td>\n",
       "      <td>0</td>\n",
       "    </tr>\n",
       "  </tbody>\n",
       "</table>\n",
       "</div>"
      ],
      "text/plain": [
       "                                                text  toxic\n",
       "0  explanation why the edits made under my userna...      0\n",
       "1  d aww  he matches this background colour i m s...      0\n",
       "2  hey man  i m really not trying to edit war  it...      0\n",
       "3  more i can t make any real suggestions on impr...      0\n",
       "4  you  sir  are my hero  any chance you remember...      0"
      ]
     },
     "execution_count": 11,
     "metadata": {},
     "output_type": "execute_result"
    }
   ],
   "source": [
    "def cleaning(text):\n",
    "    text = re.sub(r'(?:\\n|\\r)', ' ', text)\n",
    "    text = re.sub(r'[^a-zA-Z ]+', ' ', text).strip()\n",
    "    text = text.lower()\n",
    "    return text\n",
    "\n",
    "data['text'] = data['text'].progress_apply(cleaning)\n",
    "data.head()"
   ]
  },
  {
   "cell_type": "markdown",
   "metadata": {},
   "source": [
    "### Lemmatize, tokenize, and remove stop words"
   ]
  },
  {
   "cell_type": "code",
   "execution_count": 12,
   "metadata": {},
   "outputs": [],
   "source": [
    "# Initialization of Stop Words and Lemmatizer\n",
    "stop_words_set = set(stopwords.words('english'))\n",
    "lemmatizer = WordNetLemmatizer()"
   ]
  },
  {
   "cell_type": "code",
   "execution_count": 13,
   "metadata": {},
   "outputs": [],
   "source": [
    "##### Function for part-of-speech mapping\n",
    "def get_wordnet_pos(word):\n",
    "    \"\"\"Map POS tag to first character lemmatize() accepts\"\"\"\n",
    "    tag = nltk.pos_tag([word])[0][1][0].upper()\n",
    "    tag_dict = {\"J\": wordnet.ADJ,\n",
    "                \"N\": wordnet.NOUN,\n",
    "                \"V\": wordnet.VERB,\n",
    "                \"R\": wordnet.ADV}\n",
    "    return tag_dict.get(tag, wordnet.NOUN)\n",
    "\n",
    "# Function for text lemmatization\n",
    "def lem(text): \n",
    "    tokens = word_tokenize(text) \n",
    "    lemmatized_tokens = [\n",
    "        lemmatizer.lemmatize(word, get_wordnet_pos(word)) \n",
    "        for word in tokens if word.lower() not in stop_words_set\n",
    "    ]\n",
    "    return \" \".join(lemmatized_tokens)"
   ]
  },
  {
   "cell_type": "code",
   "execution_count": 14,
   "metadata": {},
   "outputs": [
    {
     "data": {
      "application/vnd.jupyter.widget-view+json": {
       "model_id": "49d19ba0da3441499cf2446be09cd5ae",
       "version_major": 2,
       "version_minor": 0
      },
      "text/plain": [
       "  0%|          | 0/159292 [00:00<?, ?it/s]"
      ]
     },
     "metadata": {},
     "output_type": "display_data"
    },
    {
     "name": "stdout",
     "output_type": "stream",
     "text": [
      "CPU times: total: 1h 15min 40s\n",
      "Wall time: 1h 17min 16s\n"
     ]
    },
    {
     "data": {
      "text/html": [
       "<div>\n",
       "<style scoped>\n",
       "    .dataframe tbody tr th:only-of-type {\n",
       "        vertical-align: middle;\n",
       "    }\n",
       "\n",
       "    .dataframe tbody tr th {\n",
       "        vertical-align: top;\n",
       "    }\n",
       "\n",
       "    .dataframe thead th {\n",
       "        text-align: right;\n",
       "    }\n",
       "</style>\n",
       "<table border=\"1\" class=\"dataframe\">\n",
       "  <thead>\n",
       "    <tr style=\"text-align: right;\">\n",
       "      <th></th>\n",
       "      <th>text</th>\n",
       "      <th>toxic</th>\n",
       "      <th>lemmatized_text</th>\n",
       "    </tr>\n",
       "  </thead>\n",
       "  <tbody>\n",
       "    <tr>\n",
       "      <th>0</th>\n",
       "      <td>explanation why the edits made under my userna...</td>\n",
       "      <td>0</td>\n",
       "      <td>explanation edits make username hardcore metal...</td>\n",
       "    </tr>\n",
       "    <tr>\n",
       "      <th>1</th>\n",
       "      <td>d aww  he matches this background colour i m s...</td>\n",
       "      <td>0</td>\n",
       "      <td>aww match background colour seemingly stuck th...</td>\n",
       "    </tr>\n",
       "    <tr>\n",
       "      <th>2</th>\n",
       "      <td>hey man  i m really not trying to edit war  it...</td>\n",
       "      <td>0</td>\n",
       "      <td>hey man really try edit war guy constantly rem...</td>\n",
       "    </tr>\n",
       "    <tr>\n",
       "      <th>3</th>\n",
       "      <td>more i can t make any real suggestions on impr...</td>\n",
       "      <td>0</td>\n",
       "      <td>make real suggestion improvement wonder sectio...</td>\n",
       "    </tr>\n",
       "    <tr>\n",
       "      <th>4</th>\n",
       "      <td>you  sir  are my hero  any chance you remember...</td>\n",
       "      <td>0</td>\n",
       "      <td>sir hero chance remember page</td>\n",
       "    </tr>\n",
       "    <tr>\n",
       "      <th>5</th>\n",
       "      <td>congratulations from me as well  use the tools...</td>\n",
       "      <td>0</td>\n",
       "      <td>congratulation well use tool well talk</td>\n",
       "    </tr>\n",
       "    <tr>\n",
       "      <th>6</th>\n",
       "      <td>cocksucker before you piss around on my work</td>\n",
       "      <td>1</td>\n",
       "      <td>cocksucker piss around work</td>\n",
       "    </tr>\n",
       "    <tr>\n",
       "      <th>7</th>\n",
       "      <td>your vandalism to the matt shirvington article...</td>\n",
       "      <td>0</td>\n",
       "      <td>vandalism matt shirvington article revert plea...</td>\n",
       "    </tr>\n",
       "    <tr>\n",
       "      <th>8</th>\n",
       "      <td>sorry if the word  nonsense  was offensive to ...</td>\n",
       "      <td>0</td>\n",
       "      <td>sorry word nonsense offensive anyway intend wr...</td>\n",
       "    </tr>\n",
       "    <tr>\n",
       "      <th>9</th>\n",
       "      <td>alignment on this subject and which are contra...</td>\n",
       "      <td>0</td>\n",
       "      <td>alignment subject contrary dulithgow</td>\n",
       "    </tr>\n",
       "  </tbody>\n",
       "</table>\n",
       "</div>"
      ],
      "text/plain": [
       "                                                text  toxic  \\\n",
       "0  explanation why the edits made under my userna...      0   \n",
       "1  d aww  he matches this background colour i m s...      0   \n",
       "2  hey man  i m really not trying to edit war  it...      0   \n",
       "3  more i can t make any real suggestions on impr...      0   \n",
       "4  you  sir  are my hero  any chance you remember...      0   \n",
       "5  congratulations from me as well  use the tools...      0   \n",
       "6       cocksucker before you piss around on my work      1   \n",
       "7  your vandalism to the matt shirvington article...      0   \n",
       "8  sorry if the word  nonsense  was offensive to ...      0   \n",
       "9  alignment on this subject and which are contra...      0   \n",
       "\n",
       "                                     lemmatized_text  \n",
       "0  explanation edits make username hardcore metal...  \n",
       "1  aww match background colour seemingly stuck th...  \n",
       "2  hey man really try edit war guy constantly rem...  \n",
       "3  make real suggestion improvement wonder sectio...  \n",
       "4                      sir hero chance remember page  \n",
       "5             congratulation well use tool well talk  \n",
       "6                        cocksucker piss around work  \n",
       "7  vandalism matt shirvington article revert plea...  \n",
       "8  sorry word nonsense offensive anyway intend wr...  \n",
       "9               alignment subject contrary dulithgow  "
      ]
     },
     "execution_count": 14,
     "metadata": {},
     "output_type": "execute_result"
    }
   ],
   "source": [
    "# Applying the function to the text column\n",
    "%time data['lemmatized_text'] = data['text'].progress_apply(lem)\n",
    "data.head(10)"
   ]
  },
  {
   "cell_type": "code",
   "execution_count": 15,
   "metadata": {},
   "outputs": [
    {
     "name": "stdout",
     "output_type": "stream",
     "text": [
      "Index(['text', 'toxic', 'lemmatized_text'], dtype='object')\n"
     ]
    }
   ],
   "source": [
    "print(data.columns)\n"
   ]
  },
  {
   "cell_type": "code",
   "execution_count": 16,
   "metadata": {},
   "outputs": [
    {
     "data": {
      "text/html": [
       "<div>\n",
       "<style scoped>\n",
       "    .dataframe tbody tr th:only-of-type {\n",
       "        vertical-align: middle;\n",
       "    }\n",
       "\n",
       "    .dataframe tbody tr th {\n",
       "        vertical-align: top;\n",
       "    }\n",
       "\n",
       "    .dataframe thead th {\n",
       "        text-align: right;\n",
       "    }\n",
       "</style>\n",
       "<table border=\"1\" class=\"dataframe\">\n",
       "  <thead>\n",
       "    <tr style=\"text-align: right;\">\n",
       "      <th></th>\n",
       "      <th>text</th>\n",
       "      <th>toxic</th>\n",
       "      <th>lemmatized_text</th>\n",
       "    </tr>\n",
       "  </thead>\n",
       "  <tbody>\n",
       "    <tr>\n",
       "      <th>0</th>\n",
       "      <td>explanation why the edits made under my userna...</td>\n",
       "      <td>0</td>\n",
       "      <td>explanation edits make username hardcore metal...</td>\n",
       "    </tr>\n",
       "    <tr>\n",
       "      <th>1</th>\n",
       "      <td>d aww  he matches this background colour i m s...</td>\n",
       "      <td>0</td>\n",
       "      <td>aww match background colour seemingly stuck th...</td>\n",
       "    </tr>\n",
       "    <tr>\n",
       "      <th>2</th>\n",
       "      <td>hey man  i m really not trying to edit war  it...</td>\n",
       "      <td>0</td>\n",
       "      <td>hey man really try edit war guy constantly rem...</td>\n",
       "    </tr>\n",
       "    <tr>\n",
       "      <th>3</th>\n",
       "      <td>more i can t make any real suggestions on impr...</td>\n",
       "      <td>0</td>\n",
       "      <td>make real suggestion improvement wonder sectio...</td>\n",
       "    </tr>\n",
       "    <tr>\n",
       "      <th>4</th>\n",
       "      <td>you  sir  are my hero  any chance you remember...</td>\n",
       "      <td>0</td>\n",
       "      <td>sir hero chance remember page</td>\n",
       "    </tr>\n",
       "    <tr>\n",
       "      <th>5</th>\n",
       "      <td>congratulations from me as well  use the tools...</td>\n",
       "      <td>0</td>\n",
       "      <td>congratulation well use tool well talk</td>\n",
       "    </tr>\n",
       "    <tr>\n",
       "      <th>6</th>\n",
       "      <td>cocksucker before you piss around on my work</td>\n",
       "      <td>1</td>\n",
       "      <td>cocksucker piss around work</td>\n",
       "    </tr>\n",
       "    <tr>\n",
       "      <th>7</th>\n",
       "      <td>your vandalism to the matt shirvington article...</td>\n",
       "      <td>0</td>\n",
       "      <td>vandalism matt shirvington article revert plea...</td>\n",
       "    </tr>\n",
       "    <tr>\n",
       "      <th>8</th>\n",
       "      <td>sorry if the word  nonsense  was offensive to ...</td>\n",
       "      <td>0</td>\n",
       "      <td>sorry word nonsense offensive anyway intend wr...</td>\n",
       "    </tr>\n",
       "    <tr>\n",
       "      <th>9</th>\n",
       "      <td>alignment on this subject and which are contra...</td>\n",
       "      <td>0</td>\n",
       "      <td>alignment subject contrary dulithgow</td>\n",
       "    </tr>\n",
       "  </tbody>\n",
       "</table>\n",
       "</div>"
      ],
      "text/plain": [
       "                                                text  toxic  \\\n",
       "0  explanation why the edits made under my userna...      0   \n",
       "1  d aww  he matches this background colour i m s...      0   \n",
       "2  hey man  i m really not trying to edit war  it...      0   \n",
       "3  more i can t make any real suggestions on impr...      0   \n",
       "4  you  sir  are my hero  any chance you remember...      0   \n",
       "5  congratulations from me as well  use the tools...      0   \n",
       "6       cocksucker before you piss around on my work      1   \n",
       "7  your vandalism to the matt shirvington article...      0   \n",
       "8  sorry if the word  nonsense  was offensive to ...      0   \n",
       "9  alignment on this subject and which are contra...      0   \n",
       "\n",
       "                                     lemmatized_text  \n",
       "0  explanation edits make username hardcore metal...  \n",
       "1  aww match background colour seemingly stuck th...  \n",
       "2  hey man really try edit war guy constantly rem...  \n",
       "3  make real suggestion improvement wonder sectio...  \n",
       "4                      sir hero chance remember page  \n",
       "5             congratulation well use tool well talk  \n",
       "6                        cocksucker piss around work  \n",
       "7  vandalism matt shirvington article revert plea...  \n",
       "8  sorry word nonsense offensive anyway intend wr...  \n",
       "9               alignment subject contrary dulithgow  "
      ]
     },
     "metadata": {},
     "output_type": "display_data"
    }
   ],
   "source": [
    "# Dictionary of replacements for abbreviations\n",
    "contractions = {\n",
    "    r\"\\bi[\\' ]m\\b\": \"i am\",\n",
    "    r\"\\byou[\\' ]re\\b\": \"you are\",\n",
    "    r\"\\bhe[\\' ]s\\b\": \"he is\",\n",
    "    r\"\\bit[\\' ]s\\b\": \"it is\",\n",
    "    r\"\\bcan[\\' ]t\\b\": \"cannot\",\n",
    "    r\"\\bdon[\\' ]t\\b\": \"do not\",\n",
    "    r\"\\baren[\\' ]t\\b\": \"are not\"\n",
    "}\n",
    "\n",
    "# Replacement function\n",
    "def replace_contractions(text):\n",
    "    original_text = text  # Saving the original text for comparison\n",
    "    for contraction, full_form in contractions.items():\n",
    "        text = re.sub(contraction, full_form, text, flags=re.IGNORECASE)\n",
    "    return text\n",
    "\n",
    "# Applying replacements to all texts in the column\n",
    "data['lemmatized_text'] = data['lemmatized_text'].apply(replace_contractions)\n",
    "\n",
    "# Viewing the result after replacement\n",
    "display(data.head(10))"
   ]
  },
  {
   "cell_type": "markdown",
   "metadata": {},
   "source": [
    "### Let's check for class imbalance in the target feature"
   ]
  },
  {
   "cell_type": "code",
   "execution_count": 17,
   "metadata": {
    "scrolled": true
   },
   "outputs": [
    {
     "data": {
      "text/plain": [
       "toxic\n",
       "0    143106\n",
       "1     16186\n",
       "Name: count, dtype: int64"
      ]
     },
     "execution_count": 17,
     "metadata": {},
     "output_type": "execute_result"
    }
   ],
   "source": [
    "data['toxic'].value_counts()"
   ]
  },
  {
   "cell_type": "code",
   "execution_count": 18,
   "metadata": {},
   "outputs": [
    {
     "data": {
      "image/png": "[encoded data removed]",
      "text/plain": [
       "<Figure size 640x480 with 1 Axes>"
      ]
     },
     "metadata": {},
     "output_type": "display_data"
    }
   ],
   "source": [
    "sns.countplot(x='toxic', data=data)  \n",
    "plt.title('Distribution of target feature values in the dataset')  \n",
    "plt.xlabel('Comment toxicity')  \n",
    "plt.ylabel('Number of comments')  \n",
    "plt.xticks([0, 1], ['Non-toxic', 'Toxic'])  \n",
    "None"
   ]
  },
  {
   "cell_type": "markdown",
   "metadata": {},
   "source": [
    "There is a class imbalance, which should be considered when splitting into training and test sets."
   ]
  },
  {
   "cell_type": "markdown",
   "metadata": {},
   "source": [
    "### Word count and word length in the text"
   ]
  },
  {
   "cell_type": "markdown",
   "metadata": {},
   "source": [
    "We can analyze the relationship between sentence length, word complexity, and the target variable. Longer, more complex words may be more common in professional or positive texts, while shorter, simpler words might appear more frequently in negative ones. If a strong correlation is found, these features can be incorporated into the model to improve its ability to distinguish between different text categories, leveraging both linguistic patterns and structural characteristics."
   ]
  },
  {
   "cell_type": "code",
   "execution_count": 19,
   "metadata": {},
   "outputs": [
    {
     "name": "stderr",
     "output_type": "stream",
     "text": [
      "[nltk_data] Downloading package vader_lexicon to\n",
      "[nltk_data]     C:\\Users\\rx330\\AppData\\Roaming\\nltk_data...\n",
      "[nltk_data]   Package vader_lexicon is already up-to-date!\n"
     ]
    },
    {
     "data": {
      "application/vnd.jupyter.widget-view+json": {
       "model_id": "2183f09b895b41d48ec84003858b144c",
       "version_major": 2,
       "version_minor": 0
      },
      "text/plain": [
       "  0%|          | 0/159292 [00:00<?, ?it/s]"
      ]
     },
     "metadata": {},
     "output_type": "display_data"
    },
    {
     "data": {
      "text/html": [
       "<div>\n",
       "<style scoped>\n",
       "    .dataframe tbody tr th:only-of-type {\n",
       "        vertical-align: middle;\n",
       "    }\n",
       "\n",
       "    .dataframe tbody tr th {\n",
       "        vertical-align: top;\n",
       "    }\n",
       "\n",
       "    .dataframe thead th {\n",
       "        text-align: right;\n",
       "    }\n",
       "</style>\n",
       "<table border=\"1\" class=\"dataframe\">\n",
       "  <thead>\n",
       "    <tr style=\"text-align: right;\">\n",
       "      <th></th>\n",
       "      <th>text</th>\n",
       "      <th>toxic</th>\n",
       "      <th>lemmatized_text</th>\n",
       "      <th>word_count</th>\n",
       "      <th>avg_word_length</th>\n",
       "      <th>sentiment_score</th>\n",
       "    </tr>\n",
       "  </thead>\n",
       "  <tbody>\n",
       "    <tr>\n",
       "      <th>0</th>\n",
       "      <td>explanation why the edits made under my userna...</td>\n",
       "      <td>0</td>\n",
       "      <td>explanation edits make username hardcore metal...</td>\n",
       "      <td>46.0</td>\n",
       "      <td>4.413043</td>\n",
       "      <td>0.5574</td>\n",
       "    </tr>\n",
       "    <tr>\n",
       "      <th>1</th>\n",
       "      <td>d aww  he matches this background colour i m s...</td>\n",
       "      <td>0</td>\n",
       "      <td>aww match background colour seemingly stuck th...</td>\n",
       "      <td>16.0</td>\n",
       "      <td>4.562500</td>\n",
       "      <td>0.2263</td>\n",
       "    </tr>\n",
       "    <tr>\n",
       "      <th>2</th>\n",
       "      <td>hey man  i m really not trying to edit war  it...</td>\n",
       "      <td>0</td>\n",
       "      <td>hey man really try edit war guy constantly rem...</td>\n",
       "      <td>44.0</td>\n",
       "      <td>4.227273</td>\n",
       "      <td>-0.1779</td>\n",
       "    </tr>\n",
       "    <tr>\n",
       "      <th>3</th>\n",
       "      <td>more i can t make any real suggestions on impr...</td>\n",
       "      <td>0</td>\n",
       "      <td>make real suggestion improvement wonder sectio...</td>\n",
       "      <td>116.0</td>\n",
       "      <td>4.189655</td>\n",
       "      <td>0.4019</td>\n",
       "    </tr>\n",
       "    <tr>\n",
       "      <th>4</th>\n",
       "      <td>you  sir  are my hero  any chance you remember...</td>\n",
       "      <td>0</td>\n",
       "      <td>sir hero chance remember page</td>\n",
       "      <td>14.0</td>\n",
       "      <td>3.571429</td>\n",
       "      <td>0.6808</td>\n",
       "    </tr>\n",
       "    <tr>\n",
       "      <th>...</th>\n",
       "      <td>...</td>\n",
       "      <td>...</td>\n",
       "      <td>...</td>\n",
       "      <td>...</td>\n",
       "      <td>...</td>\n",
       "      <td>...</td>\n",
       "    </tr>\n",
       "    <tr>\n",
       "      <th>159446</th>\n",
       "      <td>and for the second time of asking  when your v...</td>\n",
       "      <td>0</td>\n",
       "      <td>second time ask view completely contradicts co...</td>\n",
       "      <td>46.0</td>\n",
       "      <td>4.934783</td>\n",
       "      <td>0.1548</td>\n",
       "    </tr>\n",
       "    <tr>\n",
       "      <th>159447</th>\n",
       "      <td>you should be ashamed of yourself   that is a ...</td>\n",
       "      <td>0</td>\n",
       "      <td>ashamed horrible thing put talk page</td>\n",
       "      <td>17.0</td>\n",
       "      <td>3.882353</td>\n",
       "      <td>-0.7650</td>\n",
       "    </tr>\n",
       "    <tr>\n",
       "      <th>159448</th>\n",
       "      <td>spitzer   umm  theres no actual article for pr...</td>\n",
       "      <td>0</td>\n",
       "      <td>spitzer umm there actual article prostitution ...</td>\n",
       "      <td>11.0</td>\n",
       "      <td>5.727273</td>\n",
       "      <td>-0.2960</td>\n",
       "    </tr>\n",
       "    <tr>\n",
       "      <th>159449</th>\n",
       "      <td>and it looks like it was actually you who put ...</td>\n",
       "      <td>0</td>\n",
       "      <td>look like actually put speedy first version de...</td>\n",
       "      <td>25.0</td>\n",
       "      <td>3.640000</td>\n",
       "      <td>0.3612</td>\n",
       "    </tr>\n",
       "    <tr>\n",
       "      <th>159450</th>\n",
       "      <td>and   i really don t think you understand   i ...</td>\n",
       "      <td>0</td>\n",
       "      <td>really think understand come idea bad right aw...</td>\n",
       "      <td>34.0</td>\n",
       "      <td>4.000000</td>\n",
       "      <td>-0.7003</td>\n",
       "    </tr>\n",
       "  </tbody>\n",
       "</table>\n",
       "<p>159292 rows × 6 columns</p>\n",
       "</div>"
      ],
      "text/plain": [
       "                                                     text  toxic  \\\n",
       "0       explanation why the edits made under my userna...      0   \n",
       "1       d aww  he matches this background colour i m s...      0   \n",
       "2       hey man  i m really not trying to edit war  it...      0   \n",
       "3       more i can t make any real suggestions on impr...      0   \n",
       "4       you  sir  are my hero  any chance you remember...      0   \n",
       "...                                                   ...    ...   \n",
       "159446  and for the second time of asking  when your v...      0   \n",
       "159447  you should be ashamed of yourself   that is a ...      0   \n",
       "159448  spitzer   umm  theres no actual article for pr...      0   \n",
       "159449  and it looks like it was actually you who put ...      0   \n",
       "159450  and   i really don t think you understand   i ...      0   \n",
       "\n",
       "                                          lemmatized_text  word_count  \\\n",
       "0       explanation edits make username hardcore metal...        46.0   \n",
       "1       aww match background colour seemingly stuck th...        16.0   \n",
       "2       hey man really try edit war guy constantly rem...        44.0   \n",
       "3       make real suggestion improvement wonder sectio...       116.0   \n",
       "4                           sir hero chance remember page        14.0   \n",
       "...                                                   ...         ...   \n",
       "159446  second time ask view completely contradicts co...        46.0   \n",
       "159447               ashamed horrible thing put talk page        17.0   \n",
       "159448  spitzer umm there actual article prostitution ...        11.0   \n",
       "159449  look like actually put speedy first version de...        25.0   \n",
       "159450  really think understand come idea bad right aw...        34.0   \n",
       "\n",
       "        avg_word_length  sentiment_score  \n",
       "0              4.413043           0.5574  \n",
       "1              4.562500           0.2263  \n",
       "2              4.227273          -0.1779  \n",
       "3              4.189655           0.4019  \n",
       "4              3.571429           0.6808  \n",
       "...                 ...              ...  \n",
       "159446         4.934783           0.1548  \n",
       "159447         3.882353          -0.7650  \n",
       "159448         5.727273          -0.2960  \n",
       "159449         3.640000           0.3612  \n",
       "159450         4.000000          -0.7003  \n",
       "\n",
       "[159292 rows x 6 columns]"
      ]
     },
     "metadata": {},
     "output_type": "display_data"
    }
   ],
   "source": [
    "# Download SentimentIntensityAnalyzer\n",
    "nltk.download('vader_lexicon')\n",
    "\n",
    "# Initializing SentimentIntensityAnalyzer\n",
    "sia = SentimentIntensityAnalyzer()\n",
    "\n",
    "# Function for Text Analysis\n",
    "def analyze_text(row):\n",
    "    # Count the number of words\n",
    "    word_count = len(row['text'].split())\n",
    "    # Calculate the average word length, ensuring no division by zero\n",
    "    avg_word_length = sum(len(word) for word in row['text'].split()) / word_count if word_count > 0 else 0\n",
    "    # Compute sentiment score\n",
    "    sentiment_score = sia.polarity_scores(row['text'])['compound']\n",
    "    return pd.Series([word_count, avg_word_length, sentiment_score])\n",
    "\n",
    "# Apply the function to each text entry\n",
    "data[['word_count', 'avg_word_length', 'sentiment_score']] = data.progress_apply(analyze_text, axis=1)\n",
    "\n",
    "display(data)"
   ]
  },
  {
   "cell_type": "markdown",
   "metadata": {},
   "source": [
    "Сharts for visualization"
   ]
  },
  {
   "cell_type": "code",
   "execution_count": 20,
   "metadata": {},
   "outputs": [
    {
     "data": {
      "image/png": "[encoded data removed]",
      "text/plain": [
       "<Figure size 1200x400 with 1 Axes>"
      ]
     },
     "metadata": {},
     "output_type": "display_data"
    },
    {
     "data": {
      "image/png": "[encoded data removed]",
      "text/plain": [
       "<Figure size 1200x400 with 1 Axes>"
      ]
     },
     "metadata": {},
     "output_type": "display_data"
    },
    {
     "data": {
      "image/png": "[encoded data removed]",
      "text/plain": [
       "<Figure size 1200x400 with 1 Axes>"
      ]
     },
     "metadata": {},
     "output_type": "display_data"
    }
   ],
   "source": [
    "data['toxic'] = data['toxic'].astype(str)  # Преобразуем в строку перед построением графиков\n",
    "\n",
    "# Histogram for Word Count\n",
    "plt.figure(figsize=(12, 4))\n",
    "sns.histplot(data, x='word_count', hue='toxic')\n",
    "plt.title('Word Count Distribution by Toxicity')\n",
    "plt.show()\n",
    "\n",
    "# Histogram for avg_word_length\n",
    "plt.figure(figsize=(12, 4))\n",
    "sns.histplot(data, x='avg_word_length', hue='toxic')\n",
    "plt.title('Average Word Length Distribution by Toxicity')\n",
    "plt.show()\n",
    "\n",
    "# Histogram for sentiment_score\n",
    "plt.figure(figsize=(12, 4))\n",
    "sns.histplot(data, x='sentiment_score', hue='toxic')\n",
    "plt.title('Sentiment Score Distribution by Toxicity')\n",
    "plt.show()"
   ]
  },
  {
   "cell_type": "markdown",
   "metadata": {},
   "source": [
    "Calculate the correlation"
   ]
  },
  {
   "cell_type": "code",
   "execution_count": 21,
   "metadata": {},
   "outputs": [
    {
     "name": "stdout",
     "output_type": "stream",
     "text": [
      "                    toxic  word_count  avg_word_length  sentiment_score\n",
      "toxic            1.000000   -0.046720        -0.000177        -0.307413\n",
      "word_count      -0.046720    1.000000         0.000347         0.090163\n",
      "avg_word_length -0.000177    0.000347         1.000000        -0.002351\n",
      "sentiment_score -0.307413    0.090163        -0.002351         1.000000\n"
     ]
    }
   ],
   "source": [
    "correlations = data[['toxic', 'word_count', 'avg_word_length', 'sentiment_score']].corr()\n",
    "print(correlations)"
   ]
  },
  {
   "cell_type": "markdown",
   "metadata": {},
   "source": [
    "**Conclusion**:\n",
    "\n",
    "- **Correlation between toxic and sentiment_score (-0.307):**  \n",
    "There is a moderate negative correlation between toxicity and sentiment score. This suggests that more negative texts (with lower sentiment scores) tend to be more toxic. This feature may be useful for the model as it helps distinguish between toxic and non-toxic texts.\n",
    "\n",
    "- **Correlation between toxic and avg_word_length (-0.0002):**  \n",
    "The correlation between toxicity and average word length is nearly nonexistent. This means that the average word length in a text does not significantly impact its toxicity level. It is likely that this feature will not contribute much value to the model.\n",
    "\n",
    "- **Correlation between toxic and word_count (-0.047):**  \n",
    "The correlation between word count and toxicity is also close to zero, indicating no meaningful relationship between text length (in terms of word count) and its toxicity. This feature is unlikely to have a significant impact on the model’s performance.\n",
    "\n",
    "- **Correlation between word_count, avg_word_length, and sentiment_score:**  \n",
    "Word count has a weak positive correlation with sentiment_score (0.090), but the value is very small. Additionally, avg_word_length and sentiment_score show a weak negative correlation (-0.002), providing no meaningful insight into their relationship.\n",
    "\n",
    "**Final Takeaways**:\n",
    "\n",
    "- **sentiment_score** is an important feature since it has a moderate correlation with toxicity. It should be included in the model.  \n",
    "- **avg_word_length and word_count** have weak or zero correlation with toxicity. They can likely be excluded as they may not contribute useful information to the model."
   ]
  },
  {
   "cell_type": "markdown",
   "metadata": {},
   "source": [
    "Let's analyze the most frequently occurring words."
   ]
  },
  {
   "cell_type": "code",
   "execution_count": 22,
   "metadata": {},
   "outputs": [
    {
     "data": {
      "image/png": "[encoded data removed]",
      "text/plain": [
       "<Figure size 1500x1000 with 2 Axes>"
      ]
     },
     "metadata": {},
     "output_type": "display_data"
    }
   ],
   "source": [
    "data['toxic'] = data['toxic'].astype('uint8')\n",
    "\n",
    "# Splitting Text into Toxic and Non-Toxic Comments\n",
    "toxic_comments = \" \".join(data[data['toxic'] == 1]['text'])\n",
    "non_toxic_comments = \" \".join(data[data['toxic'] == 0]['text'])\n",
    "\n",
    "# Configuring Parameters for Word Clouds\n",
    "wordcloud_toxic = WordCloud(width=800, height=400, background_color='black', colormap='Reds', max_words=100).generate(toxic_comments)\n",
    "wordcloud_non_toxic = WordCloud(width=800, height=400, background_color='white', colormap='Blues', max_words=100).generate(non_toxic_comments)\n",
    "\n",
    "# Creating Charts\n",
    "plt.figure(figsize=(15, 10))\n",
    "\n",
    "# Word Cloud for Toxic Comments\n",
    "plt.subplot(1, 2, 1)\n",
    "plt.imshow(wordcloud_toxic, interpolation='bilinear')\n",
    "plt.axis('off')\n",
    "plt.title('Word Cloud for Toxic Comments', fontsize=16)\n",
    "\n",
    "# Word Cloud for Non-Toxic Comments\n",
    "plt.subplot(1, 2, 2)\n",
    "plt.imshow(wordcloud_non_toxic, interpolation='bilinear')\n",
    "plt.axis('off')\n",
    "plt.title('Word Cloud for Non-Toxic Comments', fontsize=16)\n",
    "\n",
    "plt.show()"
   ]
  },
  {
   "cell_type": "markdown",
   "metadata": {},
   "source": [
    "The most frequently occurring word in negative comments is \"fuck,\" while in neutral comments, it is \"article.\""
   ]
  },
  {
   "cell_type": "markdown",
   "metadata": {},
   "source": [
    "### Split the data into training and test sets"
   ]
  },
  {
   "cell_type": "code",
   "execution_count": 23,
   "metadata": {},
   "outputs": [
    {
     "name": "stdout",
     "output_type": "stream",
     "text": [
      "79646\n",
      "79646\n"
     ]
    }
   ],
   "source": [
    "X = data['lemmatized_text']\n",
    "y = data['toxic']\n",
    "\n",
    "X_train, X_test, y_train, y_test = train_test_split(X, y, test_size=0.5, random_state=RANDOM_STATE, stratify=y)\n",
    "\n",
    "print(X_train.shape[0])\n",
    "print(X_test.shape[0])"
   ]
  },
  {
   "cell_type": "markdown",
   "metadata": {},
   "source": [
    "The data has been processed and split, and it is ready for model training."
   ]
  },
  {
   "cell_type": "markdown",
   "metadata": {},
   "source": [
    "**Conclusion:**  \n",
    "- The file consists of 159,292 rows and 5 columns; no missing values or duplicates were found.  \n",
    "- There is a class imbalance.  \n",
    "- Texts have been converted to lowercase, retaining only English alphabet letters.  \n",
    "- Texts have been tokenized and lemmatized using WordNetLemmatizer.  \n",
    "- The dataset has been split into training and test sets in a 50/50 ratio while preserving the target variable's distribution."
   ]
  },
  {
   "cell_type": "markdown",
   "metadata": {},
   "source": [
    "## Training"
   ]
  },
  {
   "cell_type": "markdown",
   "metadata": {},
   "source": [
    "Let's write functions to display the progress of code execution."
   ]
  },
  {
   "cell_type": "code",
   "execution_count": 24,
   "metadata": {},
   "outputs": [],
   "source": [
    "# Configuring `tqdm` to work with `GridSearchCV`.\n",
    "class TqdmSearchCV(GridSearchCV):\n",
    "    def fit(self, X, y=None, **fit_params):\n",
    "        n_candidates = np.prod([len(v) for params in self.param_grid for v in params.values()])\n",
    "\n",
    "        with tqdm(total=n_candidates) as pbar:\n",
    "            def _callback():\n",
    "                pbar.update(1)\n",
    "            self._callback = _callback\n",
    "            \n",
    "            print(f\"Shape X: {X.shape}, Shape y: {y.shape}\")\n",
    "            print(f\"Parameters: {self.param_grid}\")\n",
    "\n",
    "            super().fit(X, y, **fit_params)\n",
    "        pbar.close()"
   ]
  },
  {
   "cell_type": "code",
   "execution_count": 25,
   "metadata": {},
   "outputs": [],
   "source": [
    "# Creating a wrapper for `RandomizedSearchCV` to add a progress indicator.\n",
    "class TqdmRandomizedSearchCV(RandomizedSearchCV):\n",
    "    def fit(self, X, y=None, **fit_params):\n",
    "        n_candidates = self.n_iter  # Number of search iterations.\n",
    "        with tqdm(total=n_candidates) as pbar:\n",
    "            def _callback(*args):\n",
    "                pbar.update(1)\n",
    "            self._callback = _callback\n",
    "            return super().fit(X, y, **fit_params)"
   ]
  },
  {
   "cell_type": "markdown",
   "metadata": {},
   "source": [
    "### LogisticRegression"
   ]
  },
  {
   "cell_type": "code",
   "execution_count": 26,
   "metadata": {},
   "outputs": [
    {
     "data": {
      "application/vnd.jupyter.widget-view+json": {
       "model_id": "1b14770910bc4df690edf493fc5a1d36",
       "version_major": 2,
       "version_minor": 0
      },
      "text/plain": [
       "  0%|          | 0/6 [00:00<?, ?it/s]"
      ]
     },
     "metadata": {},
     "output_type": "display_data"
    },
    {
     "name": "stdout",
     "output_type": "stream",
     "text": [
      "Shape X: (79646,), Shape y: (79646,)\n",
      "Parameters: [{'tfidf__ngram_range': ((1, 1), (1, 2)), 'logreg__C': [0.1, 1, 10]}]\n",
      "CPU times: total: 1min 44s\n",
      "Wall time: 8min 4s\n",
      "Training time of the best model: 80.1783 seconds\n",
      "Best F1 score: 0.774\n",
      "Best C parameter: {'logreg__C': 10, 'tfidf__ngram_range': (1, 2)}\n"
     ]
    }
   ],
   "source": [
    "simplefilter(action='ignore', category=FutureWarning)\n",
    "\n",
    "# Initialize the model\n",
    "model = LogisticRegression(random_state=RANDOM_STATE, class_weight='balanced', max_iter=1000)\n",
    "\n",
    "pipeline_lr = Pipeline([\n",
    "    ('tfidf', TfidfVectorizer(stop_words=stop_words_set, sublinear_tf=True)),\n",
    "    ('logreg', model)\n",
    "])\n",
    "\n",
    "# Hyperparameters for search\n",
    "param_grid = [\n",
    "    {'tfidf__ngram_range': ((1,1), (1,2)),\n",
    "     'logreg__C': [0.1, 1, 10]}\n",
    "]\n",
    "\n",
    "# GridSearchCV with a progress indicator to find the best C parameter\n",
    "lr = TqdmSearchCV(pipeline_lr, param_grid=param_grid, cv=3, scoring='f1', n_jobs=-1)\n",
    "\n",
    "# Training with cross-validation for hyperparameter C tuning\n",
    "%time lr.fit(X_train, y_train)\n",
    "\n",
    "# Best model, best F1 score, and best parameters\n",
    "best_model_lr = lr.best_estimator_\n",
    "best_score_lr = round(lr.best_score_, 4)\n",
    "best_params_lr = lr.best_params_\n",
    "\n",
    "# Measure training time of the best model\n",
    "training_time_lr = measure_training_time(best_model_lr, X_train, y_train)\n",
    "\n",
    "# Display results\n",
    "print(f\"Training time of the best model: {training_time_lr:.4f} seconds\")\n",
    "print(\"Best F1 score:\", best_score_lr)\n",
    "print(\"Best C parameter:\", best_params_lr)"
   ]
  },
  {
   "cell_type": "code",
   "execution_count": 27,
   "metadata": {},
   "outputs": [
    {
     "data": {
      "text/html": [
       "<div>\n",
       "<style scoped>\n",
       "    .dataframe tbody tr th:only-of-type {\n",
       "        vertical-align: middle;\n",
       "    }\n",
       "\n",
       "    .dataframe tbody tr th {\n",
       "        vertical-align: top;\n",
       "    }\n",
       "\n",
       "    .dataframe thead th {\n",
       "        text-align: right;\n",
       "    }\n",
       "</style>\n",
       "<table border=\"1\" class=\"dataframe\">\n",
       "  <thead>\n",
       "    <tr style=\"text-align: right;\">\n",
       "      <th></th>\n",
       "      <th>Model</th>\n",
       "      <th>Training time</th>\n",
       "      <th>Params</th>\n",
       "      <th>F1</th>\n",
       "    </tr>\n",
       "  </thead>\n",
       "  <tbody>\n",
       "    <tr>\n",
       "      <th>0</th>\n",
       "      <td>LogisticRegression</td>\n",
       "      <td>80.178313</td>\n",
       "      <td>{'logreg__C': 10, 'tfidf__ngram_range': (1, 2)}</td>\n",
       "      <td>0.774</td>\n",
       "    </tr>\n",
       "  </tbody>\n",
       "</table>\n",
       "</div>"
      ],
      "text/plain": [
       "                Model  Training time  \\\n",
       "0  LogisticRegression      80.178313   \n",
       "\n",
       "                                            Params     F1  \n",
       "0  {'logreg__C': 10, 'tfidf__ngram_range': (1, 2)}  0.774  "
      ]
     },
     "execution_count": 27,
     "metadata": {},
     "output_type": "execute_result"
    }
   ],
   "source": [
    "table = pd.DataFrame([['LogisticRegression', training_time_lr, best_params_lr, best_score_lr]],\n",
    "                    columns=['Model', 'Training time', 'Params', 'F1'])\n",
    "table"
   ]
  },
  {
   "cell_type": "markdown",
   "metadata": {},
   "source": [
    "### LGBMClassifier"
   ]
  },
  {
   "cell_type": "code",
   "execution_count": 28,
   "metadata": {},
   "outputs": [
    {
     "data": {
      "application/vnd.jupyter.widget-view+json": {
       "model_id": "628987be55df4f5c80b3cb5a1ea7c2bd",
       "version_major": 2,
       "version_minor": 0
      },
      "text/plain": [
       "  0%|          | 0/10 [00:00<?, ?it/s]"
      ]
     },
     "metadata": {},
     "output_type": "display_data"
    },
    {
     "name": "stdout",
     "output_type": "stream",
     "text": [
      "CPU times: total: 28min 13s\n",
      "Wall time: 17min 18s\n",
      "Training time of the best model: 82.4355 seconds\n",
      "Best Parameters: {'tfidf__ngram_range': (1, 2), 'LGMB__n_estimators': 50, 'LGMB__learning_rate': 1}\n",
      "Best F1 score: 0.7072\n"
     ]
    }
   ],
   "source": [
    "# Creating the LightGBM model\n",
    "model_LGMB = LGBMClassifier(class_weight='balanced', random_state=RANDOM_STATE, verbose=-1)\n",
    "\n",
    "pipeline_LGMB = Pipeline([\n",
    "    ('tfidf', TfidfVectorizer(stop_words=stop_words_set, sublinear_tf=True)),\n",
    "    ('LGMB', model_LGMB)\n",
    "])\n",
    "\n",
    "# Hyperparameters for tuning\n",
    "param_grid = {\n",
    "    'tfidf__ngram_range': ((1,1),(1,2)),\n",
    "    'LGMB__learning_rate': [0.1, 1],\n",
    "    'LGMB__n_estimators': [x for x in range(10,51,10)]\n",
    "}\n",
    "\n",
    "# RandomizedSearchCV with a progress indicator\n",
    "lgbm = TqdmRandomizedSearchCV(\n",
    "    pipeline_LGMB,\n",
    "    param_distributions=param_grid,\n",
    "    cv=3,\n",
    "    scoring='f1',\n",
    "    n_jobs=1\n",
    ")\n",
    "\n",
    "# Training the model\n",
    "%time lgbm.fit(X_train, y_train)\n",
    "\n",
    "# Training the best model and measuring time\n",
    "best_model_lgbm = lgbm.best_estimator_\n",
    "\n",
    "training_time_lgbm = measure_training_time(best_model_lgbm, X_train, y_train)\n",
    "lgbm_best_params = lgbm.best_params_\n",
    "lgbm_best_score = round(lgbm.best_score_, 4)\n",
    "\n",
    "print(f\"Training time of the best model: {training_time_lgbm:.4f} seconds\")\n",
    "print(\"Best Parameters:\", lgbm_best_params)\n",
    "print(\"Best F1 score:\", lgbm_best_score)"
   ]
  },
  {
   "cell_type": "code",
   "execution_count": 29,
   "metadata": {},
   "outputs": [
    {
     "data": {
      "text/html": [
       "<div>\n",
       "<style scoped>\n",
       "    .dataframe tbody tr th:only-of-type {\n",
       "        vertical-align: middle;\n",
       "    }\n",
       "\n",
       "    .dataframe tbody tr th {\n",
       "        vertical-align: top;\n",
       "    }\n",
       "\n",
       "    .dataframe thead th {\n",
       "        text-align: right;\n",
       "    }\n",
       "</style>\n",
       "<table border=\"1\" class=\"dataframe\">\n",
       "  <thead>\n",
       "    <tr style=\"text-align: right;\">\n",
       "      <th></th>\n",
       "      <th>Model</th>\n",
       "      <th>Training time</th>\n",
       "      <th>Params</th>\n",
       "      <th>F1</th>\n",
       "    </tr>\n",
       "  </thead>\n",
       "  <tbody>\n",
       "    <tr>\n",
       "      <th>0</th>\n",
       "      <td>LogisticRegression</td>\n",
       "      <td>80.178313</td>\n",
       "      <td>{'logreg__C': 10, 'tfidf__ngram_range': (1, 2)}</td>\n",
       "      <td>0.7740</td>\n",
       "    </tr>\n",
       "    <tr>\n",
       "      <th>1</th>\n",
       "      <td>LGBMClassifier</td>\n",
       "      <td>82.435481</td>\n",
       "      <td>{'tfidf__ngram_range': (1, 2), 'LGMB__n_estima...</td>\n",
       "      <td>0.7072</td>\n",
       "    </tr>\n",
       "  </tbody>\n",
       "</table>\n",
       "</div>"
      ],
      "text/plain": [
       "                Model  Training time  \\\n",
       "0  LogisticRegression      80.178313   \n",
       "1      LGBMClassifier      82.435481   \n",
       "\n",
       "                                              Params      F1  \n",
       "0    {'logreg__C': 10, 'tfidf__ngram_range': (1, 2)}  0.7740  \n",
       "1  {'tfidf__ngram_range': (1, 2), 'LGMB__n_estima...  0.7072  "
      ]
     },
     "execution_count": 29,
     "metadata": {},
     "output_type": "execute_result"
    }
   ],
   "source": [
    "table.loc[len(table.index )] = ['LGBMClassifier', training_time_lgbm, lgbm_best_params, lgbm_best_score]\n",
    "table"
   ]
  },
  {
   "cell_type": "code",
   "execution_count": null,
   "metadata": {},
   "outputs": [],
   "source": []
  },
  {
   "cell_type": "markdown",
   "metadata": {},
   "source": [
    "## DecisionTreeClassifier"
   ]
  },
  {
   "cell_type": "code",
   "execution_count": 30,
   "metadata": {},
   "outputs": [
    {
     "data": {
      "application/vnd.jupyter.widget-view+json": {
       "model_id": "3960d35745cb41d886d43d50e91506ff",
       "version_major": 2,
       "version_minor": 0
      },
      "text/plain": [
       "  0%|          | 0/10 [00:00<?, ?it/s]"
      ]
     },
     "metadata": {},
     "output_type": "display_data"
    },
    {
     "name": "stdout",
     "output_type": "stream",
     "text": [
      "Shape X: (79646,), Shape y: (79646,)\n",
      "Parameters: [{'tfidf__ngram_range': ((1, 1), (1, 2)), 'TREE__max_depth': [30, 35, 40, 45, 50]}]\n",
      "CPU times: total: 40.6 s\n",
      "Wall time: 40min 7s\n",
      "Training time of the best model: 82.4355 seconds\n",
      "Best Parameters: {'tfidf__ngram_range': (1, 2), 'LGMB__n_estimators': 50, 'LGMB__learning_rate': 1}\n",
      "Best F1 score: 0.7072\n"
     ]
    }
   ],
   "source": [
    "# Creating the model\n",
    "model_tree = DecisionTreeClassifier(class_weight='balanced', random_state=RANDOM_STATE)\n",
    "\n",
    "pipeline_tree = Pipeline([\n",
    "    ('tfidf', TfidfVectorizer(stop_words=stop_words_set, sublinear_tf=True)),\n",
    "    ('TREE', model_tree)\n",
    "])\n",
    "\n",
    "# Hyperparameters for tuning\n",
    "param_grid = [\n",
    "    {'tfidf__ngram_range': ((1,1),(1,2)),\n",
    "     'TREE__max_depth': [x for x in range(30,51,5)]}]\n",
    "\n",
    "# RandomizedSearchCV with a progress indicator\n",
    "tree = TqdmSearchCV(\n",
    "    pipeline_tree, \n",
    "    param_grid=param_grid, \n",
    "    cv=3, \n",
    "    scoring='f1',\n",
    "    n_jobs=-1)\n",
    "\n",
    "# Training the model\n",
    "%time tree.fit(X_train, y_train)\n",
    "\n",
    "# Training the best model and measuring time\n",
    "best_model_tree = tree.best_estimator_\n",
    "\n",
    "training_time_tree = measure_training_time(best_model_tree, X_train, y_train)\n",
    "tree_best_params = tree.best_params_\n",
    "tree_best_score = round(tree.best_score_, 4)\n",
    "\n",
    "print(f\"Training time of the best model: {training_time_lgbm:.4f} seconds\")\n",
    "print(\"Best Parameters:\", lgbm_best_params)\n",
    "print(\"Best F1 score:\", lgbm_best_score)"
   ]
  },
  {
   "cell_type": "code",
   "execution_count": 31,
   "metadata": {},
   "outputs": [
    {
     "data": {
      "text/html": [
       "<div>\n",
       "<style scoped>\n",
       "    .dataframe tbody tr th:only-of-type {\n",
       "        vertical-align: middle;\n",
       "    }\n",
       "\n",
       "    .dataframe tbody tr th {\n",
       "        vertical-align: top;\n",
       "    }\n",
       "\n",
       "    .dataframe thead th {\n",
       "        text-align: right;\n",
       "    }\n",
       "</style>\n",
       "<table border=\"1\" class=\"dataframe\">\n",
       "  <thead>\n",
       "    <tr style=\"text-align: right;\">\n",
       "      <th></th>\n",
       "      <th>Model</th>\n",
       "      <th>Training time</th>\n",
       "      <th>Params</th>\n",
       "      <th>F1</th>\n",
       "    </tr>\n",
       "  </thead>\n",
       "  <tbody>\n",
       "    <tr>\n",
       "      <th>0</th>\n",
       "      <td>LogisticRegression</td>\n",
       "      <td>80.178313</td>\n",
       "      <td>{'logreg__C': 10, 'tfidf__ngram_range': (1, 2)}</td>\n",
       "      <td>0.7740</td>\n",
       "    </tr>\n",
       "    <tr>\n",
       "      <th>1</th>\n",
       "      <td>LGBMClassifier</td>\n",
       "      <td>82.435481</td>\n",
       "      <td>{'tfidf__ngram_range': (1, 2), 'LGMB__n_estima...</td>\n",
       "      <td>0.7072</td>\n",
       "    </tr>\n",
       "    <tr>\n",
       "      <th>2</th>\n",
       "      <td>DecisionTreeClassifier</td>\n",
       "      <td>30.684591</td>\n",
       "      <td>{'TREE__max_depth': 45, 'tfidf__ngram_range': ...</td>\n",
       "      <td>0.6375</td>\n",
       "    </tr>\n",
       "  </tbody>\n",
       "</table>\n",
       "</div>"
      ],
      "text/plain": [
       "                    Model  Training time  \\\n",
       "0      LogisticRegression      80.178313   \n",
       "1          LGBMClassifier      82.435481   \n",
       "2  DecisionTreeClassifier      30.684591   \n",
       "\n",
       "                                              Params      F1  \n",
       "0    {'logreg__C': 10, 'tfidf__ngram_range': (1, 2)}  0.7740  \n",
       "1  {'tfidf__ngram_range': (1, 2), 'LGMB__n_estima...  0.7072  \n",
       "2  {'TREE__max_depth': 45, 'tfidf__ngram_range': ...  0.6375  "
      ]
     },
     "execution_count": 31,
     "metadata": {},
     "output_type": "execute_result"
    }
   ],
   "source": [
    "table.loc[len(table.index )] = ['DecisionTreeClassifier', training_time_tree, tree_best_params, tree_best_score]\n",
    "table"
   ]
  },
  {
   "cell_type": "markdown",
   "metadata": {},
   "source": [
    "The best results were achieved by the LogisticRegression model, so we will use it to predict the sentiment of the text on the test set."
   ]
  },
  {
   "cell_type": "markdown",
   "metadata": {},
   "source": [
    "## Evaluation of the Best Solution on the Test Set"
   ]
  },
  {
   "cell_type": "code",
   "execution_count": 32,
   "metadata": {},
   "outputs": [
    {
     "name": "stdout",
     "output_type": "stream",
     "text": [
      "F1 score on the test set: 0.78\n",
      "Precision on the test set: 0.78\n",
      "Recall on the test set: 0.79\n"
     ]
    }
   ],
   "source": [
    "pred = best_model_lr.predict(X_test)\n",
    "\n",
    "f1_test_score = round(f1_score(y_test, pred), 2)\n",
    "precision_test_score = round(precision_score(y_test, pred), 2)\n",
    "recall_test_score = round(recall_score(y_test, pred), 2)\n",
    "\n",
    "print('F1 score on the test set:', f1_test_score)\n",
    "print('Precision on the test set:', precision_test_score)\n",
    "print('Recall on the test set:', recall_test_score)"
   ]
  },
  {
   "cell_type": "markdown",
   "metadata": {},
   "source": [
    "Constructing the Confusion Matrix"
   ]
  },
  {
   "cell_type": "code",
   "execution_count": 33,
   "metadata": {},
   "outputs": [
    {
     "data": {
      "image/png": "[encoded data removed]",
      "text/plain": [
       "<Figure size 640x480 with 2 Axes>"
      ]
     },
     "metadata": {},
     "output_type": "display_data"
    }
   ],
   "source": [
    "cm = confusion_matrix(y_test, pred)\n",
    "sns.heatmap(cm, annot=True, fmt='d', cmap='Blues_r')\n",
    "plt.title('Confusion Matrix on the Test Set')\n",
    "plt.ylabel('True Label')\n",
    "plt.xlabel('Predicted Label')\n",
    "plt.show()"
   ]
  },
  {
   "cell_type": "markdown",
   "metadata": {},
   "source": [
    "Identifying the Most Important Words for Classification According to the Model"
   ]
  },
  {
   "cell_type": "code",
   "execution_count": 34,
   "metadata": {},
   "outputs": [
    {
     "data": {
      "text/plain": [
       "['aa',\n",
       " 'aa aa',\n",
       " 'aa accord',\n",
       " 'aa accuse',\n",
       " 'aa along',\n",
       " 'aa already',\n",
       " 'aa article',\n",
       " 'aa baltimore',\n",
       " 'aa bb',\n",
       " 'aa bbc',\n",
       " 'aa best',\n",
       " 'aa border',\n",
       " 'aa bust',\n",
       " 'aa cause',\n",
       " 'aa change',\n",
       " 'aa could',\n",
       " 'aa different',\n",
       " 'aa dog',\n",
       " 'aa edits',\n",
       " 'aa end',\n",
       " 'aa even',\n",
       " 'aa filter',\n",
       " 'aa former',\n",
       " 'aa framerate',\n",
       " 'aa full',\n",
       " 'aa give',\n",
       " 'aa honestly',\n",
       " 'aa ja',\n",
       " 'aa jpg',\n",
       " 'aa likewise',\n",
       " 'aa literature',\n",
       " 'aa make',\n",
       " 'aa ment',\n",
       " 'aa might',\n",
       " 'aa namely',\n",
       " 'aa page',\n",
       " 'aa play',\n",
       " 'aa prove',\n",
       " 'aa put',\n",
       " 'aa really',\n",
       " 'aa require',\n",
       " 'aa resident',\n",
       " 'aa samael',\n",
       " 'aa since',\n",
       " 'aa street',\n",
       " 'aa svc',\n",
       " 'aa talk',\n",
       " 'aa three',\n",
       " 'aa vertical',\n",
       " 'aa well',\n",
       " 'aa wikipedia',\n",
       " 'aaa',\n",
       " 'aaa dea',\n",
       " 'aaa im',\n",
       " 'aaa mean',\n",
       " 'aaa pad',\n",
       " 'aaa page',\n",
       " 'aaa rat',\n",
       " 'aaaa',\n",
       " 'aaaa aa',\n",
       " 'aaaaaaaaaah',\n",
       " 'aaaaaaaaaahhhhhhhhhhhhhh',\n",
       " 'aaaaaaaaadm',\n",
       " 'aaaaaaaaadm rw',\n",
       " 'aaaaaaaaaq',\n",
       " 'aaaaaaaaaq kpiivnfneei',\n",
       " 'aaaaaaaacfo',\n",
       " 'aaaaaaaacfo expz',\n",
       " 'aaaaaaaaczy',\n",
       " 'aaaaaaaaczy zwr',\n",
       " 'aaaaaaaahhhhhhhhhhhhhhhhhhhhhhhhhhhhhhhhh',\n",
       " 'aaaaaaaari',\n",
       " 'aaaaaaaari uq',\n",
       " 'aaaaaaaayui',\n",
       " 'aaaaaaaayui unemgrj',\n",
       " 'aaaaaaw',\n",
       " 'aaaaaaw dengan',\n",
       " 'aaaawwww',\n",
       " 'aaaawwww widdle',\n",
       " 'aaaboyz',\n",
       " 'aaaboyz hotmail',\n",
       " 'aaages',\n",
       " 'aaages time',\n",
       " 'aaaghh',\n",
       " 'aaaghh every',\n",
       " 'aaahs',\n",
       " 'aaahs fairy',\n",
       " 'aaaww',\n",
       " 'aaaww thank',\n",
       " 'aab',\n",
       " 'aab html',\n",
       " 'aab wikipedia',\n",
       " 'aab wp',\n",
       " 'aaberg',\n",
       " 'aaberg lasse',\n",
       " 'aabove',\n",
       " 'aabove also',\n",
       " 'aabove see',\n",
       " 'aac',\n",
       " 'aac ruddy',\n",
       " 'aac site',\n",
       " 'aachen',\n",
       " 'aachen accord',\n",
       " 'aachen disregard',\n",
       " 'aachen usually',\n",
       " 'aachi',\n",
       " 'aachi masala',\n",
       " 'aad',\n",
       " 'aad opendocument',\n",
       " 'aadd',\n",
       " 'aadd good',\n",
       " 'aademia',\n",
       " 'aademia recently',\n",
       " 'aaf',\n",
       " 'aaf fhl',\n",
       " 'aaf possible',\n",
       " 'aaffect',\n",
       " 'aaffect communicate',\n",
       " 'aafp',\n",
       " 'aafp document',\n",
       " 'aafp org',\n",
       " 'aage',\n",
       " 'aage count',\n",
       " 'aah',\n",
       " 'aah explains',\n",
       " 'aah whatever',\n",
       " 'aahank',\n",
       " 'aahank naam',\n",
       " 'aahh',\n",
       " 'aahh dismas',\n",
       " 'aai',\n",
       " 'aai aero',\n",
       " 'aai data',\n",
       " 'aaiha',\n",
       " 'aaiha plain',\n",
       " 'aake',\n",
       " 'aake chod',\n",
       " 'aal',\n",
       " 'aal khwarizmi',\n",
       " 'aalertbot',\n",
       " 'aaliya',\n",
       " 'aaliya album',\n",
       " 'aaliya nicki',\n",
       " 'aaliyah',\n",
       " 'aaliyah album',\n",
       " 'aaliyah although',\n",
       " 'aaliyah cd',\n",
       " 'aaliyah fan',\n",
       " 'aaliyah http',\n",
       " 'aaliyah page',\n",
       " 'aaliyahremembered',\n",
       " 'aaliyahremembered homestead',\n",
       " 'aalnoyx',\n",
       " 'aalnoyx may',\n",
       " 'aals',\n",
       " 'aals directory',\n",
       " 'aamir',\n",
       " 'aamir khan',\n",
       " 'aamirjamil',\n",
       " 'aamirjamil blogspot',\n",
       " 'aaml',\n",
       " 'aaml deseves',\n",
       " 'aamu',\n",
       " 'aamu dwell',\n",
       " 'aan',\n",
       " 'aan approval',\n",
       " 'aan de',\n",
       " 'aan executive',\n",
       " 'aan specifies',\n",
       " 'aand',\n",
       " 'aand back',\n",
       " 'aang',\n",
       " 'aang like',\n",
       " 'aang often',\n",
       " 'aap',\n",
       " 'aap academy',\n",
       " 'aap allegation',\n",
       " 'aap claim',\n",
       " 'aap co',\n",
       " 'aap cps',\n",
       " 'aap demand',\n",
       " 'aap guideline',\n",
       " 'aap history',\n",
       " 'aap http',\n",
       " 'aap ie',\n",
       " 'aap iowa',\n",
       " 'aap oct',\n",
       " 'aap offer',\n",
       " 'aap pharmaceutical',\n",
       " 'aap promotional',\n",
       " 'aap repeat',\n",
       " 'aap run',\n",
       " 'aap sprang',\n",
       " 'aap website',\n",
       " 'aapkancr',\n",
       " 'aapkancr com',\n",
       " 'aapropriate',\n",
       " 'aapropriate loot',\n",
       " 'aar',\n",
       " 'aar june',\n",
       " 'aar kabhi',\n",
       " 'aar maanta',\n",
       " 'aarbitration',\n",
       " 'aarbitration frequests',\n",
       " 'aardman',\n",
       " 'aardman feature',\n",
       " 'aardsma',\n",
       " 'aardsma anati',\n",
       " 'aardsma argues',\n",
       " 'aardsma dr',\n",
       " 'aardsman',\n",
       " 'aardsman book',\n",
       " 'aardvark',\n",
       " 'aardvark book',\n",
       " 'aardvark edit',\n",
       " 'aardvark jayjg',\n",
       " 'aardvark one',\n",
       " 'aardvark talk',\n",
       " 'aardvark tubulidentata',\n",
       " 'aarem',\n",
       " 'aarem please',\n",
       " 'aarem would',\n",
       " 'aargh',\n",
       " 'aargh past',\n",
       " 'aarionrhod',\n",
       " 'aarne',\n",
       " 'aarne aarne',\n",
       " 'aarne thompson',\n",
       " 'aaron',\n",
       " 'aaron article',\n",
       " 'aaron ask',\n",
       " 'aaron austin',\n",
       " 'aaron blog',\n",
       " 'aaron brennenman',\n",
       " 'aaron burr',\n",
       " 'aaron christianson',\n",
       " 'aaron decendents',\n",
       " 'aaron decide',\n",
       " 'aaron derex',\n",
       " 'aaron described',\n",
       " 'aaron descussion',\n",
       " 'aaron dinkin',\n",
       " 'aaron first',\n",
       " 'aaron get',\n",
       " 'aaron halfaker',\n",
       " 'aaron happy',\n",
       " 'aaron inheritance',\n",
       " 'aaron jacob',\n",
       " 'aaron johnston',\n",
       " 'aaron jpg',\n",
       " 'aaron kaplan',\n",
       " 'aaron klein',\n",
       " 'aaron manager',\n",
       " 'aaron mehmet',\n",
       " 'aaron pierce',\n",
       " 'aaron pretty',\n",
       " 'aaron right',\n",
       " 'aaron saltzer',\n",
       " 'aaron sekhon',\n",
       " 'aaron sinclair',\n",
       " 'aaron son',\n",
       " 'aaron swartz',\n",
       " 'aaron talk',\n",
       " 'aaron thou',\n",
       " 'aaron today',\n",
       " 'aaron virdi',\n",
       " 'aaron way',\n",
       " 'aaron wherefore',\n",
       " 'aaron ye',\n",
       " 'aaron youtube',\n",
       " 'aaron zalman',\n",
       " 'aaronsw',\n",
       " 'aaronsw current',\n",
       " 'aaround',\n",
       " 'aaround guarantee',\n",
       " 'aarp',\n",
       " 'aarp age',\n",
       " 'aarp bulletin',\n",
       " 'aarrrrrrgh',\n",
       " 'aaryanrajput',\n",
       " 'aaryanrajput blog',\n",
       " 'aat',\n",
       " 'aat origin',\n",
       " 'aatnurszdizooatypojw',\n",
       " 'aatnurszdizooatypojw ved',\n",
       " 'aau',\n",
       " 'aau study',\n",
       " 'aave',\n",
       " 'aave english',\n",
       " 'aave eurocentric',\n",
       " 'aave view',\n",
       " 'aaviksoo',\n",
       " 'aaviksoo born',\n",
       " 'aaw',\n",
       " 'aaw scrub',\n",
       " 'aawsat',\n",
       " 'aawsat com',\n",
       " 'ab',\n",
       " 'ab aaaaaaaahhhhhhhhhhhhhhhhhhhhhhhhhhhhhhhhh',\n",
       " 'ab ab',\n",
       " 'ab add',\n",
       " 'ab ae',\n",
       " 'ab aft',\n",
       " 'ab augustine',\n",
       " 'ab bb',\n",
       " 'ab bet',\n",
       " 'ab blockin',\n",
       " 'ab boldchamp',\n",
       " 'ab cancel',\n",
       " 'ab canonicus',\n",
       " 'ab cbn',\n",
       " 'ab combine',\n",
       " 'ab count',\n",
       " 'ab da',\n",
       " 'ab dc',\n",
       " 'ab disambiguation',\n",
       " 'ab divide',\n",
       " 'ab ea',\n",
       " 'ab edits',\n",
       " 'ab ef',\n",
       " 'ab effect',\n",
       " 'ab every',\n",
       " 'ab gb',\n",
       " 'ab gutting',\n",
       " 'ab hl',\n",
       " 'ab iago',\n",
       " 'ab include',\n",
       " 'ab initio',\n",
       " 'ab la',\n",
       " 'ab make',\n",
       " 'ab member',\n",
       " 'ab might',\n",
       " 'ab military',\n",
       " 'ab nice',\n",
       " 'ab pakistan',\n",
       " 'ab pdf',\n",
       " 'ab seem',\n",
       " 'ab shqipni',\n",
       " 'ab side',\n",
       " 'ab statistic',\n",
       " 'ab subtract',\n",
       " 'ab thus',\n",
       " 'ab toout',\n",
       " 'ab unfortunately',\n",
       " 'ab usc',\n",
       " 'ab use',\n",
       " 'ab website',\n",
       " 'ab whaddon',\n",
       " 'ab would',\n",
       " 'aba',\n",
       " 'aba ask',\n",
       " 'aba cure',\n",
       " 'aba home',\n",
       " 'aba moron',\n",
       " 'aba standard',\n",
       " 'aba therapy',\n",
       " 'abacha',\n",
       " 'abacha sent',\n",
       " 'abacus',\n",
       " 'abacus luddite',\n",
       " 'abacus page',\n",
       " 'abad',\n",
       " 'abad gan',\n",
       " 'abad give',\n",
       " 'abad hebrew',\n",
       " 'abad mean',\n",
       " 'abad register',\n",
       " 'abad secretary',\n",
       " 'abad stay',\n",
       " 'abadan',\n",
       " 'abadan oil',\n",
       " 'abadan refinery',\n",
       " 'abaddon',\n",
       " 'abaddon greek',\n",
       " 'abaddon hebrew',\n",
       " 'abade',\n",
       " 'abade darood',\n",
       " 'abade gan',\n",
       " 'abandon',\n",
       " 'abandon abandon',\n",
       " 'abandon account',\n",
       " 'abandon adan',\n",
       " 'abandon anfield',\n",
       " 'abandon blog',\n",
       " 'abandon campaign',\n",
       " 'abandon chiang',\n",
       " 'abandon child',\n",
       " 'abandon collaborate',\n",
       " 'abandon common',\n",
       " 'abandon contribution',\n",
       " 'abandon could',\n",
       " 'abandon country',\n",
       " 'abandon culture',\n",
       " 'abandon denounce',\n",
       " 'abandon disambiguation',\n",
       " 'abandon draft',\n",
       " 'abandon edit',\n",
       " 'abandon effort',\n",
       " 'abandon euthanized',\n",
       " 'abandon even',\n",
       " 'abandon every',\n",
       " 'abandon fact',\n",
       " 'abandon favour',\n",
       " 'abandon first',\n",
       " 'abandon greenland',\n",
       " 'abandon hijab',\n",
       " 'abandon hope',\n",
       " 'abandon house',\n",
       " 'abandon idea',\n",
       " 'abandon interest',\n",
       " 'abandon island',\n",
       " 'abandon jfk',\n",
       " 'abandon later',\n",
       " 'abandon leather',\n",
       " 'abandon mechanic',\n",
       " 'abandon merge',\n",
       " 'abandon name',\n",
       " 'abandon offensive',\n",
       " 'abandon others',\n",
       " 'abandon page',\n",
       " 'abandon parish',\n",
       " 'abandon please',\n",
       " 'abandon plunder',\n",
       " 'abandon pretense',\n",
       " 'abandon previous',\n",
       " 'abandon project',\n",
       " 'abandon quarter',\n",
       " 'abandon railroad',\n",
       " 'abandon ridiculous',\n",
       " 'abandon robin',\n",
       " 'abandon ruling',\n",
       " 'abandon rumor',\n",
       " 'abandon sandbox',\n",
       " 'abandon september',\n",
       " 'abandon several',\n",
       " 'abandon ship',\n",
       " 'abandon shotokan',\n",
       " 'abandon simply',\n",
       " 'abandon site',\n",
       " 'abandon social',\n",
       " 'abandon start',\n",
       " 'abandon supplement',\n",
       " 'abandon throughout',\n",
       " 'abandon traditional',\n",
       " 'abandon transform',\n",
       " 'abandon understand',\n",
       " 'abandon university',\n",
       " 'abandon use',\n",
       " 'abandon want',\n",
       " 'abandon wikipedia',\n",
       " 'abandonded',\n",
       " 'abandonded meaning',\n",
       " 'abandonment',\n",
       " 'abandonment circumcision',\n",
       " 'abandonment decadent',\n",
       " 'abandonment international',\n",
       " 'abandonment liberalism',\n",
       " 'abandonment one',\n",
       " 'abandonment realignment',\n",
       " 'abandonment traci',\n",
       " 'abandonned',\n",
       " 'abandonned believe',\n",
       " 'abanes',\n",
       " 'abanes lay',\n",
       " 'abaranger',\n",
       " 'abaranger dekaranger',\n",
       " 'abarat',\n",
       " 'abarat really',\n",
       " 'abarat related',\n",
       " 'abarbanel',\n",
       " 'abarbanel nl',\n",
       " 'abarenoh',\n",
       " 'abarenoh name',\n",
       " 'abase',\n",
       " 'abase cause',\n",
       " 'abase deface',\n",
       " 'abassids',\n",
       " 'abassids surplanted',\n",
       " 'abatayo',\n",
       " 'abatayo daclan',\n",
       " 'abate',\n",
       " 'abate immediate',\n",
       " 'abate user',\n",
       " 'abaya',\n",
       " 'abaya company',\n",
       " 'abb',\n",
       " 'abb apni',\n",
       " 'abb attack',\n",
       " 'abb denial',\n",
       " 'abb immediatamente',\n",
       " 'abb spite',\n",
       " 'abb state',\n",
       " 'abba',\n",
       " 'abba eban',\n",
       " 'abbas',\n",
       " 'abbas armenian',\n",
       " 'abbas babaei',\n",
       " 'abbas babei',\n",
       " 'abbas basically',\n",
       " 'abbas companion',\n",
       " 'abbas deportation',\n",
       " 'abbas devastate',\n",
       " 'abbas great',\n",
       " 'abbas ibn',\n",
       " 'abbas iran',\n",
       " 'abbas ismael',\n",
       " 'abbas move',\n",
       " 'abbas naqvi',\n",
       " 'abbas nourish',\n",
       " 'abbas period',\n",
       " 'abbas qadri',\n",
       " 'abbas rana',\n",
       " 'abbas rizvi',\n",
       " 'abbas royal',\n",
       " 'abbas subsequent',\n",
       " 'abbas th',\n",
       " 'abbasaheb',\n",
       " 'abbasaheb deshmukh',\n",
       " 'abbasid',\n",
       " 'abbasid account',\n",
       " 'abbasid caliphate',\n",
       " 'abbasid umayyad',\n",
       " 'abbasids',\n",
       " 'abbasids important',\n",
       " 'abbassed',\n",
       " 'abbassed thing',\n",
       " 'abbau',\n",
       " 'abbau bilingual',\n",
       " 'abbe',\n",
       " 'abbe jean',\n",
       " 'abberations',\n",
       " 'abberations freeman',\n",
       " 'abberations sadly',\n",
       " 'abberline',\n",
       " 'abbetting',\n",
       " 'abbetting someone',\n",
       " 'abbey',\n",
       " 'abbey campbell',\n",
       " 'abbey curly',\n",
       " 'abbey death',\n",
       " 'abbey delete',\n",
       " 'abbey display',\n",
       " 'abbey dissolve',\n",
       " 'abbey foreign',\n",
       " 'abbey gateway',\n",
       " 'abbey hill',\n",
       " 'abbey john',\n",
       " 'abbey make',\n",
       " 'abbey march',\n",
       " 'abbey masterpiece',\n",
       " 'abbey possession',\n",
       " 'abbey priory',\n",
       " 'abbey really',\n",
       " 'abbey recently',\n",
       " 'abbey road',\n",
       " 'abbey viking',\n",
       " 'abbeymaynard',\n",
       " 'abbeymaynard sandbox',\n",
       " 'abbi',\n",
       " 'abbi show',\n",
       " 'abbie',\n",
       " 'abbie bakan',\n",
       " 'abbot',\n",
       " 'abbot become',\n",
       " 'abbot finally',\n",
       " 'abbot plymouth',\n",
       " 'abbott',\n",
       " 'abbott choose',\n",
       " 'abbott costello',\n",
       " 'abbott primarily',\n",
       " 'abbott rj',\n",
       " 'abbott serf',\n",
       " 'abbottabad',\n",
       " 'abbottabad brigadier',\n",
       " 'abbottabad dr',\n",
       " 'abbottabad engineer',\n",
       " 'abbottabad khan',\n",
       " 'abbottabad major',\n",
       " 'abbottabad mohammed',\n",
       " 'abbottabad orush',\n",
       " 'abbottabad taimoor',\n",
       " 'abbottabad wing',\n",
       " 'abbottsford',\n",
       " 'abbottsford road',\n",
       " 'abbr',\n",
       " 'abbr reader',\n",
       " 'abbr result',\n",
       " 'abbrasive',\n",
       " 'abbrasive personally',\n",
       " 'abbrev',\n",
       " 'abbrev alt',\n",
       " 'abbrev bus',\n",
       " 'abbrev byp',\n",
       " 'abbrev spur',\n",
       " 'abbrev truck',\n",
       " 'abbrevation',\n",
       " 'abbrevation barbershop',\n",
       " 'abbreviate',\n",
       " 'abbreviate citation',\n",
       " 'abbreviate concern',\n",
       " 'abbreviate confine',\n",
       " 'abbreviate english',\n",
       " 'abbreviate form',\n",
       " 'abbreviate id',\n",
       " 'abbreviate juni',\n",
       " 'abbreviate position',\n",
       " 'abbreviate rock',\n",
       " 'abbreviate section',\n",
       " 'abbreviate thus',\n",
       " 'abbreviate title',\n",
       " 'abbreviate use',\n",
       " 'abbreviate version',\n",
       " 'abbreviate wp',\n",
       " 'abbreviates',\n",
       " 'abbreviates saint',\n",
       " 'abbreviation',\n",
       " 'abbreviation abandon',\n",
       " 'abbreviation also',\n",
       " 'abbreviation application',\n",
       " 'abbreviation bc',\n",
       " 'abbreviation bracket',\n",
       " 'abbreviation ce',\n",
       " 'abbreviation click',\n",
       " 'abbreviation color',\n",
       " 'abbreviation commonly',\n",
       " 'abbreviation country',\n",
       " 'abbreviation emission',\n",
       " 'abbreviation europe',\n",
       " 'abbreviation happy',\n",
       " 'abbreviation however',\n",
       " 'abbreviation important',\n",
       " 'abbreviation include',\n",
       " 'abbreviation info',\n",
       " 'abbreviation information',\n",
       " 'abbreviation ip',\n",
       " 'abbreviation jpn',\n",
       " 'abbreviation justify',\n",
       " 'abbreviation know',\n",
       " 'abbreviation latin',\n",
       " 'abbreviation like',\n",
       " 'abbreviation link',\n",
       " 'abbreviation name',\n",
       " 'abbreviation page',\n",
       " 'abbreviation personal',\n",
       " 'abbreviation phe',\n",
       " 'abbreviation please',\n",
       " 'abbreviation plus',\n",
       " 'abbreviation pov',\n",
       " 'abbreviation pronounce',\n",
       " 'abbreviation rather',\n",
       " 'abbreviation reference',\n",
       " 'abbreviation related',\n",
       " 'abbreviation search',\n",
       " 'abbreviation sm',\n",
       " 'abbreviation stand',\n",
       " 'abbreviation state',\n",
       " 'abbreviation still',\n",
       " 'abbreviation syd',\n",
       " 'abbreviation template',\n",
       " 'abbreviation term',\n",
       " 'abbreviation thanks',\n",
       " 'abbreviation threw',\n",
       " 'abbreviation title',\n",
       " 'abbreviation tmtcfy',\n",
       " 'abbreviation topic',\n",
       " 'abbreviation two',\n",
       " 'abbreviation united',\n",
       " 'abbreviation use',\n",
       " 'abbreviation vandalism',\n",
       " 'abbreviation without',\n",
       " 'abbreviation would',\n",
       " 'abbrevs',\n",
       " 'abbrevs redirects',\n",
       " 'abby',\n",
       " 'abby may',\n",
       " 'abby meet',\n",
       " 'abby sick',\n",
       " 'abbythecat',\n",
       " 'abbywinters',\n",
       " 'abbywinters com',\n",
       " 'abc',\n",
       " 'abc actual',\n",
       " 'abc al',\n",
       " 'abc artist',\n",
       " 'abc australia',\n",
       " 'abc australian',\n",
       " 'abc cast',\n",
       " 'abc ciations',\n",
       " 'abc cnn',\n",
       " 'abc confirm',\n",
       " 'abc conjecture',\n",
       " 'abc could',\n",
       " 'abc daytime',\n",
       " 'abc extreme',\n",
       " 'abc feel',\n",
       " 'abc film',\n",
       " 'abc grey',\n",
       " 'abc http',\n",
       " 'abc kamboj',\n",
       " 'abc kid',\n",
       " 'abc last',\n",
       " 'abc left',\n",
       " 'abc light',\n",
       " 'abc may',\n",
       " 'abc medianet',\n",
       " 'abc meet',\n",
       " 'abc million',\n",
       " 'abc monster',\n",
       " 'abc net',\n",
       " 'abc network',\n",
       " 'abc never',\n",
       " 'abc new',\n",
       " 'abc news',\n",
       " 'abc next',\n",
       " 'abc nightly',\n",
       " 'abc nlp',\n",
       " 'abc noteworthy',\n",
       " 'abc officially',\n",
       " 'abc original',\n",
       " 'abc outback',\n",
       " 'abc produce',\n",
       " 'abc radio',\n",
       " 'abc refer',\n",
       " 'abc renew',\n",
       " 'abc reputable',\n",
       " 'abc riverina',\n",
       " 'abc rookie',\n",
       " 'abc run',\n",
       " 'abc say',\n",
       " 'abc schoolhouse',\n",
       " 'abc sound',\n",
       " 'abc sunday',\n",
       " 'abc suppose',\n",
       " 'abc television',\n",
       " 'abc testify',\n",
       " 'abc think',\n",
       " 'abc two',\n",
       " 'abc website',\n",
       " 'abc would',\n",
       " 'abc write',\n",
       " 'abcd',\n",
       " 'abcd may',\n",
       " 'abcde',\n",
       " 'abce',\n",
       " 'abce feel',\n",
       " 'abce malke',\n",
       " 'abce yes',\n",
       " 'abcedare',\n",
       " 'abcedare agenda',\n",
       " 'abcedere',\n",
       " 'abcedere buddipriya',\n",
       " 'abclocal',\n",
       " 'abclocal go',\n",
       " 'abcmonster',\n",
       " 'abcmonster give',\n",
       " 'abcmonster monster',\n",
       " 'abcmonster trooled',\n",
       " 'abcnews',\n",
       " 'abcnews go',\n",
       " 'abcnews report',\n",
       " 'abd',\n",
       " 'abd al',\n",
       " 'abd border',\n",
       " 'abd choice',\n",
       " 'abd comment',\n",
       " 'abd creates',\n",
       " 'abd explict',\n",
       " 'abd get',\n",
       " 'abd muslim',\n",
       " 'abd rule',\n",
       " 'abd something',\n",
       " 'abd stay',\n",
       " 'abd whoever',\n",
       " 'abd william',\n",
       " 'abd would',\n",
       " 'abdallah',\n",
       " 'abdallah hassan',\n",
       " 'abdalyar',\n",
       " 'abdalyar unsupported',\n",
       " 'abdel',\n",
       " 'abdel nasser',\n",
       " 'abdel rahman',\n",
       " 'abdelkader',\n",
       " 'abdelkader well',\n",
       " 'abdi',\n",
       " 'abdi godane',\n",
       " 'abdicate',\n",
       " 'abdicate altogether',\n",
       " 'abdication',\n",
       " 'abdication centralize',\n",
       " 'abdication delayed',\n",
       " 'abdication find',\n",
       " 'abdication queen',\n",
       " 'abdielcolberg',\n",
       " 'abdielcolberg gif',\n",
       " 'abdin',\n",
       " 'abdin assyria',\n",
       " 'abdirahman',\n",
       " 'abdirahman mohamud',\n",
       " 'abdolmalek',\n",
       " 'abdolmalek rigi',\n",
       " 'abdomen',\n",
       " 'abdomen die',\n",
       " 'abdomen inflammatory',\n",
       " 'abdomen limb',\n",
       " 'abdomen point',\n",
       " 'abdomen way',\n",
       " 'abdominal',\n",
       " 'abdominal cavity',\n",
       " 'abdominal pressure',\n",
       " 'abdou',\n",
       " 'abdou bouri',\n",
       " 'abduct',\n",
       " 'abduct alien',\n",
       " 'abduct child',\n",
       " 'abduct keep',\n",
       " 'abduct la',\n",
       " 'abductee',\n",
       " 'abductee blaine',\n",
       " 'abduction',\n",
       " 'abduction crime',\n",
       " 'abduction lawful',\n",
       " 'abduction source',\n",
       " 'abductive',\n",
       " 'abductive reason',\n",
       " 'abdul',\n",
       " 'abdul ahad',\n",
       " 'abdul aziz',\n",
       " 'abdul halim',\n",
       " 'abdul hamid',\n",
       " 'abdul haq',\n",
       " 'abdul haque',\n",
       " 'abdul jalil',\n",
       " 'abdul kalam',\n",
       " 'abdul malik',\n",
       " 'abdul nayeem',\n",
       " 'abdul omar',\n",
       " 'abdul rahman',\n",
       " 'abdul rauf',\n",
       " 'abdul rip',\n",
       " 'abdul shakoor',\n",
       " 'abdul wahhab',\n",
       " 'abdulaziz',\n",
       " 'abdulaziz al',\n",
       " 'abdulhakim',\n",
       " 'abdulhakim arvasi',\n",
       " 'abdullah',\n",
       " 'abdullah abdullah',\n",
       " 'abdullah al',\n",
       " 'abdullah bought',\n",
       " 'abdullah calan',\n",
       " 'abdullah ensour',\n",
       " 'abdullah fact',\n",
       " 'abdullah gazi',\n",
       " 'abdullah hassan',\n",
       " 'abdullah man',\n",
       " 'abdullah mansour',\n",
       " 'abdullah remove',\n",
       " 'abdullah yunus',\n",
       " 'abdullahi',\n",
       " 'abdullahi bayi',\n",
       " 'abdullahi mohamed',\n",
       " 'abdulqawi',\n",
       " 'abdulqawi ahmed',\n",
       " 'abdulrazak',\n",
       " 'abdulrazak gurnah',\n",
       " 'abdur',\n",
       " 'abdur rab',\n",
       " 'abdusamatov',\n",
       " 'abdusamatov back',\n",
       " 'abe',\n",
       " 'abe already',\n",
       " 'abe beleive',\n",
       " 'abe book',\n",
       " 'abe case',\n",
       " 'abe cd',\n",
       " 'abe dashiel',\n",
       " 'abe gay',\n",
       " 'abe hooray',\n",
       " 'abe know',\n",
       " 'abe learn',\n",
       " 'abe mean',\n",
       " 'abe normal',\n",
       " 'abecedare',\n",
       " 'abecedare dab',\n",
       " 'abecedare end',\n",
       " 'abecedare tell',\n",
       " 'abeda',\n",
       " 'abeda ubeda',\n",
       " 'abel',\n",
       " 'abel original',\n",
       " 'abel ruffini',\n",
       " 'abel smith',\n",
       " 'abel start',\n",
       " 'abel sum',\n",
       " 'abel summable',\n",
       " 'abel wan',\n",
       " 'abele',\n",
       " 'abele trumbauer',\n",
       " 'abelson',\n",
       " 'abelson award',\n",
       " 'abelson receive',\n",
       " 'abelson subject',\n",
       " 'abelson sussman',\n",
       " 'abendkl',\n",
       " 'abendkl nge',\n",
       " 'aber',\n",
       " 'aber benefit',\n",
       " 'aber da',\n",
       " 'abercrombie',\n",
       " 'abercrombie wikipedia',\n",
       " 'aberdeen',\n",
       " 'aberdeen mean',\n",
       " 'aberdeen mention',\n",
       " 'aberdeen renounce',\n",
       " 'aberdeen school',\n",
       " 'aberdeen silly',\n",
       " 'aberdeen similarly',\n",
       " 'aberforth',\n",
       " 'aberforth dumbledore',\n",
       " 'aberforth insists',\n",
       " 'aberforth provide',\n",
       " 'aberforth summon',\n",
       " 'aberg',\n",
       " 'aberg lasse',\n",
       " 'aberrantly',\n",
       " 'aberrantly sexist',\n",
       " 'aberration',\n",
       " 'aberration diagnose',\n",
       " 'aberration limited',\n",
       " 'aberration point',\n",
       " 'aberration something',\n",
       " 'aberration sure',\n",
       " 'aberration usually',\n",
       " 'abert',\n",
       " 'abert hi',\n",
       " 'abet',\n",
       " 'abet comrade',\n",
       " 'abet hack',\n",
       " 'abet violation',\n",
       " 'abeter',\n",
       " 'abeter miscreant',\n",
       " 'abett',\n",
       " 'abett something',\n",
       " 'abettor',\n",
       " 'abetz',\n",
       " 'abetz group',\n",
       " 'abetz visit',\n",
       " 'abeyance',\n",
       " 'abeyance meantime',\n",
       " 'abf',\n",
       " 'abf apparently',\n",
       " 'abf maybe',\n",
       " 'abf taste',\n",
       " 'abf treat',\n",
       " 'abf want',\n",
       " 'abf wikipedia',\n",
       " 'abfsg',\n",
       " 'abfsg com',\n",
       " 'abgang',\n",
       " 'abgang der',\n",
       " 'abhaga',\n",
       " 'abhaile',\n",
       " 'abhaile article',\n",
       " 'abhay',\n",
       " 'abhay compose',\n",
       " 'abhay live',\n",
       " 'abhay vincent',\n",
       " 'abhayagiri',\n",
       " 'abhayagiri pretty',\n",
       " 'abhi',\n",
       " 'abhi dharma',\n",
       " 'abhi technology',\n",
       " 'abhidhamma',\n",
       " 'abhidhamma kathavatthu',\n",
       " 'abhidharma',\n",
       " 'abhidharma try',\n",
       " 'abhijay',\n",
       " 'abhijay point',\n",
       " 'abhijeet',\n",
       " 'abhijeet safai',\n",
       " 'abhimanyu',\n",
       " 'abhimanyu recently',\n",
       " 'abhira',\n",
       " 'abhira ahir',\n",
       " 'abhira central',\n",
       " 'abhira claim',\n",
       " 'abhira etc',\n",
       " 'abhira idea',\n",
       " 'abhira nonesense',\n",
       " 'abhira synonym',\n",
       " 'abhira translate',\n",
       " 'abhiramdasji',\n",
       " 'abhiramdasji tyagi',\n",
       " 'abhisamaya',\n",
       " 'abhisamaya alamkara',\n",
       " 'abhishek',\n",
       " 'abhishek difference',\n",
       " 'abhishek disrupt',\n",
       " 'abhishek equally',\n",
       " ...]"
      ]
     },
     "execution_count": 34,
     "metadata": {},
     "output_type": "execute_result"
    }
   ],
   "source": [
    "tfidf = best_model_lr.named_steps['tfidf']\n",
    "tfidf.fit(X_train)  \n",
    "# Retrieving the List of Features\n",
    "feature_names = tfidf.get_feature_names()\n",
    "feature_names"
   ]
  },
  {
   "cell_type": "code",
   "execution_count": 35,
   "metadata": {},
   "outputs": [
    {
     "name": "stdout",
     "output_type": "stream",
     "text": [
      "Most important feature for the logistic regression model:\n",
      "Feature             fuck\n",
      "Coefficient    47.070779\n",
      "Name: 497985, dtype: object\n"
     ]
    }
   ],
   "source": [
    "# Extracting coefficients and feature names\n",
    "coefficients = best_model_lr.named_steps['logreg'].coef_.tolist()[0]\n",
    "feature_names = best_model_lr.named_steps['tfidf'].get_feature_names()\n",
    "\n",
    "# Creating a DataFrame for better analysis\n",
    "coefficients_df = pd.DataFrame({\n",
    "    'Feature': feature_names,\n",
    "    'Coefficient': coefficients\n",
    "})\n",
    "\n",
    "# Identifying the most important feature based on the absolute coefficient value\n",
    "most_important_feature = coefficients_df.loc[coefficients_df['Coefficient'].abs().idxmax()]\n",
    "\n",
    "# Displaying the most important feature\n",
    "print(\"Most important feature for the logistic regression model:\")\n",
    "print(most_important_feature)"
   ]
  },
  {
   "cell_type": "markdown",
   "metadata": {},
   "source": [
    "## Conclusions"
   ]
  },
  {
   "cell_type": "markdown",
   "metadata": {},
   "source": [
    "During the text sentiment prediction project, the following work was carried out:\n",
    "\n",
    "- The client provided a file containing **159,292 rows and 3 columns**. No missing values or duplicates were found.  \n",
    "- The data was converted to **lowercase**, unnecessary symbols and spaces were removed, and only English alphabet letters were retained.  \n",
    "- **Lemmatization (WordNetLemmatizer), tokenization (word_tokenize), and stop-word removal** were performed.  \n",
    "- The data was **vectorized using TF-IDF**.  \n",
    "- The dataset was split into **training and test sets (50/50)** while maintaining the proportions of the target variable.  \n",
    "\n",
    "**Model Training**\n",
    "To identify the best model, three classifiers were trained:  \n",
    "\n",
    "- **LogisticRegression**  \n",
    "- **LGBMClassifier**  \n",
    "- **DecisionTreeClassifier**  \n",
    "\n",
    "The training results are presented in the table below."
   ]
  },
  {
   "cell_type": "code",
   "execution_count": 36,
   "metadata": {
    "scrolled": true
   },
   "outputs": [
    {
     "data": {
      "text/html": [
       "<div>\n",
       "<style scoped>\n",
       "    .dataframe tbody tr th:only-of-type {\n",
       "        vertical-align: middle;\n",
       "    }\n",
       "\n",
       "    .dataframe tbody tr th {\n",
       "        vertical-align: top;\n",
       "    }\n",
       "\n",
       "    .dataframe thead th {\n",
       "        text-align: right;\n",
       "    }\n",
       "</style>\n",
       "<table border=\"1\" class=\"dataframe\">\n",
       "  <thead>\n",
       "    <tr style=\"text-align: right;\">\n",
       "      <th></th>\n",
       "      <th>Model</th>\n",
       "      <th>Training time</th>\n",
       "      <th>Params</th>\n",
       "      <th>F1</th>\n",
       "    </tr>\n",
       "  </thead>\n",
       "  <tbody>\n",
       "    <tr>\n",
       "      <th>0</th>\n",
       "      <td>LogisticRegression</td>\n",
       "      <td>80.178313</td>\n",
       "      <td>{'logreg__C': 10, 'tfidf__ngram_range': (1, 2)}</td>\n",
       "      <td>0.7740</td>\n",
       "    </tr>\n",
       "    <tr>\n",
       "      <th>1</th>\n",
       "      <td>LGBMClassifier</td>\n",
       "      <td>82.435481</td>\n",
       "      <td>{'tfidf__ngram_range': (1, 2), 'LGMB__n_estima...</td>\n",
       "      <td>0.7072</td>\n",
       "    </tr>\n",
       "    <tr>\n",
       "      <th>2</th>\n",
       "      <td>DecisionTreeClassifier</td>\n",
       "      <td>30.684591</td>\n",
       "      <td>{'TREE__max_depth': 45, 'tfidf__ngram_range': ...</td>\n",
       "      <td>0.6375</td>\n",
       "    </tr>\n",
       "  </tbody>\n",
       "</table>\n",
       "</div>"
      ],
      "text/plain": [
       "                    Model  Training time  \\\n",
       "0      LogisticRegression      80.178313   \n",
       "1          LGBMClassifier      82.435481   \n",
       "2  DecisionTreeClassifier      30.684591   \n",
       "\n",
       "                                              Params      F1  \n",
       "0    {'logreg__C': 10, 'tfidf__ngram_range': (1, 2)}  0.7740  \n",
       "1  {'tfidf__ngram_range': (1, 2), 'LGMB__n_estima...  0.7072  \n",
       "2  {'TREE__max_depth': 45, 'tfidf__ngram_range': ...  0.6375  "
      ]
     },
     "execution_count": 36,
     "metadata": {},
     "output_type": "execute_result"
    }
   ],
   "source": [
    "table"
   ]
  },
  {
   "cell_type": "markdown",
   "metadata": {},
   "source": [
    "The model's performance was evaluated using the F1 metric, which, according to the requirement, should not be lower than 0.75."
   ]
  },
  {
   "cell_type": "markdown",
   "metadata": {},
   "source": [
    "The best-performing model is **LogisticRegression**, with the following metrics:  \n",
    "- **F1 score on the training set:** 0.77  \n",
    "- **F1 score on the test set:** 0.77"
   ]
  }
 ],
 "metadata": {
  "ExecuteTimeLog": [
   {
    "duration": 56,
    "start_time": "2024-10-28T17:03:33.841Z"
   },
   {
    "duration": 429,
    "start_time": "2024-10-28T17:03:37.898Z"
   },
   {
    "duration": 1409,
    "start_time": "2024-10-28T17:03:59.902Z"
   },
   {
    "duration": 934,
    "start_time": "2024-10-28T17:39:42.406Z"
   },
   {
    "duration": 907,
    "start_time": "2024-10-28T17:55:44.919Z"
   },
   {
    "duration": 928,
    "start_time": "2024-10-28T17:55:48.247Z"
   },
   {
    "duration": 908,
    "start_time": "2024-10-28T17:58:53.730Z"
   },
   {
    "duration": 878,
    "start_time": "2024-10-28T17:59:04.424Z"
   },
   {
    "duration": 222,
    "start_time": "2024-10-28T17:59:58.374Z"
   },
   {
    "duration": 205,
    "start_time": "2024-10-28T18:00:03.204Z"
   },
   {
    "duration": 905,
    "start_time": "2024-10-28T18:01:00.362Z"
   },
   {
    "duration": 10,
    "start_time": "2024-10-28T18:01:43.648Z"
   },
   {
    "duration": 8,
    "start_time": "2024-10-28T18:01:55.217Z"
   },
   {
    "duration": 32,
    "start_time": "2024-10-28T18:03:48.008Z"
   },
   {
    "duration": 27,
    "start_time": "2024-10-28T18:03:52.592Z"
   },
   {
    "duration": 70,
    "start_time": "2024-10-28T18:05:39.366Z"
   },
   {
    "duration": 935,
    "start_time": "2024-10-28T18:12:15.788Z"
   },
   {
    "duration": 226,
    "start_time": "2024-10-28T18:12:19.616Z"
   },
   {
    "duration": 28,
    "start_time": "2024-10-28T18:12:19.907Z"
   },
   {
    "duration": 8,
    "start_time": "2024-10-28T18:17:26.459Z"
   },
   {
    "duration": 256,
    "start_time": "2024-10-28T18:18:23.331Z"
   },
   {
    "duration": 268,
    "start_time": "2024-10-28T18:18:39.433Z"
   },
   {
    "duration": 290,
    "start_time": "2024-10-28T18:18:49.434Z"
   },
   {
    "duration": 302,
    "start_time": "2024-10-28T18:18:57.408Z"
   },
   {
    "duration": 1261,
    "start_time": "2024-10-28T18:25:33.975Z"
   },
   {
    "duration": 65,
    "start_time": "2024-10-28T18:56:20.493Z"
   },
   {
    "duration": 4,
    "start_time": "2024-10-28T18:56:24.488Z"
   },
   {
    "duration": 14,
    "start_time": "2024-10-28T18:56:27.372Z"
   },
   {
    "duration": 1529,
    "start_time": "2024-10-28T19:00:42.591Z"
   },
   {
    "duration": 630,
    "start_time": "2024-10-28T19:00:49.034Z"
   },
   {
    "duration": 701,
    "start_time": "2024-10-28T19:01:32.658Z"
   },
   {
    "duration": 663,
    "start_time": "2024-10-28T19:01:53.455Z"
   },
   {
    "duration": 689,
    "start_time": "2024-10-28T19:02:09.629Z"
   },
   {
    "duration": 1576,
    "start_time": "2024-10-28T19:03:05.299Z"
   },
   {
    "duration": 11,
    "start_time": "2024-10-28T19:32:07.296Z"
   },
   {
    "duration": 3147,
    "start_time": "2024-10-28T19:32:11.253Z"
   },
   {
    "duration": 708,
    "start_time": "2024-10-28T19:32:14.836Z"
   },
   {
    "duration": 466,
    "start_time": "2024-10-28T19:33:42.651Z"
   },
   {
    "duration": 488,
    "start_time": "2024-10-28T19:34:20.194Z"
   },
   {
    "duration": 453,
    "start_time": "2024-10-28T19:35:03.448Z"
   },
   {
    "duration": 771,
    "start_time": "2024-10-28T19:35:29.247Z"
   },
   {
    "duration": 843,
    "start_time": "2024-10-28T19:36:13.759Z"
   },
   {
    "duration": 4071,
    "start_time": "2024-10-28T19:37:28.563Z"
   },
   {
    "duration": 967,
    "start_time": "2024-10-28T19:37:32.636Z"
   },
   {
    "duration": 247,
    "start_time": "2024-10-28T19:37:33.604Z"
   },
   {
    "duration": 28,
    "start_time": "2024-10-28T19:37:33.853Z"
   },
   {
    "duration": 335,
    "start_time": "2024-10-28T19:37:33.883Z"
   },
   {
    "duration": 2250,
    "start_time": "2024-10-28T19:37:34.221Z"
   },
   {
    "duration": 1436,
    "start_time": "2024-10-28T20:11:24.970Z"
   },
   {
    "duration": 995,
    "start_time": "2024-10-28T20:11:26.408Z"
   },
   {
    "duration": 246,
    "start_time": "2024-10-28T20:11:27.404Z"
   },
   {
    "duration": 27,
    "start_time": "2024-10-28T20:11:27.652Z"
   },
   {
    "duration": 301,
    "start_time": "2024-10-28T20:11:27.681Z"
   },
   {
    "duration": 2236,
    "start_time": "2024-10-28T20:11:27.984Z"
   },
   {
    "duration": 3,
    "start_time": "2024-10-28T20:11:30.222Z"
   },
   {
    "duration": 149,
    "start_time": "2024-10-28T20:11:30.226Z"
   },
   {
    "duration": 0,
    "start_time": "2024-10-28T20:11:30.376Z"
   },
   {
    "duration": 0,
    "start_time": "2024-10-28T20:11:30.377Z"
   },
   {
    "duration": 0,
    "start_time": "2024-10-28T20:11:30.379Z"
   },
   {
    "duration": 1545,
    "start_time": "2024-10-28T20:12:48.596Z"
   },
   {
    "duration": 1023,
    "start_time": "2024-10-28T20:12:50.143Z"
   },
   {
    "duration": 229,
    "start_time": "2024-10-28T20:12:51.168Z"
   },
   {
    "duration": 33,
    "start_time": "2024-10-28T20:12:51.400Z"
   },
   {
    "duration": 301,
    "start_time": "2024-10-28T20:12:51.435Z"
   },
   {
    "duration": 2242,
    "start_time": "2024-10-28T20:12:51.738Z"
   },
   {
    "duration": 4,
    "start_time": "2024-10-28T20:12:53.987Z"
   },
   {
    "duration": 63680,
    "start_time": "2024-10-28T20:12:53.992Z"
   },
   {
    "duration": 137,
    "start_time": "2024-10-28T20:13:57.674Z"
   },
   {
    "duration": 0,
    "start_time": "2024-10-28T20:13:57.813Z"
   },
   {
    "duration": 0,
    "start_time": "2024-10-28T20:13:57.818Z"
   },
   {
    "duration": 0,
    "start_time": "2024-10-28T20:13:57.819Z"
   },
   {
    "duration": 3208,
    "start_time": "2024-10-28T20:16:25.073Z"
   },
   {
    "duration": 1516,
    "start_time": "2024-10-28T20:31:12.708Z"
   },
   {
    "duration": 1014,
    "start_time": "2024-10-28T20:31:14.226Z"
   },
   {
    "duration": 253,
    "start_time": "2024-10-28T20:31:15.242Z"
   },
   {
    "duration": 36,
    "start_time": "2024-10-28T20:31:15.497Z"
   },
   {
    "duration": 341,
    "start_time": "2024-10-28T20:31:15.535Z"
   },
   {
    "duration": 2241,
    "start_time": "2024-10-28T20:31:15.877Z"
   },
   {
    "duration": 1094,
    "start_time": "2024-10-28T20:31:18.120Z"
   },
   {
    "duration": 0,
    "start_time": "2024-10-28T20:31:19.217Z"
   },
   {
    "duration": 0,
    "start_time": "2024-10-28T20:31:19.219Z"
   },
   {
    "duration": 0,
    "start_time": "2024-10-28T20:31:19.220Z"
   },
   {
    "duration": 0,
    "start_time": "2024-10-28T20:31:19.222Z"
   },
   {
    "duration": 0,
    "start_time": "2024-10-28T20:31:19.223Z"
   },
   {
    "duration": 345,
    "start_time": "2024-10-28T20:32:33.821Z"
   },
   {
    "duration": 1449,
    "start_time": "2024-10-28T20:49:21.463Z"
   },
   {
    "duration": 132,
    "start_time": "2024-10-28T20:49:22.914Z"
   },
   {
    "duration": 2742,
    "start_time": "2024-10-28T20:49:23.048Z"
   },
   {
    "duration": 945,
    "start_time": "2024-10-28T20:49:25.794Z"
   },
   {
    "duration": 231,
    "start_time": "2024-10-28T20:49:26.740Z"
   },
   {
    "duration": 26,
    "start_time": "2024-10-28T20:49:26.973Z"
   },
   {
    "duration": 339,
    "start_time": "2024-10-28T20:49:27.001Z"
   },
   {
    "duration": 2160,
    "start_time": "2024-10-28T20:49:27.342Z"
   },
   {
    "duration": 1152252,
    "start_time": "2024-10-28T20:49:29.504Z"
   },
   {
    "duration": 1452,
    "start_time": "2024-10-28T21:15:08.622Z"
   },
   {
    "duration": 119,
    "start_time": "2024-10-28T21:15:10.076Z"
   },
   {
    "duration": 2724,
    "start_time": "2024-10-28T21:15:10.197Z"
   },
   {
    "duration": 953,
    "start_time": "2024-10-28T21:15:12.923Z"
   },
   {
    "duration": 246,
    "start_time": "2024-10-28T21:15:13.877Z"
   },
   {
    "duration": 27,
    "start_time": "2024-10-28T21:15:14.125Z"
   },
   {
    "duration": 309,
    "start_time": "2024-10-28T21:15:14.154Z"
   },
   {
    "duration": 2256,
    "start_time": "2024-10-28T21:15:14.465Z"
   },
   {
    "duration": 573085,
    "start_time": "2024-10-28T21:15:16.723Z"
   },
   {
    "duration": 1147108,
    "start_time": "2024-10-28T21:24:49.810Z"
   },
   {
    "duration": 951584,
    "start_time": "2024-10-28T21:43:56.920Z"
   },
   {
    "duration": 14,
    "start_time": "2024-10-28T21:59:48.506Z"
   },
   {
    "duration": 575654,
    "start_time": "2024-10-28T22:25:16.606Z"
   },
   {
    "duration": 8,
    "start_time": "2024-10-28T22:39:53.133Z"
   },
   {
    "duration": 4199,
    "start_time": "2024-10-29T17:30:41.666Z"
   },
   {
    "duration": 1283,
    "start_time": "2024-10-29T17:30:45.867Z"
   },
   {
    "duration": 248,
    "start_time": "2024-10-29T17:30:47.151Z"
   },
   {
    "duration": 30,
    "start_time": "2024-10-29T17:30:47.401Z"
   },
   {
    "duration": 296,
    "start_time": "2024-10-29T17:30:47.432Z"
   },
   {
    "duration": 2203,
    "start_time": "2024-10-29T17:30:47.730Z"
   },
   {
    "duration": 589430,
    "start_time": "2024-10-29T17:30:49.934Z"
   },
   {
    "duration": 8,
    "start_time": "2024-10-29T17:40:39.367Z"
   },
   {
    "duration": 5,
    "start_time": "2024-10-29T18:14:14.233Z"
   },
   {
    "duration": 2475,
    "start_time": "2024-10-29T18:27:14.214Z"
   },
   {
    "duration": 3,
    "start_time": "2024-10-29T18:37:57.924Z"
   },
   {
    "duration": 1120,
    "start_time": "2024-10-29T19:08:10.858Z"
   },
   {
    "duration": 6935,
    "start_time": "2024-10-29T19:09:27.551Z"
   },
   {
    "duration": 7020,
    "start_time": "2024-10-29T19:09:57.325Z"
   },
   {
    "duration": 7382,
    "start_time": "2024-10-29T19:11:07.289Z"
   },
   {
    "duration": 7494,
    "start_time": "2024-10-29T19:12:08.483Z"
   },
   {
    "duration": 6954,
    "start_time": "2024-10-29T19:12:59.558Z"
   },
   {
    "duration": 7388,
    "start_time": "2024-10-29T19:13:47.779Z"
   },
   {
    "duration": 7461,
    "start_time": "2024-10-29T19:14:09.299Z"
   },
   {
    "duration": 1030,
    "start_time": "2024-10-29T19:15:38.542Z"
   },
   {
    "duration": 40,
    "start_time": "2024-10-29T19:16:56.333Z"
   },
   {
    "duration": 40,
    "start_time": "2024-10-29T19:17:15.263Z"
   },
   {
    "duration": 4289,
    "start_time": "2024-10-29T19:18:32.888Z"
   },
   {
    "duration": 1013,
    "start_time": "2024-10-29T19:18:37.179Z"
   },
   {
    "duration": 5,
    "start_time": "2024-10-29T19:18:38.194Z"
   },
   {
    "duration": 25,
    "start_time": "2024-10-29T19:18:38.201Z"
   },
   {
    "duration": 23,
    "start_time": "2024-10-29T19:18:38.228Z"
   },
   {
    "duration": 17,
    "start_time": "2024-10-29T19:18:38.252Z"
   },
   {
    "duration": 2677,
    "start_time": "2024-10-29T19:18:38.270Z"
   },
   {
    "duration": 5,
    "start_time": "2024-10-29T19:18:40.949Z"
   },
   {
    "duration": 34,
    "start_time": "2024-10-29T19:18:40.956Z"
   },
   {
    "duration": 29,
    "start_time": "2024-10-29T19:18:40.992Z"
   },
   {
    "duration": 27,
    "start_time": "2024-10-29T19:20:59.779Z"
   },
   {
    "duration": 458,
    "start_time": "2024-10-29T19:51:36.548Z"
   },
   {
    "duration": 371,
    "start_time": "2024-10-29T19:52:30.087Z"
   },
   {
    "duration": 326,
    "start_time": "2024-10-29T19:52:56.936Z"
   },
   {
    "duration": 333,
    "start_time": "2024-10-29T19:53:08.205Z"
   },
   {
    "duration": 6,
    "start_time": "2024-10-29T19:54:21.410Z"
   },
   {
    "duration": 4544,
    "start_time": "2024-10-29T20:00:29.923Z"
   },
   {
    "duration": 1034,
    "start_time": "2024-10-29T20:00:34.469Z"
   },
   {
    "duration": 13,
    "start_time": "2024-10-29T20:00:35.505Z"
   },
   {
    "duration": 17,
    "start_time": "2024-10-29T20:00:35.521Z"
   },
   {
    "duration": 23,
    "start_time": "2024-10-29T20:00:35.540Z"
   },
   {
    "duration": 31,
    "start_time": "2024-10-29T20:00:35.565Z"
   },
   {
    "duration": 3062,
    "start_time": "2024-10-29T20:00:35.597Z"
   },
   {
    "duration": 27,
    "start_time": "2024-10-29T20:00:38.660Z"
   },
   {
    "duration": 581,
    "start_time": "2024-10-29T20:00:38.689Z"
   },
   {
    "duration": 14,
    "start_time": "2024-10-29T20:00:39.273Z"
   },
   {
    "duration": 59,
    "start_time": "2024-10-29T20:02:02.094Z"
   },
   {
    "duration": 65,
    "start_time": "2024-10-29T20:02:07.940Z"
   },
   {
    "duration": 62,
    "start_time": "2024-10-29T20:02:17.834Z"
   },
   {
    "duration": 3,
    "start_time": "2024-10-29T20:02:35.827Z"
   },
   {
    "duration": 349,
    "start_time": "2024-10-29T20:03:32.375Z"
   },
   {
    "duration": 5,
    "start_time": "2024-10-29T20:04:44.237Z"
   },
   {
    "duration": 8,
    "start_time": "2024-10-29T20:04:47.944Z"
   },
   {
    "duration": 7,
    "start_time": "2024-10-29T20:11:52.875Z"
   },
   {
    "duration": 8,
    "start_time": "2024-10-29T20:12:50.696Z"
   },
   {
    "duration": 2,
    "start_time": "2024-10-29T20:17:20.197Z"
   },
   {
    "duration": 24,
    "start_time": "2024-10-29T20:19:31.072Z"
   },
   {
    "duration": 5,
    "start_time": "2024-10-29T20:19:37.201Z"
   },
   {
    "duration": 4,
    "start_time": "2024-10-29T20:20:00.089Z"
   },
   {
    "duration": 2,
    "start_time": "2024-10-29T20:20:00.706Z"
   },
   {
    "duration": 18,
    "start_time": "2024-10-29T20:20:04.661Z"
   },
   {
    "duration": 7,
    "start_time": "2024-10-29T20:20:49.406Z"
   },
   {
    "duration": 31,
    "start_time": "2024-10-29T20:20:53.032Z"
   },
   {
    "duration": 8,
    "start_time": "2024-10-29T20:22:10.876Z"
   },
   {
    "duration": 65,
    "start_time": "2024-10-29T20:22:12.674Z"
   },
   {
    "duration": 20,
    "start_time": "2024-10-29T20:23:17.352Z"
   },
   {
    "duration": 4,
    "start_time": "2024-10-29T20:24:18.036Z"
   },
   {
    "duration": 5,
    "start_time": "2024-10-29T20:24:40.083Z"
   },
   {
    "duration": 20,
    "start_time": "2024-10-29T20:25:03.512Z"
   },
   {
    "duration": 6,
    "start_time": "2024-10-29T20:25:18.097Z"
   },
   {
    "duration": 2999,
    "start_time": "2024-10-29T20:25:19.721Z"
   },
   {
    "duration": 2874,
    "start_time": "2024-10-29T20:26:40.850Z"
   },
   {
    "duration": 2709,
    "start_time": "2024-10-29T20:27:28.619Z"
   },
   {
    "duration": 3196,
    "start_time": "2024-10-29T20:27:40.530Z"
   },
   {
    "duration": 2877,
    "start_time": "2024-10-29T20:27:46.551Z"
   },
   {
    "duration": 35,
    "start_time": "2024-10-29T20:32:01.948Z"
   },
   {
    "duration": 39,
    "start_time": "2024-10-29T20:33:12.029Z"
   },
   {
    "duration": 11227,
    "start_time": "2024-10-29T20:33:39.098Z"
   },
   {
    "duration": 20,
    "start_time": "2024-10-29T20:35:53.088Z"
   },
   {
    "duration": 6,
    "start_time": "2024-10-29T20:36:17.611Z"
   },
   {
    "duration": 767,
    "start_time": "2024-10-29T20:36:22.663Z"
   },
   {
    "duration": 133,
    "start_time": "2024-10-29T20:37:43.104Z"
   },
   {
    "duration": 4886,
    "start_time": "2024-10-29T20:45:01.083Z"
   },
   {
    "duration": 3,
    "start_time": "2024-10-29T20:45:05.971Z"
   },
   {
    "duration": 1124,
    "start_time": "2024-10-29T20:45:05.976Z"
   },
   {
    "duration": 17,
    "start_time": "2024-10-29T20:45:07.102Z"
   },
   {
    "duration": 34,
    "start_time": "2024-10-29T20:45:07.121Z"
   },
   {
    "duration": 50,
    "start_time": "2024-10-29T20:45:07.156Z"
   },
   {
    "duration": 45,
    "start_time": "2024-10-29T20:45:07.208Z"
   },
   {
    "duration": 2652,
    "start_time": "2024-10-29T20:45:07.255Z"
   },
   {
    "duration": 37,
    "start_time": "2024-10-29T20:45:09.909Z"
   },
   {
    "duration": 379,
    "start_time": "2024-10-29T20:45:09.948Z"
   },
   {
    "duration": 9,
    "start_time": "2024-10-29T20:45:10.329Z"
   },
   {
    "duration": 25,
    "start_time": "2024-10-29T20:45:10.340Z"
   },
   {
    "duration": 37,
    "start_time": "2024-10-29T20:45:10.367Z"
   },
   {
    "duration": 16433,
    "start_time": "2024-10-29T20:45:10.406Z"
   },
   {
    "duration": 853,
    "start_time": "2024-10-29T20:45:26.926Z"
   },
   {
    "duration": 52,
    "start_time": "2024-10-29T20:54:01.614Z"
   },
   {
    "duration": 0,
    "start_time": "2024-10-29T20:54:01.669Z"
   },
   {
    "duration": 0,
    "start_time": "2024-10-29T20:54:01.670Z"
   },
   {
    "duration": 0,
    "start_time": "2024-10-29T20:54:01.672Z"
   },
   {
    "duration": 0,
    "start_time": "2024-10-29T20:54:01.673Z"
   },
   {
    "duration": 0,
    "start_time": "2024-10-29T20:54:01.675Z"
   },
   {
    "duration": 0,
    "start_time": "2024-10-29T20:54:01.676Z"
   },
   {
    "duration": 0,
    "start_time": "2024-10-29T20:54:01.677Z"
   },
   {
    "duration": 0,
    "start_time": "2024-10-29T20:54:01.679Z"
   },
   {
    "duration": 0,
    "start_time": "2024-10-29T20:54:01.680Z"
   },
   {
    "duration": 0,
    "start_time": "2024-10-29T20:54:01.681Z"
   },
   {
    "duration": 0,
    "start_time": "2024-10-29T20:54:01.718Z"
   },
   {
    "duration": 0,
    "start_time": "2024-10-29T20:54:01.720Z"
   },
   {
    "duration": 0,
    "start_time": "2024-10-29T20:54:01.721Z"
   },
   {
    "duration": 0,
    "start_time": "2024-10-29T20:54:01.723Z"
   },
   {
    "duration": 0,
    "start_time": "2024-10-29T20:54:01.724Z"
   },
   {
    "duration": 0,
    "start_time": "2024-10-29T20:54:01.725Z"
   },
   {
    "duration": 0,
    "start_time": "2024-10-29T20:54:01.727Z"
   },
   {
    "duration": 4458,
    "start_time": "2024-10-29T20:54:23.668Z"
   },
   {
    "duration": 2,
    "start_time": "2024-10-29T20:54:28.128Z"
   },
   {
    "duration": 997,
    "start_time": "2024-10-29T20:54:28.132Z"
   },
   {
    "duration": 249,
    "start_time": "2024-10-29T20:54:29.131Z"
   },
   {
    "duration": 36,
    "start_time": "2024-10-29T20:54:29.382Z"
   },
   {
    "duration": 339,
    "start_time": "2024-10-29T20:54:29.420Z"
   },
   {
    "duration": 2296,
    "start_time": "2024-10-29T20:54:29.761Z"
   },
   {
    "duration": 582924,
    "start_time": "2024-10-29T20:54:32.059Z"
   },
   {
    "duration": 7177,
    "start_time": "2024-10-29T21:04:14.985Z"
   },
   {
    "duration": 125056,
    "start_time": "2024-10-29T21:04:22.164Z"
   },
   {
    "duration": 55,
    "start_time": "2024-10-29T21:06:27.222Z"
   },
   {
    "duration": 6,
    "start_time": "2024-10-29T21:06:27.279Z"
   },
   {
    "duration": 126,
    "start_time": "2024-10-29T21:06:27.287Z"
   },
   {
    "duration": 389,
    "start_time": "2024-10-29T21:06:27.418Z"
   },
   {
    "duration": 0,
    "start_time": "2024-10-29T21:06:27.809Z"
   },
   {
    "duration": 0,
    "start_time": "2024-10-29T21:06:27.811Z"
   },
   {
    "duration": 0,
    "start_time": "2024-10-29T21:06:27.823Z"
   },
   {
    "duration": 454484,
    "start_time": "2024-10-29T21:10:05.949Z"
   },
   {
    "duration": 0,
    "start_time": "2024-10-29T21:17:40.436Z"
   },
   {
    "duration": 0,
    "start_time": "2024-10-29T21:17:40.438Z"
   },
   {
    "duration": 0,
    "start_time": "2024-10-29T21:17:40.518Z"
   },
   {
    "duration": 5,
    "start_time": "2024-10-29T21:22:36.486Z"
   },
   {
    "duration": 436744,
    "start_time": "2024-10-29T21:22:41.189Z"
   },
   {
    "duration": 0,
    "start_time": "2024-10-29T21:29:58.018Z"
   },
   {
    "duration": 0,
    "start_time": "2024-10-29T21:29:58.019Z"
   },
   {
    "duration": 0,
    "start_time": "2024-10-29T21:29:58.020Z"
   },
   {
    "duration": 7,
    "start_time": "2024-10-30T04:31:38.997Z"
   },
   {
    "duration": 4353,
    "start_time": "2024-10-30T04:31:50.761Z"
   },
   {
    "duration": 3,
    "start_time": "2024-10-30T04:31:55.116Z"
   },
   {
    "duration": 1201,
    "start_time": "2024-10-30T04:31:55.121Z"
   },
   {
    "duration": 246,
    "start_time": "2024-10-30T04:31:56.323Z"
   },
   {
    "duration": 22,
    "start_time": "2024-10-30T04:31:56.570Z"
   },
   {
    "duration": 252,
    "start_time": "2024-10-30T04:31:56.593Z"
   },
   {
    "duration": 2239,
    "start_time": "2024-10-30T04:31:56.846Z"
   },
   {
    "duration": 556186,
    "start_time": "2024-10-30T04:31:59.087Z"
   },
   {
    "duration": 6928,
    "start_time": "2024-10-30T04:41:15.275Z"
   },
   {
    "duration": 114024,
    "start_time": "2024-10-30T04:41:22.207Z"
   },
   {
    "duration": 48,
    "start_time": "2024-10-30T04:43:16.233Z"
   },
   {
    "duration": 6,
    "start_time": "2024-10-30T04:43:16.283Z"
   },
   {
    "duration": 130,
    "start_time": "2024-10-30T04:43:16.291Z"
   },
   {
    "duration": 3,
    "start_time": "2024-10-30T04:43:16.422Z"
   },
   {
    "duration": 790840,
    "start_time": "2024-10-30T04:43:16.426Z"
   },
   {
    "duration": 100,
    "start_time": "2024-10-30T04:56:27.358Z"
   },
   {
    "duration": 4449,
    "start_time": "2024-10-30T14:50:42.741Z"
   },
   {
    "duration": 2,
    "start_time": "2024-10-30T14:50:47.193Z"
   },
   {
    "duration": 22,
    "start_time": "2024-10-30T14:50:47.196Z"
   },
   {
    "duration": 1272,
    "start_time": "2024-10-30T14:50:47.220Z"
   },
   {
    "duration": 239,
    "start_time": "2024-10-30T14:50:48.493Z"
   },
   {
    "duration": 26,
    "start_time": "2024-10-30T14:50:48.734Z"
   },
   {
    "duration": 318,
    "start_time": "2024-10-30T14:50:48.762Z"
   },
   {
    "duration": 2152,
    "start_time": "2024-10-30T14:50:49.081Z"
   },
   {
    "duration": 574700,
    "start_time": "2024-10-30T14:50:51.235Z"
   },
   {
    "duration": 6670,
    "start_time": "2024-10-30T15:00:25.938Z"
   },
   {
    "duration": 122744,
    "start_time": "2024-10-30T15:00:32.610Z"
   },
   {
    "duration": 60,
    "start_time": "2024-10-30T15:02:35.356Z"
   },
   {
    "duration": 17,
    "start_time": "2024-10-30T15:02:35.418Z"
   },
   {
    "duration": 129,
    "start_time": "2024-10-30T15:02:35.437Z"
   },
   {
    "duration": 3,
    "start_time": "2024-10-30T15:02:35.568Z"
   },
   {
    "duration": 978127,
    "start_time": "2024-10-30T15:02:35.573Z"
   },
   {
    "duration": 98,
    "start_time": "2024-10-30T15:18:53.703Z"
   },
   {
    "duration": 4744,
    "start_time": "2024-10-30T17:29:33.463Z"
   },
   {
    "duration": 2,
    "start_time": "2024-10-30T17:29:38.209Z"
   },
   {
    "duration": 24,
    "start_time": "2024-10-30T17:29:38.213Z"
   },
   {
    "duration": 990,
    "start_time": "2024-10-30T17:29:38.240Z"
   },
   {
    "duration": 20,
    "start_time": "2024-10-30T17:29:39.232Z"
   },
   {
    "duration": 7,
    "start_time": "2024-10-30T17:29:39.254Z"
   },
   {
    "duration": 55,
    "start_time": "2024-10-30T17:29:39.262Z"
   },
   {
    "duration": 161,
    "start_time": "2024-10-30T17:29:39.318Z"
   },
   {
    "duration": 42176,
    "start_time": "2024-10-30T17:29:39.480Z"
   },
   {
    "duration": 454,
    "start_time": "2024-10-30T17:30:21.659Z"
   },
   {
    "duration": 7661,
    "start_time": "2024-10-30T17:30:22.115Z"
   },
   {
    "duration": 11,
    "start_time": "2024-10-30T17:30:29.778Z"
   },
   {
    "duration": 14,
    "start_time": "2024-10-30T17:30:29.790Z"
   },
   {
    "duration": 13,
    "start_time": "2024-10-30T17:30:29.805Z"
   },
   {
    "duration": 3,
    "start_time": "2024-10-30T17:30:29.819Z"
   },
   {
    "duration": 385,
    "start_time": "2024-10-30T17:30:29.824Z"
   },
   {
    "duration": 0,
    "start_time": "2024-10-30T17:30:30.210Z"
   },
   {
    "duration": 0,
    "start_time": "2024-10-30T17:30:30.211Z"
   },
   {
    "duration": 0,
    "start_time": "2024-10-30T17:30:30.213Z"
   },
   {
    "duration": 0,
    "start_time": "2024-10-30T17:30:30.214Z"
   },
   {
    "duration": 0,
    "start_time": "2024-10-30T17:30:30.215Z"
   },
   {
    "duration": 5232,
    "start_time": "2024-10-30T17:35:27.737Z"
   },
   {
    "duration": 2,
    "start_time": "2024-10-30T17:35:32.971Z"
   },
   {
    "duration": 19,
    "start_time": "2024-10-30T17:35:32.975Z"
   },
   {
    "duration": 972,
    "start_time": "2024-10-30T17:35:32.996Z"
   },
   {
    "duration": 32,
    "start_time": "2024-10-30T17:35:33.970Z"
   },
   {
    "duration": 50,
    "start_time": "2024-10-30T17:35:34.004Z"
   },
   {
    "duration": 104,
    "start_time": "2024-10-30T17:35:34.056Z"
   },
   {
    "duration": 171,
    "start_time": "2024-10-30T17:35:34.161Z"
   },
   {
    "duration": 40441,
    "start_time": "2024-10-30T17:35:34.334Z"
   },
   {
    "duration": 440,
    "start_time": "2024-10-30T17:36:14.778Z"
   },
   {
    "duration": 7328,
    "start_time": "2024-10-30T17:36:15.220Z"
   },
   {
    "duration": 13,
    "start_time": "2024-10-30T17:36:22.550Z"
   },
   {
    "duration": 7,
    "start_time": "2024-10-30T17:36:22.565Z"
   },
   {
    "duration": 35,
    "start_time": "2024-10-30T17:36:22.574Z"
   },
   {
    "duration": 4,
    "start_time": "2024-10-30T17:36:22.611Z"
   },
   {
    "duration": 370,
    "start_time": "2024-10-30T17:36:22.617Z"
   },
   {
    "duration": 0,
    "start_time": "2024-10-30T17:36:22.989Z"
   },
   {
    "duration": 0,
    "start_time": "2024-10-30T17:36:22.991Z"
   },
   {
    "duration": 0,
    "start_time": "2024-10-30T17:36:22.992Z"
   },
   {
    "duration": 0,
    "start_time": "2024-10-30T17:36:23.000Z"
   },
   {
    "duration": 0,
    "start_time": "2024-10-30T17:36:23.001Z"
   },
   {
    "duration": 74,
    "start_time": "2024-10-30T17:36:30.127Z"
   },
   {
    "duration": 25,
    "start_time": "2024-10-30T17:37:18.564Z"
   },
   {
    "duration": 2,
    "start_time": "2024-10-30T17:37:28.496Z"
   },
   {
    "duration": 4438,
    "start_time": "2024-10-30T17:41:19.117Z"
   },
   {
    "duration": 3,
    "start_time": "2024-10-30T17:41:23.557Z"
   },
   {
    "duration": 19,
    "start_time": "2024-10-30T17:41:23.562Z"
   },
   {
    "duration": 944,
    "start_time": "2024-10-30T17:41:23.582Z"
   },
   {
    "duration": 4,
    "start_time": "2024-10-30T17:41:24.528Z"
   },
   {
    "duration": 14,
    "start_time": "2024-10-30T17:41:24.533Z"
   },
   {
    "duration": 14,
    "start_time": "2024-10-30T17:41:24.549Z"
   },
   {
    "duration": 26,
    "start_time": "2024-10-30T17:41:24.565Z"
   },
   {
    "duration": 1070,
    "start_time": "2024-10-30T17:41:24.592Z"
   },
   {
    "duration": 13,
    "start_time": "2024-10-30T17:41:25.663Z"
   },
   {
    "duration": 180,
    "start_time": "2024-10-30T17:41:25.677Z"
   },
   {
    "duration": 9,
    "start_time": "2024-10-30T17:41:25.859Z"
   },
   {
    "duration": 10,
    "start_time": "2024-10-30T17:41:25.870Z"
   },
   {
    "duration": 21,
    "start_time": "2024-10-30T17:41:25.882Z"
   },
   {
    "duration": 10,
    "start_time": "2024-10-30T17:41:25.905Z"
   },
   {
    "duration": 343,
    "start_time": "2024-10-30T17:41:25.916Z"
   },
   {
    "duration": 0,
    "start_time": "2024-10-30T17:41:26.261Z"
   },
   {
    "duration": 0,
    "start_time": "2024-10-30T17:41:26.262Z"
   },
   {
    "duration": 0,
    "start_time": "2024-10-30T17:41:26.263Z"
   },
   {
    "duration": 0,
    "start_time": "2024-10-30T17:41:26.264Z"
   },
   {
    "duration": 0,
    "start_time": "2024-10-30T17:41:26.265Z"
   },
   {
    "duration": 0,
    "start_time": "2024-10-30T17:41:26.266Z"
   },
   {
    "duration": 3,
    "start_time": "2024-10-30T17:46:50.022Z"
   },
   {
    "duration": 57649,
    "start_time": "2024-10-30T17:46:50.165Z"
   },
   {
    "duration": 81,
    "start_time": "2024-10-30T17:51:01.294Z"
   },
   {
    "duration": 357,
    "start_time": "2024-10-30T17:51:05.088Z"
   },
   {
    "duration": 28,
    "start_time": "2024-10-30T17:51:39.098Z"
   },
   {
    "duration": 26,
    "start_time": "2024-10-30T17:51:49.560Z"
   },
   {
    "duration": 22,
    "start_time": "2024-10-30T17:52:50.588Z"
   },
   {
    "duration": 22,
    "start_time": "2024-10-30T17:53:17.058Z"
   },
   {
    "duration": 27,
    "start_time": "2024-10-30T17:54:04.440Z"
   },
   {
    "duration": 4700,
    "start_time": "2024-10-30T17:54:26.705Z"
   },
   {
    "duration": 3,
    "start_time": "2024-10-30T17:54:31.407Z"
   },
   {
    "duration": 21,
    "start_time": "2024-10-30T17:54:31.412Z"
   },
   {
    "duration": 992,
    "start_time": "2024-10-30T17:54:31.435Z"
   },
   {
    "duration": 8,
    "start_time": "2024-10-30T17:54:32.429Z"
   },
   {
    "duration": 15,
    "start_time": "2024-10-30T17:54:32.439Z"
   },
   {
    "duration": 32,
    "start_time": "2024-10-30T17:54:32.456Z"
   },
   {
    "duration": 30,
    "start_time": "2024-10-30T17:54:32.490Z"
   },
   {
    "duration": 1089,
    "start_time": "2024-10-30T17:54:32.522Z"
   },
   {
    "duration": 13,
    "start_time": "2024-10-30T17:54:33.614Z"
   },
   {
    "duration": 181,
    "start_time": "2024-10-30T17:54:33.629Z"
   },
   {
    "duration": 13,
    "start_time": "2024-10-30T17:54:33.813Z"
   },
   {
    "duration": 37,
    "start_time": "2024-10-30T17:54:33.828Z"
   },
   {
    "duration": 23,
    "start_time": "2024-10-30T17:54:33.866Z"
   },
   {
    "duration": 35,
    "start_time": "2024-10-30T17:54:33.891Z"
   },
   {
    "duration": 409,
    "start_time": "2024-10-30T17:54:33.928Z"
   },
   {
    "duration": 0,
    "start_time": "2024-10-30T17:54:34.341Z"
   },
   {
    "duration": 0,
    "start_time": "2024-10-30T17:54:34.342Z"
   },
   {
    "duration": 0,
    "start_time": "2024-10-30T17:54:34.344Z"
   },
   {
    "duration": 0,
    "start_time": "2024-10-30T17:54:34.346Z"
   },
   {
    "duration": 0,
    "start_time": "2024-10-30T17:54:34.348Z"
   },
   {
    "duration": 0,
    "start_time": "2024-10-30T17:54:34.349Z"
   },
   {
    "duration": 3,
    "start_time": "2024-10-30T17:54:39.064Z"
   },
   {
    "duration": 27,
    "start_time": "2024-10-30T17:54:41.731Z"
   },
   {
    "duration": 95,
    "start_time": "2024-10-30T17:55:26.881Z"
   },
   {
    "duration": 4375,
    "start_time": "2024-10-30T17:58:15.847Z"
   },
   {
    "duration": 3,
    "start_time": "2024-10-30T17:58:20.225Z"
   },
   {
    "duration": 50,
    "start_time": "2024-10-30T17:58:20.230Z"
   },
   {
    "duration": 939,
    "start_time": "2024-10-30T17:58:20.282Z"
   },
   {
    "duration": 5,
    "start_time": "2024-10-30T17:58:21.224Z"
   },
   {
    "duration": 18,
    "start_time": "2024-10-30T17:58:21.231Z"
   },
   {
    "duration": 19,
    "start_time": "2024-10-30T17:58:21.251Z"
   },
   {
    "duration": 29,
    "start_time": "2024-10-30T17:58:21.271Z"
   },
   {
    "duration": 1078,
    "start_time": "2024-10-30T17:58:21.302Z"
   },
   {
    "duration": 18,
    "start_time": "2024-10-30T17:58:22.381Z"
   },
   {
    "duration": 223,
    "start_time": "2024-10-30T17:58:22.402Z"
   },
   {
    "duration": 14,
    "start_time": "2024-10-30T17:58:22.628Z"
   },
   {
    "duration": 8,
    "start_time": "2024-10-30T17:58:22.644Z"
   },
   {
    "duration": 12,
    "start_time": "2024-10-30T17:58:22.655Z"
   },
   {
    "duration": 15,
    "start_time": "2024-10-30T17:58:22.670Z"
   },
   {
    "duration": 360,
    "start_time": "2024-10-30T17:58:22.687Z"
   },
   {
    "duration": 0,
    "start_time": "2024-10-30T17:58:23.050Z"
   },
   {
    "duration": 0,
    "start_time": "2024-10-30T17:58:23.051Z"
   },
   {
    "duration": 0,
    "start_time": "2024-10-30T17:58:23.052Z"
   },
   {
    "duration": 0,
    "start_time": "2024-10-30T17:58:23.053Z"
   },
   {
    "duration": 0,
    "start_time": "2024-10-30T17:58:23.055Z"
   },
   {
    "duration": 0,
    "start_time": "2024-10-30T17:58:23.056Z"
   },
   {
    "duration": 2,
    "start_time": "2024-10-30T17:58:28.457Z"
   },
   {
    "duration": 4275,
    "start_time": "2024-10-30T18:07:40.625Z"
   },
   {
    "duration": 3,
    "start_time": "2024-10-30T18:07:44.902Z"
   },
   {
    "duration": 10,
    "start_time": "2024-10-30T18:07:44.906Z"
   },
   {
    "duration": 949,
    "start_time": "2024-10-30T18:07:44.918Z"
   },
   {
    "duration": 6,
    "start_time": "2024-10-30T18:07:45.869Z"
   },
   {
    "duration": 32,
    "start_time": "2024-10-30T18:07:45.876Z"
   },
   {
    "duration": 15,
    "start_time": "2024-10-30T18:07:45.910Z"
   },
   {
    "duration": 32,
    "start_time": "2024-10-30T18:07:45.926Z"
   },
   {
    "duration": 1211,
    "start_time": "2024-10-30T18:07:45.959Z"
   },
   {
    "duration": 13,
    "start_time": "2024-10-30T18:07:47.173Z"
   },
   {
    "duration": 202,
    "start_time": "2024-10-30T18:07:47.188Z"
   },
   {
    "duration": 10,
    "start_time": "2024-10-30T18:07:47.399Z"
   },
   {
    "duration": 11,
    "start_time": "2024-10-30T18:07:47.411Z"
   },
   {
    "duration": 8,
    "start_time": "2024-10-30T18:07:47.423Z"
   },
   {
    "duration": 18,
    "start_time": "2024-10-30T18:07:47.433Z"
   },
   {
    "duration": 374,
    "start_time": "2024-10-30T18:07:47.453Z"
   },
   {
    "duration": 0,
    "start_time": "2024-10-30T18:07:47.829Z"
   },
   {
    "duration": 0,
    "start_time": "2024-10-30T18:07:47.830Z"
   },
   {
    "duration": 0,
    "start_time": "2024-10-30T18:07:47.831Z"
   },
   {
    "duration": 0,
    "start_time": "2024-10-30T18:07:47.832Z"
   },
   {
    "duration": 0,
    "start_time": "2024-10-30T18:07:47.833Z"
   },
   {
    "duration": 0,
    "start_time": "2024-10-30T18:07:47.835Z"
   },
   {
    "duration": 0,
    "start_time": "2024-10-30T18:07:47.836Z"
   },
   {
    "duration": 4,
    "start_time": "2024-10-30T18:07:53.473Z"
   },
   {
    "duration": 84,
    "start_time": "2024-10-30T18:07:56.083Z"
   },
   {
    "duration": 4505,
    "start_time": "2024-10-30T18:12:37.210Z"
   },
   {
    "duration": 2,
    "start_time": "2024-10-30T18:12:41.717Z"
   },
   {
    "duration": 29,
    "start_time": "2024-10-30T18:12:41.721Z"
   },
   {
    "duration": 965,
    "start_time": "2024-10-30T18:12:41.752Z"
   },
   {
    "duration": 5,
    "start_time": "2024-10-30T18:12:42.719Z"
   },
   {
    "duration": 24,
    "start_time": "2024-10-30T18:12:42.726Z"
   },
   {
    "duration": 14,
    "start_time": "2024-10-30T18:12:42.752Z"
   },
   {
    "duration": 33,
    "start_time": "2024-10-30T18:12:42.769Z"
   },
   {
    "duration": 999,
    "start_time": "2024-10-30T18:12:42.805Z"
   },
   {
    "duration": 11,
    "start_time": "2024-10-30T18:12:43.806Z"
   },
   {
    "duration": 146,
    "start_time": "2024-10-30T18:12:43.819Z"
   },
   {
    "duration": 8,
    "start_time": "2024-10-30T18:12:43.967Z"
   },
   {
    "duration": 24,
    "start_time": "2024-10-30T18:12:43.977Z"
   },
   {
    "duration": 11,
    "start_time": "2024-10-30T18:12:44.004Z"
   },
   {
    "duration": 8,
    "start_time": "2024-10-30T18:12:44.016Z"
   },
   {
    "duration": 359,
    "start_time": "2024-10-30T18:12:44.026Z"
   },
   {
    "duration": 0,
    "start_time": "2024-10-30T18:12:44.390Z"
   },
   {
    "duration": 0,
    "start_time": "2024-10-30T18:12:44.391Z"
   },
   {
    "duration": 0,
    "start_time": "2024-10-30T18:12:44.393Z"
   },
   {
    "duration": 0,
    "start_time": "2024-10-30T18:12:44.400Z"
   },
   {
    "duration": 0,
    "start_time": "2024-10-30T18:12:44.402Z"
   },
   {
    "duration": 0,
    "start_time": "2024-10-30T18:12:44.403Z"
   },
   {
    "duration": 0,
    "start_time": "2024-10-30T18:12:44.404Z"
   },
   {
    "duration": 3,
    "start_time": "2024-10-30T18:16:56.688Z"
   },
   {
    "duration": 216090,
    "start_time": "2024-10-30T18:16:56.828Z"
   },
   {
    "duration": 126,
    "start_time": "2024-10-30T18:20:32.920Z"
   },
   {
    "duration": 317,
    "start_time": "2024-10-30T18:20:33.047Z"
   },
   {
    "duration": 63,
    "start_time": "2024-10-30T18:28:08.456Z"
   },
   {
    "duration": 68,
    "start_time": "2024-10-30T18:28:27.191Z"
   },
   {
    "duration": 5300,
    "start_time": "2024-10-30T18:28:45.910Z"
   },
   {
    "duration": 3,
    "start_time": "2024-10-30T18:28:51.212Z"
   },
   {
    "duration": 18,
    "start_time": "2024-10-30T18:28:51.216Z"
   },
   {
    "duration": 966,
    "start_time": "2024-10-30T18:28:51.236Z"
   },
   {
    "duration": 5,
    "start_time": "2024-10-30T18:28:52.204Z"
   },
   {
    "duration": 14,
    "start_time": "2024-10-30T18:28:52.211Z"
   },
   {
    "duration": 12,
    "start_time": "2024-10-30T18:28:52.227Z"
   },
   {
    "duration": 20,
    "start_time": "2024-10-30T18:28:52.241Z"
   },
   {
    "duration": 1005,
    "start_time": "2024-10-30T18:28:52.263Z"
   },
   {
    "duration": 12,
    "start_time": "2024-10-30T18:28:53.272Z"
   },
   {
    "duration": 188,
    "start_time": "2024-10-30T18:28:53.286Z"
   },
   {
    "duration": 8,
    "start_time": "2024-10-30T18:28:53.476Z"
   },
   {
    "duration": 24,
    "start_time": "2024-10-30T18:28:53.486Z"
   },
   {
    "duration": 6,
    "start_time": "2024-10-30T18:28:53.513Z"
   },
   {
    "duration": 7,
    "start_time": "2024-10-30T18:28:53.521Z"
   },
   {
    "duration": 323,
    "start_time": "2024-10-30T18:28:53.529Z"
   },
   {
    "duration": 0,
    "start_time": "2024-10-30T18:28:53.854Z"
   },
   {
    "duration": 0,
    "start_time": "2024-10-30T18:28:53.855Z"
   },
   {
    "duration": 0,
    "start_time": "2024-10-30T18:28:53.856Z"
   },
   {
    "duration": 0,
    "start_time": "2024-10-30T18:28:53.857Z"
   },
   {
    "duration": 0,
    "start_time": "2024-10-30T18:28:53.858Z"
   },
   {
    "duration": 0,
    "start_time": "2024-10-30T18:28:53.859Z"
   },
   {
    "duration": 0,
    "start_time": "2024-10-30T18:28:53.860Z"
   },
   {
    "duration": 3,
    "start_time": "2024-10-30T18:28:54.918Z"
   },
   {
    "duration": 41977,
    "start_time": "2024-10-30T18:28:55.143Z"
   },
   {
    "duration": 127,
    "start_time": "2024-10-30T18:29:37.122Z"
   },
   {
    "duration": 349,
    "start_time": "2024-10-30T18:35:47.583Z"
   },
   {
    "duration": 41390,
    "start_time": "2024-10-30T18:36:37.329Z"
   },
   {
    "duration": 74,
    "start_time": "2024-10-30T19:01:23.956Z"
   },
   {
    "duration": 35291,
    "start_time": "2024-10-30T19:19:50.824Z"
   },
   {
    "duration": 4350,
    "start_time": "2024-10-30T19:20:58.050Z"
   },
   {
    "duration": 3,
    "start_time": "2024-10-30T19:21:02.401Z"
   },
   {
    "duration": 53,
    "start_time": "2024-10-30T19:21:02.405Z"
   },
   {
    "duration": 963,
    "start_time": "2024-10-30T19:21:02.460Z"
   },
   {
    "duration": 244,
    "start_time": "2024-10-30T19:21:03.425Z"
   },
   {
    "duration": 36,
    "start_time": "2024-10-30T19:21:03.671Z"
   },
   {
    "duration": 324,
    "start_time": "2024-10-30T19:21:03.708Z"
   },
   {
    "duration": 2155,
    "start_time": "2024-10-30T19:21:04.033Z"
   },
   {
    "duration": 566021,
    "start_time": "2024-10-30T19:21:06.189Z"
   },
   {
    "duration": 6642,
    "start_time": "2024-10-30T19:30:32.212Z"
   },
   {
    "duration": 113871,
    "start_time": "2024-10-30T19:30:38.856Z"
   },
   {
    "duration": 0,
    "start_time": "2024-10-30T19:32:32.729Z"
   },
   {
    "duration": 0,
    "start_time": "2024-10-30T19:32:32.730Z"
   },
   {
    "duration": 0,
    "start_time": "2024-10-30T19:32:32.731Z"
   },
   {
    "duration": 0,
    "start_time": "2024-10-30T19:32:32.733Z"
   },
   {
    "duration": 0,
    "start_time": "2024-10-30T19:32:32.734Z"
   },
   {
    "duration": 0,
    "start_time": "2024-10-30T19:32:32.735Z"
   },
   {
    "duration": 0,
    "start_time": "2024-10-30T19:32:32.737Z"
   },
   {
    "duration": 0,
    "start_time": "2024-10-30T19:32:32.738Z"
   },
   {
    "duration": 0,
    "start_time": "2024-10-30T19:32:32.739Z"
   },
   {
    "duration": 0,
    "start_time": "2024-10-30T19:32:32.740Z"
   },
   {
    "duration": 0,
    "start_time": "2024-10-30T19:32:32.741Z"
   },
   {
    "duration": 122016,
    "start_time": "2024-10-30T19:39:03.167Z"
   },
   {
    "duration": 55,
    "start_time": "2024-10-30T19:41:05.185Z"
   },
   {
    "duration": 117,
    "start_time": "2024-10-30T19:41:05.242Z"
   },
   {
    "duration": 4,
    "start_time": "2024-10-30T19:41:05.361Z"
   },
   {
    "duration": 1030042,
    "start_time": "2024-10-30T19:41:05.367Z"
   },
   {
    "duration": 97,
    "start_time": "2024-10-30T19:58:15.412Z"
   },
   {
    "duration": 22,
    "start_time": "2024-10-30T19:58:15.510Z"
   },
   {
    "duration": 6120104,
    "start_time": "2024-10-30T19:58:15.534Z"
   },
   {
    "duration": 3,
    "start_time": "2024-10-30T21:40:15.640Z"
   },
   {
    "duration": 46,
    "start_time": "2024-10-30T22:29:54.745Z"
   },
   {
    "duration": 0,
    "start_time": "2024-10-30T22:29:54.793Z"
   },
   {
    "duration": 0,
    "start_time": "2024-10-30T22:29:54.794Z"
   },
   {
    "duration": 0,
    "start_time": "2024-10-30T22:29:54.795Z"
   },
   {
    "duration": 0,
    "start_time": "2024-10-30T22:29:54.796Z"
   },
   {
    "duration": 0,
    "start_time": "2024-10-30T22:29:54.797Z"
   },
   {
    "duration": 0,
    "start_time": "2024-10-30T22:29:54.798Z"
   },
   {
    "duration": 6,
    "start_time": "2024-10-30T22:29:54.801Z"
   },
   {
    "duration": 0,
    "start_time": "2024-10-30T22:29:54.809Z"
   },
   {
    "duration": 0,
    "start_time": "2024-10-30T22:29:54.811Z"
   },
   {
    "duration": 10,
    "start_time": "2024-10-30T22:29:54.813Z"
   },
   {
    "duration": 0,
    "start_time": "2024-10-30T22:29:54.826Z"
   },
   {
    "duration": 0,
    "start_time": "2024-10-30T22:29:54.827Z"
   },
   {
    "duration": 0,
    "start_time": "2024-10-30T22:29:54.828Z"
   },
   {
    "duration": 0,
    "start_time": "2024-10-30T22:29:54.829Z"
   },
   {
    "duration": 0,
    "start_time": "2024-10-30T22:29:54.830Z"
   },
   {
    "duration": 23,
    "start_time": "2024-10-30T22:29:54.833Z"
   },
   {
    "duration": 7,
    "start_time": "2024-10-30T22:29:54.902Z"
   },
   {
    "duration": 865,
    "start_time": "2024-10-30T22:29:54.913Z"
   },
   {
    "duration": 54,
    "start_time": "2024-10-30T22:29:55.780Z"
   },
   {
    "duration": 0,
    "start_time": "2024-10-30T22:29:55.836Z"
   },
   {
    "duration": 0,
    "start_time": "2024-10-30T22:29:55.837Z"
   },
   {
    "duration": 4834,
    "start_time": "2024-10-30T22:31:33.258Z"
   },
   {
    "duration": 2,
    "start_time": "2024-10-30T22:31:38.094Z"
   },
   {
    "duration": 43,
    "start_time": "2024-10-30T22:31:38.097Z"
   },
   {
    "duration": 945,
    "start_time": "2024-10-30T22:31:38.142Z"
   },
   {
    "duration": 232,
    "start_time": "2024-10-30T22:31:39.088Z"
   },
   {
    "duration": 28,
    "start_time": "2024-10-30T22:31:39.321Z"
   },
   {
    "duration": 362,
    "start_time": "2024-10-30T22:31:39.350Z"
   },
   {
    "duration": 2117,
    "start_time": "2024-10-30T22:31:39.714Z"
   },
   {
    "duration": 550769,
    "start_time": "2024-10-30T22:31:41.832Z"
   },
   {
    "duration": 6720,
    "start_time": "2024-10-30T22:40:52.603Z"
   },
   {
    "duration": 120175,
    "start_time": "2024-10-30T22:40:59.325Z"
   },
   {
    "duration": 54,
    "start_time": "2024-10-30T22:42:59.501Z"
   },
   {
    "duration": 6,
    "start_time": "2024-10-30T22:42:59.557Z"
   },
   {
    "duration": 112,
    "start_time": "2024-10-30T22:42:59.564Z"
   },
   {
    "duration": 3,
    "start_time": "2024-10-30T22:42:59.677Z"
   },
   {
    "duration": 625165,
    "start_time": "2024-10-30T22:42:59.682Z"
   },
   {
    "duration": 10,
    "start_time": "2024-10-30T22:53:24.849Z"
   },
   {
    "duration": 10,
    "start_time": "2024-10-30T22:53:24.860Z"
   },
   {
    "duration": 5229375,
    "start_time": "2024-10-30T22:53:24.871Z"
   },
   {
    "duration": 4852,
    "start_time": "2024-10-31T00:42:30.317Z"
   },
   {
    "duration": 314,
    "start_time": "2024-10-31T00:42:35.171Z"
   },
   {
    "duration": 0,
    "start_time": "2024-10-31T00:42:35.488Z"
   },
   {
    "duration": 0,
    "start_time": "2024-10-31T00:42:35.489Z"
   },
   {
    "duration": 0,
    "start_time": "2024-10-31T00:42:35.491Z"
   },
   {
    "duration": 0,
    "start_time": "2024-10-31T00:42:35.492Z"
   },
   {
    "duration": 0,
    "start_time": "2024-10-31T00:42:35.500Z"
   },
   {
    "duration": 0,
    "start_time": "2024-10-31T00:42:35.501Z"
   },
   {
    "duration": 0,
    "start_time": "2024-10-31T00:42:35.503Z"
   },
   {
    "duration": 0,
    "start_time": "2024-10-31T00:42:35.504Z"
   },
   {
    "duration": 0,
    "start_time": "2024-10-31T00:42:35.506Z"
   },
   {
    "duration": 0,
    "start_time": "2024-10-31T00:42:35.507Z"
   },
   {
    "duration": 0,
    "start_time": "2024-10-31T00:42:35.509Z"
   },
   {
    "duration": 0,
    "start_time": "2024-10-31T00:42:35.510Z"
   },
   {
    "duration": 0,
    "start_time": "2024-10-31T00:42:35.512Z"
   },
   {
    "duration": 0,
    "start_time": "2024-10-31T00:42:35.513Z"
   },
   {
    "duration": 0,
    "start_time": "2024-10-31T00:42:35.515Z"
   },
   {
    "duration": 0,
    "start_time": "2024-10-31T00:42:35.516Z"
   },
   {
    "duration": 0,
    "start_time": "2024-10-31T00:42:35.519Z"
   },
   {
    "duration": 0,
    "start_time": "2024-10-31T00:42:35.520Z"
   },
   {
    "duration": 0,
    "start_time": "2024-10-31T00:42:35.522Z"
   },
   {
    "duration": 0,
    "start_time": "2024-10-31T00:42:35.523Z"
   },
   {
    "duration": 4790,
    "start_time": "2024-10-31T00:42:52.109Z"
   },
   {
    "duration": 2,
    "start_time": "2024-10-31T00:42:56.901Z"
   },
   {
    "duration": 14,
    "start_time": "2024-10-31T00:42:56.905Z"
   },
   {
    "duration": 895,
    "start_time": "2024-10-31T00:42:56.921Z"
   },
   {
    "duration": 6,
    "start_time": "2024-10-31T00:42:57.817Z"
   },
   {
    "duration": 5,
    "start_time": "2024-10-31T00:42:57.824Z"
   },
   {
    "duration": 79,
    "start_time": "2024-10-31T00:42:57.831Z"
   },
   {
    "duration": 21,
    "start_time": "2024-10-31T00:42:57.912Z"
   },
   {
    "duration": 4683,
    "start_time": "2024-10-31T00:42:57.934Z"
   },
   {
    "duration": 47,
    "start_time": "2024-10-31T00:43:02.620Z"
   },
   {
    "duration": 794,
    "start_time": "2024-10-31T00:43:02.669Z"
   },
   {
    "duration": 9,
    "start_time": "2024-10-31T00:43:03.465Z"
   },
   {
    "duration": 10,
    "start_time": "2024-10-31T00:43:03.476Z"
   },
   {
    "duration": 16,
    "start_time": "2024-10-31T00:43:03.487Z"
   },
   {
    "duration": 14254,
    "start_time": "2024-10-31T00:43:03.505Z"
   },
   {
    "duration": 329,
    "start_time": "2024-10-31T00:43:17.761Z"
   },
   {
    "duration": 0,
    "start_time": "2024-10-31T00:43:18.091Z"
   },
   {
    "duration": 0,
    "start_time": "2024-10-31T00:43:18.092Z"
   },
   {
    "duration": 0,
    "start_time": "2024-10-31T00:43:18.094Z"
   },
   {
    "duration": 0,
    "start_time": "2024-10-31T00:43:18.099Z"
   },
   {
    "duration": 0,
    "start_time": "2024-10-31T00:43:18.100Z"
   },
   {
    "duration": 3,
    "start_time": "2024-10-31T00:43:56.079Z"
   },
   {
    "duration": 23,
    "start_time": "2024-10-31T00:43:56.269Z"
   },
   {
    "duration": 3,
    "start_time": "2024-10-31T00:44:11.793Z"
   },
   {
    "duration": 87985,
    "start_time": "2024-10-31T00:44:12.042Z"
   },
   {
    "duration": 253875,
    "start_time": "2024-10-31T00:45:40.029Z"
   },
   {
    "duration": 91305,
    "start_time": "2024-10-31T00:49:53.906Z"
   },
   {
    "duration": 97598,
    "start_time": "2024-10-31T00:51:25.212Z"
   },
   {
    "duration": 212839,
    "start_time": "2024-10-31T01:23:28.766Z"
   },
   {
    "duration": 430791,
    "start_time": "2024-10-31T01:30:34.020Z"
   },
   {
    "duration": 87485,
    "start_time": "2024-10-31T01:40:50.326Z"
   },
   {
    "duration": 75098,
    "start_time": "2024-10-31T01:43:50.010Z"
   },
   {
    "duration": 2397,
    "start_time": "2024-10-31T01:45:05.110Z"
   },
   {
    "duration": 4265,
    "start_time": "2024-10-31T01:46:51.412Z"
   },
   {
    "duration": 316,
    "start_time": "2024-10-31T01:46:55.679Z"
   },
   {
    "duration": 0,
    "start_time": "2024-10-31T01:46:56.001Z"
   },
   {
    "duration": 0,
    "start_time": "2024-10-31T01:46:56.003Z"
   },
   {
    "duration": 0,
    "start_time": "2024-10-31T01:46:56.004Z"
   },
   {
    "duration": 0,
    "start_time": "2024-10-31T01:46:56.005Z"
   },
   {
    "duration": 0,
    "start_time": "2024-10-31T01:46:56.007Z"
   },
   {
    "duration": 0,
    "start_time": "2024-10-31T01:46:56.008Z"
   },
   {
    "duration": 0,
    "start_time": "2024-10-31T01:46:56.009Z"
   },
   {
    "duration": 0,
    "start_time": "2024-10-31T01:46:56.011Z"
   },
   {
    "duration": 0,
    "start_time": "2024-10-31T01:46:56.012Z"
   },
   {
    "duration": 0,
    "start_time": "2024-10-31T01:46:56.013Z"
   },
   {
    "duration": 0,
    "start_time": "2024-10-31T01:46:56.015Z"
   },
   {
    "duration": 0,
    "start_time": "2024-10-31T01:46:56.017Z"
   },
   {
    "duration": 0,
    "start_time": "2024-10-31T01:46:56.018Z"
   },
   {
    "duration": 0,
    "start_time": "2024-10-31T01:46:56.020Z"
   },
   {
    "duration": 0,
    "start_time": "2024-10-31T01:46:56.021Z"
   },
   {
    "duration": 0,
    "start_time": "2024-10-31T01:46:56.023Z"
   },
   {
    "duration": 0,
    "start_time": "2024-10-31T01:46:56.024Z"
   },
   {
    "duration": 0,
    "start_time": "2024-10-31T01:46:56.025Z"
   },
   {
    "duration": 0,
    "start_time": "2024-10-31T01:46:56.026Z"
   },
   {
    "duration": 0,
    "start_time": "2024-10-31T01:46:56.027Z"
   },
   {
    "duration": 0,
    "start_time": "2024-10-31T01:46:56.028Z"
   },
   {
    "duration": 0,
    "start_time": "2024-10-31T01:46:56.030Z"
   },
   {
    "duration": 3,
    "start_time": "2024-10-31T01:47:15.110Z"
   },
   {
    "duration": 3,
    "start_time": "2024-10-31T01:47:15.409Z"
   },
   {
    "duration": 926,
    "start_time": "2024-10-31T01:47:15.752Z"
   },
   {
    "duration": 243,
    "start_time": "2024-10-31T01:47:16.680Z"
   },
   {
    "duration": 28,
    "start_time": "2024-10-31T01:47:16.924Z"
   },
   {
    "duration": 298,
    "start_time": "2024-10-31T01:47:16.982Z"
   },
   {
    "duration": 2098,
    "start_time": "2024-10-31T01:47:17.625Z"
   },
   {
    "duration": 538120,
    "start_time": "2024-10-31T01:47:19.725Z"
   },
   {
    "duration": 6401,
    "start_time": "2024-10-31T01:56:17.847Z"
   },
   {
    "duration": 116838,
    "start_time": "2024-10-31T01:56:24.249Z"
   },
   {
    "duration": 57,
    "start_time": "2024-10-31T01:58:21.090Z"
   },
   {
    "duration": 6,
    "start_time": "2024-10-31T01:58:21.149Z"
   },
   {
    "duration": 100771,
    "start_time": "2024-10-31T01:58:21.156Z"
   },
   {
    "duration": 34,
    "start_time": "2024-10-31T02:00:01.929Z"
   },
   {
    "duration": 110633,
    "start_time": "2024-10-31T02:20:28.376Z"
   },
   {
    "duration": 99824,
    "start_time": "2024-10-31T02:23:20.064Z"
   },
   {
    "duration": 5,
    "start_time": "2024-10-31T02:26:21.350Z"
   },
   {
    "duration": 23,
    "start_time": "2024-10-31T02:26:38.564Z"
   },
   {
    "duration": 18,
    "start_time": "2024-10-31T02:27:03.113Z"
   },
   {
    "duration": 27,
    "start_time": "2024-10-31T02:27:30.848Z"
   },
   {
    "duration": 229349,
    "start_time": "2024-10-31T02:28:58.961Z"
   },
   {
    "duration": 4,
    "start_time": "2024-10-31T02:45:06.425Z"
   },
   {
    "duration": 99738,
    "start_time": "2024-10-31T02:45:14.432Z"
   },
   {
    "duration": 229846,
    "start_time": "2024-10-31T02:46:54.173Z"
   },
   {
    "duration": 21,
    "start_time": "2024-10-31T02:58:11.232Z"
   },
   {
    "duration": 17,
    "start_time": "2024-10-31T02:58:51.107Z"
   },
   {
    "duration": 17,
    "start_time": "2024-10-31T02:59:14.468Z"
   },
   {
    "duration": 4270,
    "start_time": "2024-10-31T03:02:42.702Z"
   },
   {
    "duration": 3,
    "start_time": "2024-10-31T03:02:46.973Z"
   },
   {
    "duration": 14,
    "start_time": "2024-10-31T03:02:46.977Z"
   },
   {
    "duration": 916,
    "start_time": "2024-10-31T03:02:46.993Z"
   },
   {
    "duration": 228,
    "start_time": "2024-10-31T03:02:47.911Z"
   },
   {
    "duration": 27,
    "start_time": "2024-10-31T03:02:48.141Z"
   },
   {
    "duration": 314,
    "start_time": "2024-10-31T03:02:48.169Z"
   },
   {
    "duration": 2146,
    "start_time": "2024-10-31T03:02:48.485Z"
   },
   {
    "duration": 549342,
    "start_time": "2024-10-31T03:02:50.632Z"
   },
   {
    "duration": 6377,
    "start_time": "2024-10-31T03:11:59.978Z"
   },
   {
    "duration": 62,
    "start_time": "2024-10-31T03:12:06.357Z"
   },
   {
    "duration": 0,
    "start_time": "2024-10-31T03:12:06.420Z"
   },
   {
    "duration": 0,
    "start_time": "2024-10-31T03:12:06.422Z"
   },
   {
    "duration": 0,
    "start_time": "2024-10-31T03:12:06.423Z"
   },
   {
    "duration": 0,
    "start_time": "2024-10-31T03:12:06.424Z"
   },
   {
    "duration": 0,
    "start_time": "2024-10-31T03:12:06.425Z"
   },
   {
    "duration": 0,
    "start_time": "2024-10-31T03:12:06.426Z"
   },
   {
    "duration": 0,
    "start_time": "2024-10-31T03:12:06.428Z"
   },
   {
    "duration": 0,
    "start_time": "2024-10-31T03:12:06.429Z"
   },
   {
    "duration": 0,
    "start_time": "2024-10-31T03:12:06.430Z"
   },
   {
    "duration": 0,
    "start_time": "2024-10-31T03:12:06.431Z"
   },
   {
    "duration": 0,
    "start_time": "2024-10-31T03:12:06.432Z"
   },
   {
    "duration": 0,
    "start_time": "2024-10-31T03:12:06.433Z"
   },
   {
    "duration": 0,
    "start_time": "2024-10-31T03:12:06.434Z"
   },
   {
    "duration": 72,
    "start_time": "2024-10-31T03:20:08.654Z"
   },
   {
    "duration": 76,
    "start_time": "2024-10-31T03:20:25.644Z"
   },
   {
    "duration": 69,
    "start_time": "2024-10-31T03:21:14.007Z"
   },
   {
    "duration": 118422,
    "start_time": "2024-10-31T03:25:36.592Z"
   },
   {
    "duration": 64,
    "start_time": "2024-10-31T03:27:35.016Z"
   },
   {
    "duration": 22,
    "start_time": "2024-10-31T03:27:35.081Z"
   },
   {
    "duration": 107,
    "start_time": "2024-10-31T03:27:35.105Z"
   },
   {
    "duration": 495788,
    "start_time": "2024-10-31T03:27:35.214Z"
   },
   {
    "duration": 211317,
    "start_time": "2024-10-31T03:35:51.004Z"
   },
   {
    "duration": 11,
    "start_time": "2024-10-31T03:39:22.323Z"
   },
   {
    "duration": 5,
    "start_time": "2024-10-31T03:39:22.336Z"
   },
   {
    "duration": 1159597,
    "start_time": "2024-10-31T03:39:22.343Z"
   },
   {
    "duration": 14,
    "start_time": "2024-10-31T03:58:41.942Z"
   },
   {
    "duration": 970657,
    "start_time": "2024-10-31T03:58:41.957Z"
   },
   {
    "duration": 270697,
    "start_time": "2024-10-31T04:14:52.616Z"
   },
   {
    "duration": 569801,
    "start_time": "2024-10-31T04:19:23.401Z"
   },
   {
    "duration": 14,
    "start_time": "2024-10-31T04:28:53.204Z"
   },
   {
    "duration": 265730,
    "start_time": "2024-10-31T04:30:23.683Z"
   },
   {
    "duration": 98,
    "start_time": "2024-10-31T04:34:49.415Z"
   },
   {
    "duration": 559202,
    "start_time": "2024-10-31T04:37:08.008Z"
   },
   {
    "duration": 16,
    "start_time": "2024-10-31T04:51:22.021Z"
   },
   {
    "duration": 4234,
    "start_time": "2024-10-31T05:25:47.189Z"
   },
   {
    "duration": 3,
    "start_time": "2024-10-31T05:25:51.425Z"
   },
   {
    "duration": 26,
    "start_time": "2024-10-31T05:25:51.430Z"
   },
   {
    "duration": 959,
    "start_time": "2024-10-31T05:25:51.458Z"
   },
   {
    "duration": 239,
    "start_time": "2024-10-31T05:25:52.419Z"
   },
   {
    "duration": 28,
    "start_time": "2024-10-31T05:25:52.660Z"
   },
   {
    "duration": 323,
    "start_time": "2024-10-31T05:25:52.689Z"
   },
   {
    "duration": 2133,
    "start_time": "2024-10-31T05:25:53.014Z"
   },
   {
    "duration": 562168,
    "start_time": "2024-10-31T05:25:55.149Z"
   },
   {
    "duration": 6569,
    "start_time": "2024-10-31T05:35:17.319Z"
   },
   {
    "duration": 123258,
    "start_time": "2024-10-31T05:35:23.890Z"
   },
   {
    "duration": 69,
    "start_time": "2024-10-31T05:37:27.151Z"
   },
   {
    "duration": 6,
    "start_time": "2024-10-31T05:37:27.222Z"
   },
   {
    "duration": 115,
    "start_time": "2024-10-31T05:37:27.229Z"
   },
   {
    "duration": 468560,
    "start_time": "2024-10-31T05:37:27.346Z"
   },
   {
    "duration": 177124,
    "start_time": "2024-10-31T05:45:15.908Z"
   },
   {
    "duration": 11,
    "start_time": "2024-10-31T05:48:13.034Z"
   },
   {
    "duration": 73,
    "start_time": "2024-10-31T05:48:13.047Z"
   },
   {
    "duration": 1513379,
    "start_time": "2024-10-31T05:48:13.122Z"
   },
   {
    "duration": 15,
    "start_time": "2024-10-31T06:13:26.503Z"
   },
   {
    "duration": 4330,
    "start_time": "2024-10-31T14:52:28.555Z"
   },
   {
    "duration": 3,
    "start_time": "2024-10-31T14:52:32.887Z"
   },
   {
    "duration": 220,
    "start_time": "2024-10-31T14:52:32.891Z"
   },
   {
    "duration": 1317,
    "start_time": "2024-10-31T14:52:33.113Z"
   },
   {
    "duration": 230,
    "start_time": "2024-10-31T14:52:34.431Z"
   },
   {
    "duration": 22,
    "start_time": "2024-10-31T14:52:34.663Z"
   },
   {
    "duration": 283,
    "start_time": "2024-10-31T14:52:34.686Z"
   },
   {
    "duration": 2000,
    "start_time": "2024-10-31T14:52:34.971Z"
   },
   {
    "duration": 518417,
    "start_time": "2024-10-31T14:52:36.973Z"
   },
   {
    "duration": 6279,
    "start_time": "2024-10-31T15:01:15.392Z"
   },
   {
    "duration": 101621,
    "start_time": "2024-10-31T15:01:21.672Z"
   },
   {
    "duration": 37,
    "start_time": "2024-10-31T15:03:03.295Z"
   },
   {
    "duration": 18,
    "start_time": "2024-10-31T15:03:03.334Z"
   },
   {
    "duration": 137,
    "start_time": "2024-10-31T15:03:03.354Z"
   },
   {
    "duration": 596194,
    "start_time": "2024-10-31T15:03:03.493Z"
   },
   {
    "duration": 193231,
    "start_time": "2024-10-31T15:12:59.689Z"
   },
   {
    "duration": 9,
    "start_time": "2024-10-31T15:16:12.921Z"
   },
   {
    "duration": 88,
    "start_time": "2024-10-31T15:16:12.932Z"
   },
   {
    "duration": 1373935,
    "start_time": "2024-10-31T15:16:13.022Z"
   },
   {
    "duration": 14,
    "start_time": "2024-10-31T15:39:06.959Z"
   },
   {
    "duration": 58,
    "start_time": "2024-10-31T15:46:16.997Z"
   },
   {
    "duration": 0,
    "start_time": "2024-10-31T15:46:17.057Z"
   },
   {
    "duration": 0,
    "start_time": "2024-10-31T15:46:17.059Z"
   },
   {
    "duration": 0,
    "start_time": "2024-10-31T15:46:17.060Z"
   },
   {
    "duration": 0,
    "start_time": "2024-10-31T15:46:17.061Z"
   },
   {
    "duration": 0,
    "start_time": "2024-10-31T15:46:17.062Z"
   },
   {
    "duration": 0,
    "start_time": "2024-10-31T15:46:17.063Z"
   },
   {
    "duration": 0,
    "start_time": "2024-10-31T15:46:17.064Z"
   },
   {
    "duration": 0,
    "start_time": "2024-10-31T15:46:17.065Z"
   },
   {
    "duration": 0,
    "start_time": "2024-10-31T15:46:17.066Z"
   },
   {
    "duration": 0,
    "start_time": "2024-10-31T15:46:17.067Z"
   },
   {
    "duration": 0,
    "start_time": "2024-10-31T15:46:17.068Z"
   },
   {
    "duration": 0,
    "start_time": "2024-10-31T15:46:17.068Z"
   },
   {
    "duration": 5,
    "start_time": "2024-10-31T15:46:17.109Z"
   },
   {
    "duration": 0,
    "start_time": "2024-10-31T15:46:17.116Z"
   },
   {
    "duration": 61,
    "start_time": "2024-10-31T15:46:17.120Z"
   },
   {
    "duration": 0,
    "start_time": "2024-10-31T15:46:17.182Z"
   },
   {
    "duration": 0,
    "start_time": "2024-10-31T15:46:17.184Z"
   },
   {
    "duration": 0,
    "start_time": "2024-10-31T15:46:17.185Z"
   },
   {
    "duration": 0,
    "start_time": "2024-10-31T15:46:17.186Z"
   },
   {
    "duration": 9,
    "start_time": "2024-10-31T15:46:17.208Z"
   },
   {
    "duration": 1049,
    "start_time": "2024-10-31T15:46:17.244Z"
   },
   {
    "duration": 0,
    "start_time": "2024-10-31T15:46:18.295Z"
   },
   {
    "duration": 0,
    "start_time": "2024-10-31T15:46:18.296Z"
   },
   {
    "duration": 64,
    "start_time": "2024-10-31T16:02:25.177Z"
   },
   {
    "duration": 60,
    "start_time": "2024-10-31T16:03:09.450Z"
   },
   {
    "duration": 47,
    "start_time": "2024-10-31T16:03:17.073Z"
   },
   {
    "duration": 0,
    "start_time": "2024-10-31T16:03:17.122Z"
   },
   {
    "duration": 1,
    "start_time": "2024-10-31T16:03:17.123Z"
   },
   {
    "duration": 0,
    "start_time": "2024-10-31T16:03:17.125Z"
   },
   {
    "duration": 0,
    "start_time": "2024-10-31T16:03:17.125Z"
   },
   {
    "duration": 51,
    "start_time": "2024-10-31T16:03:17.132Z"
   },
   {
    "duration": 0,
    "start_time": "2024-10-31T16:03:17.185Z"
   },
   {
    "duration": 0,
    "start_time": "2024-10-31T16:03:17.186Z"
   },
   {
    "duration": 0,
    "start_time": "2024-10-31T16:03:17.187Z"
   },
   {
    "duration": 0,
    "start_time": "2024-10-31T16:03:17.188Z"
   },
   {
    "duration": 8,
    "start_time": "2024-10-31T16:03:17.500Z"
   },
   {
    "duration": 65,
    "start_time": "2024-10-31T16:03:17.517Z"
   },
   {
    "duration": 0,
    "start_time": "2024-10-31T16:03:17.583Z"
   },
   {
    "duration": 24,
    "start_time": "2024-10-31T16:03:17.604Z"
   },
   {
    "duration": 0,
    "start_time": "2024-10-31T16:03:17.630Z"
   },
   {
    "duration": 0,
    "start_time": "2024-10-31T16:03:17.631Z"
   },
   {
    "duration": 14,
    "start_time": "2024-10-31T16:03:17.632Z"
   },
   {
    "duration": 0,
    "start_time": "2024-10-31T16:03:17.648Z"
   },
   {
    "duration": 17,
    "start_time": "2024-10-31T16:03:17.649Z"
   },
   {
    "duration": 0,
    "start_time": "2024-10-31T16:03:17.668Z"
   },
   {
    "duration": 0,
    "start_time": "2024-10-31T16:03:17.669Z"
   },
   {
    "duration": 7,
    "start_time": "2024-10-31T16:03:17.670Z"
   },
   {
    "duration": 1121,
    "start_time": "2024-10-31T16:03:17.686Z"
   },
   {
    "duration": 0,
    "start_time": "2024-10-31T16:03:18.808Z"
   },
   {
    "duration": 0,
    "start_time": "2024-10-31T16:03:18.810Z"
   },
   {
    "duration": 3025,
    "start_time": "2024-10-31T16:03:22.679Z"
   },
   {
    "duration": 6,
    "start_time": "2024-10-31T16:03:26.185Z"
   },
   {
    "duration": 4,
    "start_time": "2024-10-31T16:03:27.278Z"
   },
   {
    "duration": 846,
    "start_time": "2024-10-31T16:03:28.580Z"
   },
   {
    "duration": 234,
    "start_time": "2024-10-31T16:03:30.384Z"
   },
   {
    "duration": 20,
    "start_time": "2024-10-31T16:03:31.454Z"
   },
   {
    "duration": 233,
    "start_time": "2024-10-31T16:03:33.246Z"
   },
   {
    "duration": 1951,
    "start_time": "2024-10-31T16:03:36.236Z"
   },
   {
    "duration": 69,
    "start_time": "2024-10-31T16:03:40.284Z"
   },
   {
    "duration": 511,
    "start_time": "2024-10-31T16:04:17.478Z"
   },
   {
    "duration": 3,
    "start_time": "2024-10-31T16:04:42.811Z"
   },
   {
    "duration": 73718,
    "start_time": "2024-10-31T16:04:43.216Z"
   },
   {
    "duration": 73591,
    "start_time": "2024-10-31T16:13:45.382Z"
   },
   {
    "duration": 58517,
    "start_time": "2024-10-31T16:38:44.502Z"
   },
   {
    "duration": 2,
    "start_time": "2024-10-31T16:39:43.021Z"
   },
   {
    "duration": 45795,
    "start_time": "2024-10-31T16:44:22.031Z"
   },
   {
    "duration": 6291,
    "start_time": "2024-10-31T16:45:38.861Z"
   },
   {
    "duration": 45,
    "start_time": "2024-10-31T16:46:13.647Z"
   },
   {
    "duration": 0,
    "start_time": "2024-10-31T16:46:13.693Z"
   },
   {
    "duration": 0,
    "start_time": "2024-10-31T16:46:13.694Z"
   },
   {
    "duration": 0,
    "start_time": "2024-10-31T16:46:13.695Z"
   },
   {
    "duration": 6,
    "start_time": "2024-10-31T16:46:13.701Z"
   },
   {
    "duration": 43,
    "start_time": "2024-10-31T16:46:13.710Z"
   },
   {
    "duration": 0,
    "start_time": "2024-10-31T16:46:13.755Z"
   },
   {
    "duration": 0,
    "start_time": "2024-10-31T16:46:13.756Z"
   },
   {
    "duration": 33,
    "start_time": "2024-10-31T16:46:13.762Z"
   },
   {
    "duration": 0,
    "start_time": "2024-10-31T16:46:13.797Z"
   },
   {
    "duration": 0,
    "start_time": "2024-10-31T16:46:13.798Z"
   },
   {
    "duration": 25,
    "start_time": "2024-10-31T16:46:13.799Z"
   },
   {
    "duration": 0,
    "start_time": "2024-10-31T16:46:13.825Z"
   },
   {
    "duration": 129,
    "start_time": "2024-10-31T16:46:13.866Z"
   },
   {
    "duration": 0,
    "start_time": "2024-10-31T16:46:13.997Z"
   },
   {
    "duration": 0,
    "start_time": "2024-10-31T16:46:13.997Z"
   },
   {
    "duration": 0,
    "start_time": "2024-10-31T16:46:13.999Z"
   },
   {
    "duration": 0,
    "start_time": "2024-10-31T16:46:14.000Z"
   },
   {
    "duration": 16,
    "start_time": "2024-10-31T16:46:14.005Z"
   },
   {
    "duration": 10,
    "start_time": "2024-10-31T16:46:14.029Z"
   },
   {
    "duration": 9,
    "start_time": "2024-10-31T16:46:14.058Z"
   },
   {
    "duration": 0,
    "start_time": "2024-10-31T16:46:14.068Z"
   },
   {
    "duration": 43,
    "start_time": "2024-10-31T16:46:14.075Z"
   },
   {
    "duration": 0,
    "start_time": "2024-10-31T16:46:14.119Z"
   },
   {
    "duration": 0,
    "start_time": "2024-10-31T16:46:14.120Z"
   },
   {
    "duration": 0,
    "start_time": "2024-10-31T16:46:14.121Z"
   },
   {
    "duration": 1179,
    "start_time": "2024-10-31T16:46:14.123Z"
   },
   {
    "duration": 0,
    "start_time": "2024-10-31T16:46:15.304Z"
   },
   {
    "duration": 0,
    "start_time": "2024-10-31T16:46:15.305Z"
   },
   {
    "duration": 2819,
    "start_time": "2024-10-31T16:47:09.936Z"
   },
   {
    "duration": 5,
    "start_time": "2024-10-31T16:47:12.757Z"
   },
   {
    "duration": 3,
    "start_time": "2024-10-31T16:47:13.769Z"
   },
   {
    "duration": 828,
    "start_time": "2024-10-31T16:47:19.637Z"
   },
   {
    "duration": 228,
    "start_time": "2024-10-31T16:47:23.342Z"
   },
   {
    "duration": 19,
    "start_time": "2024-10-31T16:47:23.572Z"
   },
   {
    "duration": 251,
    "start_time": "2024-10-31T16:47:23.983Z"
   },
   {
    "duration": 1991,
    "start_time": "2024-10-31T16:47:25.672Z"
   },
   {
    "duration": 3,
    "start_time": "2024-10-31T16:47:27.665Z"
   },
   {
    "duration": 61987,
    "start_time": "2024-10-31T16:47:28.075Z"
   },
   {
    "duration": 6159,
    "start_time": "2024-10-31T16:48:30.063Z"
   },
   {
    "duration": 6046,
    "start_time": "2024-10-31T16:49:34.917Z"
   },
   {
    "duration": 7,
    "start_time": "2024-10-31T16:56:52.272Z"
   },
   {
    "duration": 5,
    "start_time": "2024-10-31T16:57:00.872Z"
   },
   {
    "duration": 2,
    "start_time": "2024-10-31T16:57:21.262Z"
   },
   {
    "duration": 59820,
    "start_time": "2024-10-31T16:57:21.508Z"
   },
   {
    "duration": 6071,
    "start_time": "2024-10-31T16:58:21.330Z"
   },
   {
    "duration": 101,
    "start_time": "2024-10-31T17:01:27.061Z"
   },
   {
    "duration": 6,
    "start_time": "2024-10-31T17:08:46.369Z"
   },
   {
    "duration": 3951,
    "start_time": "2024-10-31T17:10:54.121Z"
   },
   {
    "duration": 232,
    "start_time": "2024-10-31T17:11:42.661Z"
   },
   {
    "duration": 10642,
    "start_time": "2024-10-31T17:14:02.788Z"
   },
   {
    "duration": 15,
    "start_time": "2024-10-31T17:14:34.143Z"
   },
   {
    "duration": 3,
    "start_time": "2024-10-31T17:14:43.001Z"
   },
   {
    "duration": 5,
    "start_time": "2024-10-31T17:24:28.475Z"
   },
   {
    "duration": 679,
    "start_time": "2024-10-31T17:26:04.075Z"
   },
   {
    "duration": 1597,
    "start_time": "2024-10-31T17:26:47.483Z"
   },
   {
    "duration": 2,
    "start_time": "2024-10-31T17:26:49.082Z"
   },
   {
    "duration": 37,
    "start_time": "2024-10-31T17:26:49.085Z"
   },
   {
    "duration": 970,
    "start_time": "2024-10-31T17:26:49.124Z"
   },
   {
    "duration": 246,
    "start_time": "2024-10-31T17:26:50.095Z"
   },
   {
    "duration": 20,
    "start_time": "2024-10-31T17:26:50.343Z"
   },
   {
    "duration": 246,
    "start_time": "2024-10-31T17:26:50.364Z"
   },
   {
    "duration": 2014,
    "start_time": "2024-10-31T17:26:50.612Z"
   },
   {
    "duration": 3,
    "start_time": "2024-10-31T17:26:52.627Z"
   },
   {
    "duration": 416,
    "start_time": "2024-10-31T17:26:52.634Z"
   },
   {
    "duration": 0,
    "start_time": "2024-10-31T17:26:53.052Z"
   },
   {
    "duration": 0,
    "start_time": "2024-10-31T17:26:53.052Z"
   },
   {
    "duration": 0,
    "start_time": "2024-10-31T17:26:53.053Z"
   },
   {
    "duration": 0,
    "start_time": "2024-10-31T17:26:53.054Z"
   },
   {
    "duration": 0,
    "start_time": "2024-10-31T17:26:53.055Z"
   },
   {
    "duration": 0,
    "start_time": "2024-10-31T17:26:53.056Z"
   },
   {
    "duration": 0,
    "start_time": "2024-10-31T17:26:53.057Z"
   },
   {
    "duration": 0,
    "start_time": "2024-10-31T17:26:53.058Z"
   },
   {
    "duration": 0,
    "start_time": "2024-10-31T17:26:53.059Z"
   },
   {
    "duration": 0,
    "start_time": "2024-10-31T17:26:53.060Z"
   },
   {
    "duration": 1,
    "start_time": "2024-10-31T17:26:53.060Z"
   },
   {
    "duration": 0,
    "start_time": "2024-10-31T17:26:53.061Z"
   },
   {
    "duration": 0,
    "start_time": "2024-10-31T17:26:53.062Z"
   },
   {
    "duration": 0,
    "start_time": "2024-10-31T17:26:53.064Z"
   },
   {
    "duration": 0,
    "start_time": "2024-10-31T17:26:53.065Z"
   },
   {
    "duration": 0,
    "start_time": "2024-10-31T17:26:53.066Z"
   },
   {
    "duration": 0,
    "start_time": "2024-10-31T17:26:53.066Z"
   },
   {
    "duration": 0,
    "start_time": "2024-10-31T17:26:53.067Z"
   },
   {
    "duration": 0,
    "start_time": "2024-10-31T17:26:53.068Z"
   },
   {
    "duration": 63193,
    "start_time": "2024-10-31T17:27:21.978Z"
   },
   {
    "duration": 6714,
    "start_time": "2024-10-31T17:28:25.173Z"
   },
   {
    "duration": 5,
    "start_time": "2024-10-31T17:28:42.441Z"
   },
   {
    "duration": 102,
    "start_time": "2024-10-31T17:28:44.324Z"
   },
   {
    "duration": 9,
    "start_time": "2024-10-31T17:28:47.044Z"
   },
   {
    "duration": 11625,
    "start_time": "2024-10-31T17:28:52.532Z"
   },
   {
    "duration": 721,
    "start_time": "2024-10-31T17:29:36.425Z"
   },
   {
    "duration": 392,
    "start_time": "2024-10-31T17:57:01.315Z"
   },
   {
    "duration": 431,
    "start_time": "2024-10-31T17:58:47.098Z"
   },
   {
    "duration": 1002386,
    "start_time": "2024-10-31T17:59:35.854Z"
   },
   {
    "duration": 3,
    "start_time": "2024-10-31T18:16:18.241Z"
   },
   {
    "duration": 2663768,
    "start_time": "2024-10-31T18:16:18.245Z"
   },
   {
    "duration": 1572,
    "start_time": "2024-10-31T19:06:39.602Z"
   },
   {
    "duration": 3,
    "start_time": "2024-10-31T19:06:41.175Z"
   },
   {
    "duration": 43,
    "start_time": "2024-10-31T19:06:41.179Z"
   },
   {
    "duration": 1291,
    "start_time": "2024-10-31T19:06:41.223Z"
   },
   {
    "duration": 491,
    "start_time": "2024-10-31T19:06:42.516Z"
   },
   {
    "duration": 29,
    "start_time": "2024-10-31T19:06:43.009Z"
   },
   {
    "duration": 614,
    "start_time": "2024-10-31T19:06:43.040Z"
   },
   {
    "duration": 2085,
    "start_time": "2024-10-31T19:06:43.655Z"
   },
   {
    "duration": 64226,
    "start_time": "2024-10-31T19:06:45.741Z"
   },
   {
    "duration": 5,
    "start_time": "2024-10-31T19:07:49.969Z"
   },
   {
    "duration": 121,
    "start_time": "2024-10-31T19:07:49.975Z"
   },
   {
    "duration": 11562,
    "start_time": "2024-10-31T19:07:50.098Z"
   },
   {
    "duration": 130,
    "start_time": "2024-10-31T19:08:01.661Z"
   },
   {
    "duration": 0,
    "start_time": "2024-10-31T19:08:01.793Z"
   },
   {
    "duration": 0,
    "start_time": "2024-10-31T19:08:01.794Z"
   },
   {
    "duration": 0,
    "start_time": "2024-10-31T19:08:01.795Z"
   },
   {
    "duration": 0,
    "start_time": "2024-10-31T19:08:01.796Z"
   },
   {
    "duration": 0,
    "start_time": "2024-10-31T19:08:01.797Z"
   },
   {
    "duration": 0,
    "start_time": "2024-10-31T19:08:01.807Z"
   },
   {
    "duration": 0,
    "start_time": "2024-10-31T19:08:01.808Z"
   },
   {
    "duration": 0,
    "start_time": "2024-10-31T19:08:01.809Z"
   },
   {
    "duration": 0,
    "start_time": "2024-10-31T19:08:01.810Z"
   },
   {
    "duration": 0,
    "start_time": "2024-10-31T19:08:01.811Z"
   },
   {
    "duration": 0,
    "start_time": "2024-10-31T19:08:01.812Z"
   },
   {
    "duration": 0,
    "start_time": "2024-10-31T19:08:01.813Z"
   },
   {
    "duration": 0,
    "start_time": "2024-10-31T19:08:01.814Z"
   },
   {
    "duration": 0,
    "start_time": "2024-10-31T19:08:01.815Z"
   },
   {
    "duration": 0,
    "start_time": "2024-10-31T19:08:01.815Z"
   },
   {
    "duration": 0,
    "start_time": "2024-10-31T19:08:01.816Z"
   },
   {
    "duration": 0,
    "start_time": "2024-10-31T19:08:01.817Z"
   },
   {
    "duration": 11,
    "start_time": "2024-10-31T19:09:36.810Z"
   },
   {
    "duration": 1063,
    "start_time": "2024-10-31T19:09:52.443Z"
   },
   {
    "duration": 1663,
    "start_time": "2024-10-31T19:10:50.893Z"
   },
   {
    "duration": 2,
    "start_time": "2024-10-31T19:10:52.558Z"
   },
   {
    "duration": 46,
    "start_time": "2024-10-31T19:10:52.561Z"
   },
   {
    "duration": 933,
    "start_time": "2024-10-31T19:10:52.609Z"
   },
   {
    "duration": 6,
    "start_time": "2024-10-31T19:10:53.543Z"
   },
   {
    "duration": 4,
    "start_time": "2024-10-31T19:10:53.550Z"
   },
   {
    "duration": 12,
    "start_time": "2024-10-31T19:10:53.556Z"
   },
   {
    "duration": 43,
    "start_time": "2024-10-31T19:10:53.569Z"
   },
   {
    "duration": 1441,
    "start_time": "2024-10-31T19:10:53.613Z"
   },
   {
    "duration": 5,
    "start_time": "2024-10-31T19:10:55.056Z"
   },
   {
    "duration": 13,
    "start_time": "2024-10-31T19:10:55.062Z"
   },
   {
    "duration": 103,
    "start_time": "2024-10-31T19:10:55.076Z"
   },
   {
    "duration": 154,
    "start_time": "2024-10-31T19:10:55.180Z"
   },
   {
    "duration": 0,
    "start_time": "2024-10-31T19:10:55.336Z"
   },
   {
    "duration": 0,
    "start_time": "2024-10-31T19:10:55.337Z"
   },
   {
    "duration": 0,
    "start_time": "2024-10-31T19:10:55.339Z"
   },
   {
    "duration": 0,
    "start_time": "2024-10-31T19:10:55.339Z"
   },
   {
    "duration": 0,
    "start_time": "2024-10-31T19:10:55.340Z"
   },
   {
    "duration": 0,
    "start_time": "2024-10-31T19:10:55.341Z"
   },
   {
    "duration": 0,
    "start_time": "2024-10-31T19:10:55.342Z"
   },
   {
    "duration": 1,
    "start_time": "2024-10-31T19:10:55.342Z"
   },
   {
    "duration": 0,
    "start_time": "2024-10-31T19:10:55.343Z"
   },
   {
    "duration": 0,
    "start_time": "2024-10-31T19:10:55.344Z"
   },
   {
    "duration": 0,
    "start_time": "2024-10-31T19:10:55.345Z"
   },
   {
    "duration": 0,
    "start_time": "2024-10-31T19:10:55.346Z"
   },
   {
    "duration": 0,
    "start_time": "2024-10-31T19:10:55.347Z"
   },
   {
    "duration": 0,
    "start_time": "2024-10-31T19:10:55.349Z"
   },
   {
    "duration": 0,
    "start_time": "2024-10-31T19:10:55.350Z"
   },
   {
    "duration": 0,
    "start_time": "2024-10-31T19:10:55.351Z"
   },
   {
    "duration": 0,
    "start_time": "2024-10-31T19:10:55.352Z"
   },
   {
    "duration": 0,
    "start_time": "2024-10-31T19:10:55.352Z"
   },
   {
    "duration": 23331,
    "start_time": "2024-10-31T19:12:31.978Z"
   },
   {
    "duration": 3559,
    "start_time": "2024-10-31T19:20:49.757Z"
   },
   {
    "duration": 3,
    "start_time": "2024-10-31T19:20:57.966Z"
   },
   {
    "duration": 10776,
    "start_time": "2024-10-31T19:20:58.133Z"
   },
   {
    "duration": 36697,
    "start_time": "2024-10-31T19:21:08.910Z"
   },
   {
    "duration": 1277,
    "start_time": "2024-10-31T19:21:45.609Z"
   },
   {
    "duration": 0,
    "start_time": "2024-10-31T19:21:46.888Z"
   },
   {
    "duration": 1590,
    "start_time": "2024-10-31T19:23:19.526Z"
   },
   {
    "duration": 2,
    "start_time": "2024-10-31T19:23:21.118Z"
   },
   {
    "duration": 36,
    "start_time": "2024-10-31T19:23:21.122Z"
   },
   {
    "duration": 1790,
    "start_time": "2024-10-31T19:23:21.160Z"
   },
   {
    "duration": 488,
    "start_time": "2024-10-31T19:23:22.952Z"
   },
   {
    "duration": 67,
    "start_time": "2024-10-31T19:23:23.441Z"
   },
   {
    "duration": 260,
    "start_time": "2024-10-31T19:23:23.509Z"
   },
   {
    "duration": 2178,
    "start_time": "2024-10-31T19:23:23.771Z"
   },
   {
    "duration": 64383,
    "start_time": "2024-10-31T19:23:25.951Z"
   },
   {
    "duration": 6,
    "start_time": "2024-10-31T19:24:30.336Z"
   },
   {
    "duration": 171,
    "start_time": "2024-10-31T19:24:30.343Z"
   },
   {
    "duration": 11581,
    "start_time": "2024-10-31T19:24:30.516Z"
   },
   {
    "duration": 124,
    "start_time": "2024-10-31T19:24:42.098Z"
   },
   {
    "duration": 0,
    "start_time": "2024-10-31T19:24:42.223Z"
   },
   {
    "duration": 0,
    "start_time": "2024-10-31T19:24:42.225Z"
   },
   {
    "duration": 0,
    "start_time": "2024-10-31T19:24:42.225Z"
   },
   {
    "duration": 0,
    "start_time": "2024-10-31T19:24:42.226Z"
   },
   {
    "duration": 0,
    "start_time": "2024-10-31T19:24:42.228Z"
   },
   {
    "duration": 0,
    "start_time": "2024-10-31T19:24:42.229Z"
   },
   {
    "duration": 0,
    "start_time": "2024-10-31T19:24:42.231Z"
   },
   {
    "duration": 0,
    "start_time": "2024-10-31T19:24:42.232Z"
   },
   {
    "duration": 0,
    "start_time": "2024-10-31T19:24:42.233Z"
   },
   {
    "duration": 0,
    "start_time": "2024-10-31T19:24:42.234Z"
   },
   {
    "duration": 0,
    "start_time": "2024-10-31T19:24:42.236Z"
   },
   {
    "duration": 0,
    "start_time": "2024-10-31T19:24:42.237Z"
   },
   {
    "duration": 0,
    "start_time": "2024-10-31T19:24:42.238Z"
   },
   {
    "duration": 0,
    "start_time": "2024-10-31T19:24:42.239Z"
   },
   {
    "duration": 0,
    "start_time": "2024-10-31T19:24:42.241Z"
   },
   {
    "duration": 0,
    "start_time": "2024-10-31T19:24:42.242Z"
   },
   {
    "duration": 0,
    "start_time": "2024-10-31T19:24:42.243Z"
   },
   {
    "duration": 0,
    "start_time": "2024-10-31T19:24:42.245Z"
   },
   {
    "duration": 0,
    "start_time": "2024-10-31T19:24:42.246Z"
   },
   {
    "duration": 12,
    "start_time": "2024-10-31T19:25:08.636Z"
   },
   {
    "duration": 2,
    "start_time": "2024-10-31T19:25:20.174Z"
   },
   {
    "duration": 1489,
    "start_time": "2024-10-31T22:19:33.558Z"
   },
   {
    "duration": 2,
    "start_time": "2024-10-31T22:19:35.048Z"
   },
   {
    "duration": 41,
    "start_time": "2024-10-31T22:19:35.052Z"
   },
   {
    "duration": 1236,
    "start_time": "2024-10-31T22:19:35.095Z"
   },
   {
    "duration": 241,
    "start_time": "2024-10-31T22:19:36.332Z"
   },
   {
    "duration": 19,
    "start_time": "2024-10-31T22:19:36.574Z"
   },
   {
    "duration": 260,
    "start_time": "2024-10-31T22:19:36.595Z"
   },
   {
    "duration": 2386,
    "start_time": "2024-10-31T22:19:36.857Z"
   },
   {
    "duration": 62457,
    "start_time": "2024-10-31T22:19:39.245Z"
   },
   {
    "duration": 5,
    "start_time": "2024-10-31T22:20:41.707Z"
   },
   {
    "duration": 128,
    "start_time": "2024-10-31T22:20:41.713Z"
   },
   {
    "duration": 11389,
    "start_time": "2024-10-31T22:20:41.842Z"
   },
   {
    "duration": 129,
    "start_time": "2024-10-31T22:20:53.232Z"
   },
   {
    "duration": 0,
    "start_time": "2024-10-31T22:20:53.362Z"
   },
   {
    "duration": 0,
    "start_time": "2024-10-31T22:20:53.363Z"
   },
   {
    "duration": 0,
    "start_time": "2024-10-31T22:20:53.364Z"
   },
   {
    "duration": 0,
    "start_time": "2024-10-31T22:20:53.365Z"
   },
   {
    "duration": 0,
    "start_time": "2024-10-31T22:20:53.366Z"
   },
   {
    "duration": 0,
    "start_time": "2024-10-31T22:20:53.367Z"
   },
   {
    "duration": 0,
    "start_time": "2024-10-31T22:20:53.368Z"
   },
   {
    "duration": 0,
    "start_time": "2024-10-31T22:20:53.369Z"
   },
   {
    "duration": 0,
    "start_time": "2024-10-31T22:20:53.370Z"
   },
   {
    "duration": 0,
    "start_time": "2024-10-31T22:20:53.371Z"
   },
   {
    "duration": 0,
    "start_time": "2024-10-31T22:20:53.372Z"
   },
   {
    "duration": 0,
    "start_time": "2024-10-31T22:20:53.374Z"
   },
   {
    "duration": 0,
    "start_time": "2024-10-31T22:20:53.375Z"
   },
   {
    "duration": 0,
    "start_time": "2024-10-31T22:20:53.376Z"
   },
   {
    "duration": 0,
    "start_time": "2024-10-31T22:20:53.377Z"
   },
   {
    "duration": 0,
    "start_time": "2024-10-31T22:20:53.378Z"
   },
   {
    "duration": 0,
    "start_time": "2024-10-31T22:20:53.407Z"
   },
   {
    "duration": 0,
    "start_time": "2024-10-31T22:20:53.408Z"
   },
   {
    "duration": 0,
    "start_time": "2024-10-31T22:20:53.409Z"
   },
   {
    "duration": 2,
    "start_time": "2024-10-31T22:21:13.630Z"
   },
   {
    "duration": 69,
    "start_time": "2024-10-31T23:09:05.894Z"
   },
   {
    "duration": 0,
    "start_time": "2024-10-31T23:09:05.965Z"
   },
   {
    "duration": 0,
    "start_time": "2024-10-31T23:09:05.966Z"
   },
   {
    "duration": 0,
    "start_time": "2024-10-31T23:09:05.967Z"
   },
   {
    "duration": 0,
    "start_time": "2024-10-31T23:09:05.968Z"
   },
   {
    "duration": 0,
    "start_time": "2024-10-31T23:09:05.970Z"
   },
   {
    "duration": 0,
    "start_time": "2024-10-31T23:09:05.971Z"
   },
   {
    "duration": 0,
    "start_time": "2024-10-31T23:09:05.973Z"
   },
   {
    "duration": 0,
    "start_time": "2024-10-31T23:09:05.974Z"
   },
   {
    "duration": 0,
    "start_time": "2024-10-31T23:09:05.975Z"
   },
   {
    "duration": 41,
    "start_time": "2024-10-31T23:09:06.011Z"
   },
   {
    "duration": 0,
    "start_time": "2024-10-31T23:09:06.053Z"
   },
   {
    "duration": 0,
    "start_time": "2024-10-31T23:09:06.055Z"
   },
   {
    "duration": 0,
    "start_time": "2024-10-31T23:09:06.056Z"
   },
   {
    "duration": 0,
    "start_time": "2024-10-31T23:09:06.057Z"
   },
   {
    "duration": 0,
    "start_time": "2024-10-31T23:09:06.058Z"
   },
   {
    "duration": 8,
    "start_time": "2024-10-31T23:09:06.060Z"
   },
   {
    "duration": 0,
    "start_time": "2024-10-31T23:09:06.069Z"
   },
   {
    "duration": 0,
    "start_time": "2024-10-31T23:09:06.071Z"
   },
   {
    "duration": 32,
    "start_time": "2024-10-31T23:09:06.082Z"
   },
   {
    "duration": 0,
    "start_time": "2024-10-31T23:09:06.116Z"
   },
   {
    "duration": 0,
    "start_time": "2024-10-31T23:09:06.117Z"
   },
   {
    "duration": 0,
    "start_time": "2024-10-31T23:09:06.118Z"
   },
   {
    "duration": 0,
    "start_time": "2024-10-31T23:09:06.119Z"
   },
   {
    "duration": 0,
    "start_time": "2024-10-31T23:09:06.120Z"
   },
   {
    "duration": 952,
    "start_time": "2024-10-31T23:09:06.123Z"
   },
   {
    "duration": 0,
    "start_time": "2024-10-31T23:09:07.076Z"
   },
   {
    "duration": 0,
    "start_time": "2024-10-31T23:09:07.077Z"
   },
   {
    "duration": 0,
    "start_time": "2024-10-31T23:09:07.078Z"
   },
   {
    "duration": 0,
    "start_time": "2024-10-31T23:09:07.080Z"
   },
   {
    "duration": 0,
    "start_time": "2024-10-31T23:09:07.081Z"
   },
   {
    "duration": 0,
    "start_time": "2024-10-31T23:09:07.081Z"
   },
   {
    "duration": 0,
    "start_time": "2024-10-31T23:09:07.083Z"
   },
   {
    "duration": 1,
    "start_time": "2024-10-31T23:09:07.083Z"
   },
   {
    "duration": 0,
    "start_time": "2024-10-31T23:09:07.084Z"
   },
   {
    "duration": 744,
    "start_time": "2024-10-31T23:09:13.360Z"
   },
   {
    "duration": 2,
    "start_time": "2024-10-31T23:09:14.106Z"
   },
   {
    "duration": 3,
    "start_time": "2024-10-31T23:09:14.429Z"
   },
   {
    "duration": 927,
    "start_time": "2024-10-31T23:09:15.568Z"
   },
   {
    "duration": 226,
    "start_time": "2024-10-31T23:09:17.490Z"
   },
   {
    "duration": 20,
    "start_time": "2024-10-31T23:09:18.326Z"
   },
   {
    "duration": 2431,
    "start_time": "2024-10-31T23:09:20.184Z"
   },
   {
    "duration": 1626,
    "start_time": "2024-10-31T23:09:33.354Z"
   },
   {
    "duration": 63136,
    "start_time": "2024-10-31T23:09:45.853Z"
   },
   {
    "duration": 6,
    "start_time": "2024-10-31T23:13:10.899Z"
   },
   {
    "duration": 152,
    "start_time": "2024-10-31T23:13:17.159Z"
   },
   {
    "duration": 106,
    "start_time": "2024-10-31T23:13:25.625Z"
   },
   {
    "duration": 57,
    "start_time": "2024-10-31T23:13:41.723Z"
   },
   {
    "duration": 11605,
    "start_time": "2024-10-31T23:15:11.108Z"
   },
   {
    "duration": 2,
    "start_time": "2024-10-31T23:15:33.272Z"
   },
   {
    "duration": 15400438,
    "start_time": "2024-10-31T23:15:33.416Z"
   },
   {
    "duration": 3126,
    "start_time": "2024-11-01T03:32:13.856Z"
   },
   {
    "duration": 3640,
    "start_time": "2024-11-04T06:59:59.597Z"
   },
   {
    "duration": 2,
    "start_time": "2024-11-04T07:00:03.239Z"
   },
   {
    "duration": 42,
    "start_time": "2024-11-04T07:00:03.243Z"
   },
   {
    "duration": 171,
    "start_time": "2024-11-04T07:00:03.286Z"
   },
   {
    "duration": 2583,
    "start_time": "2024-11-04T17:07:18.612Z"
   },
   {
    "duration": 2,
    "start_time": "2024-11-04T17:07:21.197Z"
   },
   {
    "duration": 18,
    "start_time": "2024-11-04T17:07:21.201Z"
   },
   {
    "duration": 155,
    "start_time": "2024-11-04T17:07:21.220Z"
   },
   {
    "duration": 0,
    "start_time": "2024-11-04T17:07:21.377Z"
   },
   {
    "duration": 0,
    "start_time": "2024-11-04T17:07:21.378Z"
   },
   {
    "duration": 0,
    "start_time": "2024-11-04T17:07:21.380Z"
   },
   {
    "duration": 1,
    "start_time": "2024-11-04T17:07:21.380Z"
   },
   {
    "duration": 0,
    "start_time": "2024-11-04T17:07:21.382Z"
   },
   {
    "duration": 0,
    "start_time": "2024-11-04T17:07:21.383Z"
   },
   {
    "duration": 0,
    "start_time": "2024-11-04T17:07:21.384Z"
   },
   {
    "duration": 0,
    "start_time": "2024-11-04T17:07:21.385Z"
   },
   {
    "duration": 0,
    "start_time": "2024-11-04T17:07:21.386Z"
   },
   {
    "duration": 0,
    "start_time": "2024-11-04T17:07:21.387Z"
   },
   {
    "duration": 0,
    "start_time": "2024-11-04T17:07:21.388Z"
   },
   {
    "duration": 0,
    "start_time": "2024-11-04T17:07:21.390Z"
   },
   {
    "duration": 0,
    "start_time": "2024-11-04T17:07:21.418Z"
   },
   {
    "duration": 0,
    "start_time": "2024-11-04T17:07:21.419Z"
   },
   {
    "duration": 0,
    "start_time": "2024-11-04T17:07:21.420Z"
   },
   {
    "duration": 0,
    "start_time": "2024-11-04T17:07:21.421Z"
   },
   {
    "duration": 1363,
    "start_time": "2024-11-04T17:08:02.561Z"
   },
   {
    "duration": 43,
    "start_time": "2024-11-04T17:08:05.256Z"
   },
   {
    "duration": 32,
    "start_time": "2024-11-04T17:08:22.791Z"
   },
   {
    "duration": 32,
    "start_time": "2024-11-04T17:08:35.118Z"
   },
   {
    "duration": 36,
    "start_time": "2024-11-04T17:08:43.726Z"
   },
   {
    "duration": 218,
    "start_time": "2024-11-04T17:09:47.581Z"
   },
   {
    "duration": 29,
    "start_time": "2024-11-04T17:09:47.801Z"
   },
   {
    "duration": 2644,
    "start_time": "2024-11-04T17:09:52.739Z"
   },
   {
    "duration": 444,
    "start_time": "2024-11-04T17:16:55.748Z"
   },
   {
    "duration": 70,
    "start_time": "2024-11-04T17:19:33.048Z"
   },
   {
    "duration": 14,
    "start_time": "2024-11-04T17:20:08.780Z"
   },
   {
    "duration": 10,
    "start_time": "2024-11-04T17:21:16.616Z"
   },
   {
    "duration": 12,
    "start_time": "2024-11-04T17:21:33.882Z"
   },
   {
    "duration": 11,
    "start_time": "2024-11-04T17:23:15.317Z"
   },
   {
    "duration": 10,
    "start_time": "2024-11-04T17:23:27.403Z"
   },
   {
    "duration": 1734,
    "start_time": "2024-11-04T17:25:16.895Z"
   },
   {
    "duration": 3,
    "start_time": "2024-11-04T17:25:18.631Z"
   },
   {
    "duration": 5,
    "start_time": "2024-11-04T17:25:18.636Z"
   },
   {
    "duration": 1413,
    "start_time": "2024-11-04T17:25:18.643Z"
   },
   {
    "duration": 95,
    "start_time": "2024-11-04T17:25:20.058Z"
   },
   {
    "duration": 477,
    "start_time": "2024-11-04T17:25:20.154Z"
   },
   {
    "duration": 26,
    "start_time": "2024-11-04T17:25:20.633Z"
   },
   {
    "duration": 2624,
    "start_time": "2024-11-04T17:25:20.661Z"
   },
   {
    "duration": 1683,
    "start_time": "2024-11-04T17:34:11.550Z"
   },
   {
    "duration": 2,
    "start_time": "2024-11-04T17:34:13.235Z"
   },
   {
    "duration": 4,
    "start_time": "2024-11-04T17:34:13.239Z"
   },
   {
    "duration": 1010,
    "start_time": "2024-11-04T17:34:13.244Z"
   },
   {
    "duration": 42,
    "start_time": "2024-11-04T17:34:14.257Z"
   },
   {
    "duration": 233,
    "start_time": "2024-11-04T17:34:14.301Z"
   },
   {
    "duration": 24,
    "start_time": "2024-11-04T17:34:14.536Z"
   },
   {
    "duration": 3400,
    "start_time": "2024-11-04T17:34:14.561Z"
   },
   {
    "duration": 4,
    "start_time": "2024-11-04T17:34:17.963Z"
   },
   {
    "duration": 122,
    "start_time": "2024-11-04T17:34:17.968Z"
   },
   {
    "duration": 0,
    "start_time": "2024-11-04T17:34:18.092Z"
   },
   {
    "duration": 0,
    "start_time": "2024-11-04T17:34:18.093Z"
   },
   {
    "duration": 0,
    "start_time": "2024-11-04T17:34:18.094Z"
   },
   {
    "duration": 0,
    "start_time": "2024-11-04T17:34:18.095Z"
   },
   {
    "duration": 0,
    "start_time": "2024-11-04T17:34:18.096Z"
   },
   {
    "duration": 0,
    "start_time": "2024-11-04T17:34:18.097Z"
   },
   {
    "duration": 0,
    "start_time": "2024-11-04T17:34:18.098Z"
   },
   {
    "duration": 0,
    "start_time": "2024-11-04T17:34:18.099Z"
   },
   {
    "duration": 0,
    "start_time": "2024-11-04T17:34:18.100Z"
   },
   {
    "duration": 0,
    "start_time": "2024-11-04T17:34:18.101Z"
   },
   {
    "duration": 0,
    "start_time": "2024-11-04T17:34:18.118Z"
   },
   {
    "duration": 5,
    "start_time": "2024-11-04T17:34:31.205Z"
   },
   {
    "duration": 1547,
    "start_time": "2024-11-04T17:35:24.379Z"
   },
   {
    "duration": 2,
    "start_time": "2024-11-04T17:35:25.928Z"
   },
   {
    "duration": 14,
    "start_time": "2024-11-04T17:35:25.932Z"
   },
   {
    "duration": 996,
    "start_time": "2024-11-04T17:35:25.948Z"
   },
   {
    "duration": 128,
    "start_time": "2024-11-04T17:35:26.947Z"
   },
   {
    "duration": 0,
    "start_time": "2024-11-04T17:35:27.077Z"
   },
   {
    "duration": 0,
    "start_time": "2024-11-04T17:35:27.078Z"
   },
   {
    "duration": 0,
    "start_time": "2024-11-04T17:35:27.081Z"
   },
   {
    "duration": 0,
    "start_time": "2024-11-04T17:35:27.082Z"
   },
   {
    "duration": 0,
    "start_time": "2024-11-04T17:35:27.083Z"
   },
   {
    "duration": 0,
    "start_time": "2024-11-04T17:35:27.084Z"
   },
   {
    "duration": 0,
    "start_time": "2024-11-04T17:35:27.085Z"
   },
   {
    "duration": 0,
    "start_time": "2024-11-04T17:35:27.086Z"
   },
   {
    "duration": 0,
    "start_time": "2024-11-04T17:35:27.087Z"
   },
   {
    "duration": 0,
    "start_time": "2024-11-04T17:35:27.088Z"
   },
   {
    "duration": 0,
    "start_time": "2024-11-04T17:35:27.090Z"
   },
   {
    "duration": 0,
    "start_time": "2024-11-04T17:35:27.092Z"
   },
   {
    "duration": 0,
    "start_time": "2024-11-04T17:35:27.093Z"
   },
   {
    "duration": 0,
    "start_time": "2024-11-04T17:35:27.119Z"
   },
   {
    "duration": 1,
    "start_time": "2024-11-04T17:35:27.120Z"
   },
   {
    "duration": 0,
    "start_time": "2024-11-04T17:35:27.122Z"
   },
   {
    "duration": 0,
    "start_time": "2024-11-04T17:35:27.123Z"
   },
   {
    "duration": 49,
    "start_time": "2024-11-04T17:36:27.360Z"
   },
   {
    "duration": 5,
    "start_time": "2024-11-04T17:36:30.880Z"
   },
   {
    "duration": 7,
    "start_time": "2024-11-04T17:36:31.023Z"
   },
   {
    "duration": 12,
    "start_time": "2024-11-04T17:36:33.127Z"
   },
   {
    "duration": 4,
    "start_time": "2024-11-04T17:36:35.870Z"
   },
   {
    "duration": 5,
    "start_time": "2024-11-04T17:36:36.031Z"
   },
   {
    "duration": 2101,
    "start_time": "2024-11-04T17:36:36.519Z"
   },
   {
    "duration": 64,
    "start_time": "2024-11-04T17:37:14.528Z"
   },
   {
    "duration": 18,
    "start_time": "2024-11-04T17:37:22.633Z"
   },
   {
    "duration": 19,
    "start_time": "2024-11-04T17:37:37.835Z"
   },
   {
    "duration": 18,
    "start_time": "2024-11-04T17:38:10.880Z"
   },
   {
    "duration": 4,
    "start_time": "2024-11-04T17:38:34.008Z"
   },
   {
    "duration": 7,
    "start_time": "2024-11-04T17:38:59.915Z"
   },
   {
    "duration": 15,
    "start_time": "2024-11-04T17:43:49.025Z"
   },
   {
    "duration": 3,
    "start_time": "2024-11-04T17:43:53.522Z"
   },
   {
    "duration": 89,
    "start_time": "2024-11-04T17:43:55.728Z"
   },
   {
    "duration": 113,
    "start_time": "2024-11-04T17:44:14.271Z"
   },
   {
    "duration": 231,
    "start_time": "2024-11-04T17:45:04.208Z"
   },
   {
    "duration": 1603,
    "start_time": "2024-11-04T17:48:09.456Z"
   },
   {
    "duration": 3,
    "start_time": "2024-11-04T17:48:11.060Z"
   },
   {
    "duration": 4,
    "start_time": "2024-11-04T17:48:11.064Z"
   },
   {
    "duration": 1457,
    "start_time": "2024-11-04T17:48:11.070Z"
   },
   {
    "duration": 99,
    "start_time": "2024-11-04T17:48:12.528Z"
   },
   {
    "duration": 6,
    "start_time": "2024-11-04T17:48:12.629Z"
   },
   {
    "duration": 7,
    "start_time": "2024-11-04T17:48:12.637Z"
   },
   {
    "duration": 10,
    "start_time": "2024-11-04T17:48:12.645Z"
   },
   {
    "duration": 63,
    "start_time": "2024-11-04T17:48:12.656Z"
   },
   {
    "duration": 5,
    "start_time": "2024-11-04T17:48:12.722Z"
   },
   {
    "duration": 2167,
    "start_time": "2024-11-04T17:48:12.729Z"
   },
   {
    "duration": 20,
    "start_time": "2024-11-04T17:48:14.897Z"
   },
   {
    "duration": 8,
    "start_time": "2024-11-04T17:48:14.919Z"
   },
   {
    "duration": 14,
    "start_time": "2024-11-04T17:48:14.929Z"
   },
   {
    "duration": 17,
    "start_time": "2024-11-04T17:48:14.945Z"
   },
   {
    "duration": 276,
    "start_time": "2024-11-04T17:48:14.963Z"
   },
   {
    "duration": 0,
    "start_time": "2024-11-04T17:48:15.241Z"
   },
   {
    "duration": 0,
    "start_time": "2024-11-04T17:48:15.242Z"
   },
   {
    "duration": 0,
    "start_time": "2024-11-04T17:48:15.243Z"
   },
   {
    "duration": 0,
    "start_time": "2024-11-04T17:48:15.244Z"
   },
   {
    "duration": 0,
    "start_time": "2024-11-04T17:48:15.245Z"
   },
   {
    "duration": 0,
    "start_time": "2024-11-04T17:48:15.246Z"
   },
   {
    "duration": 2,
    "start_time": "2024-11-04T17:49:14.174Z"
   },
   {
    "duration": 396,
    "start_time": "2024-11-04T17:49:16.834Z"
   },
   {
    "duration": 88,
    "start_time": "2024-11-04T17:51:54.549Z"
   },
   {
    "duration": 7633,
    "start_time": "2024-11-04T17:52:54.386Z"
   },
   {
    "duration": 10,
    "start_time": "2024-11-04T17:53:06.541Z"
   },
   {
    "duration": 10,
    "start_time": "2024-11-04T17:53:10.193Z"
   },
   {
    "duration": 13,
    "start_time": "2024-11-04T17:53:14.162Z"
   },
   {
    "duration": 10,
    "start_time": "2024-11-04T17:53:21.566Z"
   },
   {
    "duration": 10,
    "start_time": "2024-11-04T17:53:27.391Z"
   },
   {
    "duration": 11,
    "start_time": "2024-11-04T17:53:36.951Z"
   },
   {
    "duration": 10,
    "start_time": "2024-11-04T17:55:09.864Z"
   },
   {
    "duration": 513,
    "start_time": "2024-11-04T17:55:31.108Z"
   },
   {
    "duration": 1633,
    "start_time": "2024-11-04T17:57:27.308Z"
   },
   {
    "duration": 3,
    "start_time": "2024-11-04T17:57:28.942Z"
   },
   {
    "duration": 5,
    "start_time": "2024-11-04T17:57:28.946Z"
   },
   {
    "duration": 1013,
    "start_time": "2024-11-04T17:57:28.953Z"
   },
   {
    "duration": 53,
    "start_time": "2024-11-04T17:57:29.968Z"
   },
   {
    "duration": 243,
    "start_time": "2024-11-04T17:57:30.023Z"
   },
   {
    "duration": 26,
    "start_time": "2024-11-04T17:57:30.268Z"
   },
   {
    "duration": 2591,
    "start_time": "2024-11-04T17:57:30.296Z"
   },
   {
    "duration": 4,
    "start_time": "2024-11-04T17:57:32.888Z"
   },
   {
    "duration": 5,
    "start_time": "2024-11-04T17:57:32.893Z"
   },
   {
    "duration": 736233,
    "start_time": "2024-11-04T17:57:32.899Z"
   },
   {
    "duration": 7485,
    "start_time": "2024-11-04T18:09:49.134Z"
   },
   {
    "duration": 6,
    "start_time": "2024-11-04T18:09:56.620Z"
   },
   {
    "duration": 69,
    "start_time": "2024-11-04T18:09:56.628Z"
   },
   {
    "duration": 3,
    "start_time": "2024-11-04T18:09:56.699Z"
   },
   {
    "duration": 17684,
    "start_time": "2024-11-06T08:47:24.875Z"
   },
   {
    "duration": 3672,
    "start_time": "2024-11-06T08:47:42.561Z"
   },
   {
    "duration": 3,
    "start_time": "2024-11-06T08:47:46.234Z"
   },
   {
    "duration": 9,
    "start_time": "2024-11-06T08:47:46.238Z"
   },
   {
    "duration": 1159,
    "start_time": "2024-11-06T08:47:46.248Z"
   },
   {
    "duration": 27,
    "start_time": "2024-11-06T08:47:47.408Z"
   },
   {
    "duration": 13877,
    "start_time": "2024-12-06T18:46:50.334Z"
   },
   {
    "duration": 2640,
    "start_time": "2024-12-06T18:47:04.213Z"
   },
   {
    "duration": 3,
    "start_time": "2024-12-06T18:47:06.855Z"
   },
   {
    "duration": 62,
    "start_time": "2024-12-06T18:47:06.860Z"
   },
   {
    "duration": 1405,
    "start_time": "2024-12-06T18:47:06.924Z"
   },
   {
    "duration": 45,
    "start_time": "2024-12-06T18:47:08.331Z"
   },
   {
    "duration": 243,
    "start_time": "2024-12-06T18:47:08.378Z"
   },
   {
    "duration": 26,
    "start_time": "2024-12-06T18:47:08.622Z"
   },
   {
    "duration": 43,
    "start_time": "2024-12-06T18:47:08.649Z"
   },
   {
    "duration": 3535,
    "start_time": "2024-12-06T18:47:08.696Z"
   },
   {
    "duration": 5,
    "start_time": "2024-12-06T18:47:12.234Z"
   },
   {
    "duration": 14,
    "start_time": "2024-12-06T18:47:12.240Z"
   },
   {
    "duration": 859277,
    "start_time": "2024-12-06T18:47:12.278Z"
   },
   {
    "duration": 8108,
    "start_time": "2024-12-06T19:01:31.557Z"
   },
   {
    "duration": 11,
    "start_time": "2024-12-06T19:01:39.667Z"
   },
   {
    "duration": 203,
    "start_time": "2024-12-06T19:01:39.679Z"
   },
   {
    "duration": 158546,
    "start_time": "2024-12-06T19:01:39.885Z"
   },
   {
    "duration": 189305,
    "start_time": "2024-12-06T19:04:18.433Z"
   },
   {
    "duration": 19,
    "start_time": "2024-12-06T19:07:27.740Z"
   },
   {
    "duration": 3058,
    "start_time": "2024-12-06T19:07:27.760Z"
   },
   {
    "duration": 0,
    "start_time": "2024-12-06T19:07:30.820Z"
   },
   {
    "duration": 0,
    "start_time": "2024-12-06T19:07:30.821Z"
   },
   {
    "duration": 0,
    "start_time": "2024-12-06T19:07:30.822Z"
   },
   {
    "duration": 0,
    "start_time": "2024-12-06T19:07:30.823Z"
   },
   {
    "duration": 0,
    "start_time": "2024-12-06T19:07:30.824Z"
   },
   {
    "duration": 0,
    "start_time": "2024-12-06T19:07:30.825Z"
   },
   {
    "duration": 0,
    "start_time": "2024-12-06T19:07:30.826Z"
   },
   {
    "duration": 0,
    "start_time": "2024-12-06T19:07:30.827Z"
   },
   {
    "duration": 0,
    "start_time": "2024-12-06T19:07:30.828Z"
   },
   {
    "duration": 0,
    "start_time": "2024-12-06T19:07:30.829Z"
   },
   {
    "duration": 0,
    "start_time": "2024-12-06T19:07:30.831Z"
   },
   {
    "duration": 0,
    "start_time": "2024-12-06T19:07:30.832Z"
   },
   {
    "duration": 0,
    "start_time": "2024-12-06T19:07:30.833Z"
   },
   {
    "duration": 0,
    "start_time": "2024-12-06T19:07:30.835Z"
   },
   {
    "duration": 82,
    "start_time": "2024-12-06T19:08:04.431Z"
   },
   {
    "duration": 5,
    "start_time": "2024-12-06T19:08:06.556Z"
   },
   {
    "duration": 6,
    "start_time": "2024-12-06T19:08:06.697Z"
   },
   {
    "duration": 1132882,
    "start_time": "2024-12-06T19:08:06.953Z"
   },
   {
    "duration": 11,
    "start_time": "2024-12-06T19:26:59.837Z"
   },
   {
    "duration": 6113620,
    "start_time": "2024-12-06T19:26:59.850Z"
   },
   {
    "duration": 15,
    "start_time": "2024-12-06T21:08:53.472Z"
   },
   {
    "duration": 1466103,
    "start_time": "2024-12-06T21:08:53.489Z"
   },
   {
    "duration": 15,
    "start_time": "2024-12-06T21:33:19.594Z"
   },
   {
    "duration": 6798,
    "start_time": "2024-12-06T21:33:19.611Z"
   },
   {
    "duration": 345,
    "start_time": "2024-12-06T21:33:26.411Z"
   },
   {
    "duration": 14580,
    "start_time": "2024-12-06T21:33:26.758Z"
   },
   {
    "duration": 3796,
    "start_time": "2024-12-06T21:33:41.340Z"
   },
   {
    "duration": 10,
    "start_time": "2024-12-06T21:33:45.137Z"
   },
   {
    "duration": 2646,
    "start_time": "2024-12-06T21:49:49.781Z"
   },
   {
    "duration": 2453,
    "start_time": "2024-12-06T21:50:26.284Z"
   },
   {
    "duration": 2494,
    "start_time": "2024-12-06T21:50:57.006Z"
   },
   {
    "duration": 2484,
    "start_time": "2024-12-06T21:52:00.999Z"
   }
  ],
  "kernelspec": {
   "display_name": "Python 3 (ipykernel)",
   "language": "python",
   "name": "python3"
  },
  "language_info": {
   "codemirror_mode": {
    "name": "ipython",
    "version": 3
   },
   "file_extension": ".py",
   "mimetype": "text/x-python",
   "name": "python",
   "nbconvert_exporter": "python",
   "pygments_lexer": "ipython3",
   "version": "3.9.21"
  },
  "toc": {
   "base_numbering": 1,
   "nav_menu": {},
   "number_sections": true,
   "sideBar": true,
   "skip_h1_title": true,
   "title_cell": "Содержание",
   "title_sidebar": "Contents",
   "toc_cell": true,
   "toc_position": {
    "height": "calc(100% - 180px)",
    "left": "10px",
    "top": "150px",
    "width": "302.361px"
   },
   "toc_section_display": true,
   "toc_window_display": true
  }
 },
 "nbformat": 4,
 "nbformat_minor": 4
}
